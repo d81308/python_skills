{
 "cells": [
  {
   "cell_type": "markdown",
   "id": "3b2ea2d1",
   "metadata": {},
   "source": [
    "# how to create index for a list\n",
    "## dataframe is one method\n",
    "## how about built-in list"
   ]
  },
  {
   "cell_type": "code",
   "execution_count": 2,
   "id": "36f9c566",
   "metadata": {},
   "outputs": [],
   "source": [
    "letters = ['a','b','c','d']"
   ]
  },
  {
   "cell_type": "code",
   "execution_count": 5,
   "id": "7d6bfa7b",
   "metadata": {},
   "outputs": [],
   "source": [
    "letters_index = enumerate(letters,start=5)"
   ]
  },
  {
   "cell_type": "code",
   "execution_count": 7,
   "id": "684582f7",
   "metadata": {},
   "outputs": [
    {
     "name": "stdout",
     "output_type": "stream",
     "text": [
      "<enumerate object at 0x7fd26e48c480>\n"
     ]
    }
   ],
   "source": [
    "print(letters_index)"
   ]
  },
  {
   "cell_type": "code",
   "execution_count": 5,
   "id": "dd112824",
   "metadata": {},
   "outputs": [
    {
     "data": {
      "text/plain": [
       "[(5, 'a'), (6, 'b'), (7, 'c'), (8, 'd')]"
      ]
     },
     "execution_count": 5,
     "metadata": {},
     "output_type": "execute_result"
    }
   ],
   "source": [
    "show_letters_index = list(letters_index)\n",
    "show_letters_index"
   ]
  },
  {
   "cell_type": "markdown",
   "id": "0f2bc7b4",
   "metadata": {},
   "source": [
    "# for loop"
   ]
  },
  {
   "cell_type": "code",
   "execution_count": 6,
   "id": "fac2272a",
   "metadata": {},
   "outputs": [
    {
     "name": "stdout",
     "output_type": "stream",
     "text": [
      "[(5, 'a'), (6, 'b'), (7, 'c'), (8, 'd')]\n"
     ]
    }
   ],
   "source": [
    "for_loop = []\n",
    "for index in letters_index:\n",
    "    for_loop.append(index)\n",
    "    \n",
    "print(for_loop)"
   ]
  },
  {
   "cell_type": "markdown",
   "id": "222406ee",
   "metadata": {},
   "source": [
    "# * loop"
   ]
  },
  {
   "cell_type": "code",
   "execution_count": 4,
   "id": "968c2f7f",
   "metadata": {
    "scrolled": true
   },
   "outputs": [
    {
     "data": {
      "text/plain": [
       "[(2, 'a'), (3, 'b'), (4, 'c'), (5, 'd')]"
      ]
     },
     "execution_count": 4,
     "metadata": {},
     "output_type": "execute_result"
    }
   ],
   "source": [
    "list_loop = [*enumerate(letters,start=2)]\n",
    "list_loop"
   ]
  },
  {
   "cell_type": "code",
   "execution_count": null,
   "id": "b391aa88",
   "metadata": {},
   "outputs": [],
   "source": []
  }
 ],
 "metadata": {
  "kernelspec": {
   "display_name": "Python 3",
   "language": "python",
   "name": "python3"
  },
  "language_info": {
   "codemirror_mode": {
    "name": "ipython",
    "version": 3
   },
   "file_extension": ".py",
   "mimetype": "text/x-python",
   "name": "python",
   "nbconvert_exporter": "python",
   "pygments_lexer": "ipython3",
   "version": "3.8.8"
  }
 },
 "nbformat": 4,
 "nbformat_minor": 5
}
