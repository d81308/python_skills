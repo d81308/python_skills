{
 "cells": [
  {
   "cell_type": "markdown",
   "id": "0ec4151b",
   "metadata": {},
   "source": [
    "# how to create index for a list\n",
    "## dataframe is one method\n",
    "## how about built-in list"
   ]
  },
  {
   "cell_type": "code",
   "execution_count": 1,
   "id": "4152d1b3",
   "metadata": {},
   "outputs": [],
   "source": [
    "letters = ['a','b','c','d']"
   ]
  },
  {
   "cell_type": "code",
   "execution_count": 2,
   "id": "d07ae471",
   "metadata": {},
   "outputs": [],
   "source": [
    "letters_index = enumerate(letters,start=5)"
   ]
  },
  {
   "cell_type": "code",
   "execution_count": null,
   "id": "305b2c89",
   "metadata": {},
   "outputs": [],
   "source": [
    "letter"
   ]
  }
 ],
 "metadata": {
  "kernelspec": {
   "display_name": "Python 3",
   "language": "python",
   "name": "python3"
  },
  "language_info": {
   "codemirror_mode": {
    "name": "ipython",
    "version": 3
   },
   "file_extension": ".py",
   "mimetype": "text/x-python",
   "name": "python",
   "nbconvert_exporter": "python",
   "pygments_lexer": "ipython3",
   "version": "3.8.8"
  }
 },
 "nbformat": 4,
 "nbformat_minor": 5
}
