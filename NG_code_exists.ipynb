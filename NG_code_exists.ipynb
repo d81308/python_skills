{
 "cells": [
  {
   "cell_type": "markdown",
   "id": "b60c6d00",
   "metadata": {},
   "source": [
    "# logging function"
   ]
  },
  {
   "cell_type": "code",
   "execution_count": 1,
   "id": "8e542eba",
   "metadata": {},
   "outputs": [
    {
     "data": {
      "application/javascript": [
       "\n",
       "console.log('Starting front end url_querystring_target comm target');\n",
       "const comm = Jupyter.notebook.kernel.comm_manager.new_comm('url_querystring_target', {'init': 1});\n",
       "comm.send({'ipyparams_browser_url': window.location.href});\n",
       "console.log('Sent window.location.href on url_querystring_target comm target');\n",
       "\n",
       "comm.on_msg(function(msg) {\n",
       "    console.log(msg.content.data);\n",
       "});\n"
      ],
      "text/plain": [
       "<IPython.core.display.Javascript object>"
      ]
     },
     "metadata": {},
     "output_type": "display_data"
    }
   ],
   "source": [
    "from datetime import datetime\n",
    "import ipyparams\n",
    "\n",
    "currentNotebook = ipyparams.notebook_name\n",
    "split_name = currentNotebook.split(\".\")\n",
    "\n",
    "target = split_name[0]\n",
    "tmp_file = target + 'tmp.tmp'\n",
    "log_file = target + '_log_file.txt'\n",
    "target_file = target + '_transformed.csv'\n",
    "\n",
    "def log(prioity,messenage):\n",
    "    datetime_stamp = \"%Y-%m-%d %H:%M:%S\"\n",
    "    now_time = datetime.now()\n",
    "    datetime_log = now_time.strftime(datetime_stamp)\n",
    "    with open(log_file,'a') as f:\n",
    "        f.write(datetime_log + ',' + '[' + prioity + ']' + messenage + '\\n')"
   ]
  },
  {
   "cell_type": "code",
   "execution_count": null,
   "id": "29b296d7",
   "metadata": {},
   "outputs": [],
   "source": [
    "log(\"action\",\"correct in load_ext sql\")"
   ]
  },
  {
   "cell_type": "markdown",
   "id": "a6f9ccc2",
   "metadata": {},
   "source": [
    "# start to use sqlite3"
   ]
  },
  {
   "cell_type": "code",
   "execution_count": 2,
   "id": "ac8b75ad",
   "metadata": {},
   "outputs": [],
   "source": [
    "%load_ext sql"
   ]
  },
  {
   "cell_type": "code",
   "execution_count": 3,
   "id": "ee35d971",
   "metadata": {},
   "outputs": [],
   "source": [
    "import csv, sqlite3\n",
    "\n",
    "con = sqlite3.connect(\"socieconomic.db\")\n",
    "cur = con.cursor()"
   ]
  },
  {
   "cell_type": "code",
   "execution_count": 4,
   "id": "eba663b8",
   "metadata": {},
   "outputs": [],
   "source": [
    "%sql sqlite:///socioeconomic.db"
   ]
  },
  {
   "cell_type": "code",
   "execution_count": null,
   "id": "32db7a22",
   "metadata": {},
   "outputs": [],
   "source": [
    "import pandas\n",
    "df = pandas.read_csv('https://data.cityofchicago.org/resource/jcxq-k9xf.csv')\n",
    "df.to_sql(\"chicago_socioeconomic_data\", con, if_exists='replace', index=False,method=\"multi\")\n"
   ]
  },
  {
   "cell_type": "markdown",
   "id": "41aeb8f0",
   "metadata": {},
   "source": [
    "# query result"
   ]
  },
  {
   "cell_type": "code",
   "execution_count": 6,
   "id": "f1a8073f",
   "metadata": {
    "scrolled": true
   },
   "outputs": [
    {
     "name": "stdout",
     "output_type": "stream",
     "text": [
      " * sqlite:///socioeconomic.db\n",
      "Done.\n"
     ]
    },
    {
     "data": {
      "text/html": [
       "<table>\n",
       "    <tr>\n",
       "        <th>ca</th>\n",
       "        <th>community_area_name</th>\n",
       "        <th>percent_of_housing_crowded</th>\n",
       "        <th>percent_households_below_poverty</th>\n",
       "        <th>percent_aged_16_unemployed</th>\n",
       "        <th>percent_aged_25_without_high_school_diploma</th>\n",
       "        <th>percent_aged_under_18_or_over_64</th>\n",
       "        <th>per_capita_income_</th>\n",
       "        <th>hardship_index</th>\n",
       "    </tr>\n",
       "    <tr>\n",
       "        <td>1.0</td>\n",
       "        <td>Rogers Park</td>\n",
       "        <td>7.7</td>\n",
       "        <td>23.6</td>\n",
       "        <td>8.7</td>\n",
       "        <td>18.2</td>\n",
       "        <td>27.5</td>\n",
       "        <td>23939</td>\n",
       "        <td>39.0</td>\n",
       "    </tr>\n",
       "    <tr>\n",
       "        <td>2.0</td>\n",
       "        <td>West Ridge</td>\n",
       "        <td>7.8</td>\n",
       "        <td>17.2</td>\n",
       "        <td>8.8</td>\n",
       "        <td>20.8</td>\n",
       "        <td>38.5</td>\n",
       "        <td>23040</td>\n",
       "        <td>46.0</td>\n",
       "    </tr>\n",
       "    <tr>\n",
       "        <td>3.0</td>\n",
       "        <td>Uptown</td>\n",
       "        <td>3.8</td>\n",
       "        <td>24.0</td>\n",
       "        <td>8.9</td>\n",
       "        <td>11.8</td>\n",
       "        <td>22.2</td>\n",
       "        <td>35787</td>\n",
       "        <td>20.0</td>\n",
       "    </tr>\n",
       "    <tr>\n",
       "        <td>4.0</td>\n",
       "        <td>Lincoln Square</td>\n",
       "        <td>3.4</td>\n",
       "        <td>10.9</td>\n",
       "        <td>8.2</td>\n",
       "        <td>13.4</td>\n",
       "        <td>25.5</td>\n",
       "        <td>37524</td>\n",
       "        <td>17.0</td>\n",
       "    </tr>\n",
       "    <tr>\n",
       "        <td>5.0</td>\n",
       "        <td>North Center</td>\n",
       "        <td>0.3</td>\n",
       "        <td>7.5</td>\n",
       "        <td>5.2</td>\n",
       "        <td>4.5</td>\n",
       "        <td>26.2</td>\n",
       "        <td>57123</td>\n",
       "        <td>6.0</td>\n",
       "    </tr>\n",
       "</table>"
      ],
      "text/plain": [
       "[(1.0, 'Rogers Park', 7.7, 23.6, 8.7, 18.2, 27.5, 23939, 39.0),\n",
       " (2.0, 'West Ridge', 7.8, 17.2, 8.8, 20.8, 38.5, 23040, 46.0),\n",
       " (3.0, 'Uptown', 3.8, 24.0, 8.9, 11.8, 22.2, 35787, 20.0),\n",
       " (4.0, 'Lincoln Square', 3.4, 10.9, 8.2, 13.4, 25.5, 37524, 17.0),\n",
       " (5.0, 'North Center', 0.3, 7.5, 5.2, 4.5, 26.2, 57123, 6.0)]"
      ]
     },
     "execution_count": 6,
     "metadata": {},
     "output_type": "execute_result"
    }
   ],
   "source": [
    "%%sql\n",
    "SELECT * \n",
    "FROM chicago_socioeconomic_data\n",
    "limit 5;"
   ]
  },
  {
   "cell_type": "code",
   "execution_count": 7,
   "id": "d0893b6a",
   "metadata": {},
   "outputs": [
    {
     "name": "stdout",
     "output_type": "stream",
     "text": [
      "[(1.0, 'Rogers Park', 7.7, 23.6, 8.7, 18.2, 27.5, 23939, 39.0), (2.0, 'West Ridge', 7.8, 17.2, 8.8, 20.8, 38.5, 23040, 46.0), (3.0, 'Uptown', 3.8, 24.0, 8.9, 11.8, 22.2, 35787, 20.0), (4.0, 'Lincoln Square', 3.4, 10.9, 8.2, 13.4, 25.5, 37524, 17.0), (5.0, 'North Center', 0.3, 7.5, 5.2, 4.5, 26.2, 57123, 6.0)]\n"
     ]
    }
   ],
   "source": [
    "query_result = cur.execute(\"\"\" SELECT * FROM chicago_socioeconomic_data limit 5;\"\"\")\n",
    "print(query_result.fetchall())"
   ]
  },
  {
   "cell_type": "markdown",
   "id": "c32a55fb",
   "metadata": {},
   "source": [
    "# table exists"
   ]
  },
  {
   "cell_type": "code",
   "execution_count": null,
   "id": "bcd5a77f",
   "metadata": {},
   "outputs": [],
   "source": [
    "%sql SELECT name FROM sqlite_schema WHERE type='table';"
   ]
  },
  {
   "cell_type": "code",
   "execution_count": null,
   "id": "6685af27",
   "metadata": {},
   "outputs": [],
   "source": [
    "result = cur.execute(\"\"\" SELECT name FROM sqlite_master WHERE type='table';\"\"\")\n",
    "print(result.fetchall())"
   ]
  },
  {
   "cell_type": "markdown",
   "id": "4d51430b",
   "metadata": {},
   "source": [
    "# put %load_ext sql into .to_sql()"
   ]
  },
  {
   "cell_type": "code",
   "execution_count": null,
   "id": "eae08e62",
   "metadata": {},
   "outputs": [],
   "source": [
    "con2 = %sql sqlite:///socioeconomic.db\n",
    "cur2 = con2.cursor()"
   ]
  },
  {
   "cell_type": "code",
   "execution_count": null,
   "id": "c2bfd9c5",
   "metadata": {},
   "outputs": [],
   "source": [
    "df.to_sql(\"chicago_socioeconomic_data\", con2, if_exists='replace', index=False,method=\"multi\")"
   ]
  },
  {
   "cell_type": "code",
   "execution_count": null,
   "id": "ac66806c",
   "metadata": {},
   "outputs": [],
   "source": []
  }
 ],
 "metadata": {
  "kernelspec": {
   "display_name": "Python 3",
   "language": "python",
   "name": "python3"
  },
  "language_info": {
   "codemirror_mode": {
    "name": "ipython",
    "version": 3
   },
   "file_extension": ".py",
   "mimetype": "text/x-python",
   "name": "python",
   "nbconvert_exporter": "python",
   "pygments_lexer": "ipython3",
   "version": "3.8.8"
  }
 },
 "nbformat": 4,
 "nbformat_minor": 5
}
