{
 "cells": [
  {
   "cell_type": "markdown",
   "id": "38b3d7b7",
   "metadata": {},
   "source": [
    "# format"
   ]
  },
  {
   "cell_type": "code",
   "execution_count": 2,
   "id": "3d5e8ff0",
   "metadata": {},
   "outputs": [],
   "source": [
    "engineer = \"neil wu FAE\""
   ]
  },
  {
   "cell_type": "code",
   "execution_count": 4,
   "id": "ed58f503",
   "metadata": {},
   "outputs": [
    {
     "data": {
      "text/plain": [
       "'neil wu job is FAE in in lasertec,'"
      ]
     },
     "execution_count": 4,
     "metadata": {},
     "output_type": "execute_result"
    }
   ],
   "source": [
    "engineer_info = \"neil wu job is {} in {},\".format(\"FAE\",\"in lasertec\")\n",
    "engineer_info"
   ]
  },
  {
   "cell_type": "markdown",
   "id": "28d74d6b",
   "metadata": {},
   "source": [
    "# more functional"
   ]
  },
  {
   "cell_type": "code",
   "execution_count": 5,
   "id": "08b4d38f",
   "metadata": {},
   "outputs": [
    {
     "data": {
      "text/plain": [
       "'neil wu job is FAE in lasertec'"
      ]
     },
     "execution_count": 5,
     "metadata": {},
     "output_type": "execute_result"
    }
   ],
   "source": [
    "engineer_temp = \"neil wu job is {} in {}\"\n",
    "job = \"FAE\"\n",
    "company = \"lasertec\"\n",
    "\n",
    "engineer_info = engineer_temp.format(job,company)\n",
    "engineer_info"
   ]
  },
  {
   "cell_type": "markdown",
   "id": "b998fe0b",
   "metadata": {},
   "source": [
    "# make order for format"
   ]
  },
  {
   "cell_type": "markdown",
   "id": "60213061",
   "metadata": {},
   "source": [
    "#### order formatting"
   ]
  },
  {
   "cell_type": "code",
   "execution_count": 16,
   "id": "fae3cfcd",
   "metadata": {},
   "outputs": [],
   "source": [
    "def resp_order(order,job,company):\n",
    "    job_order = \"{0} has responsiblity to service customer, with {1} training\"\n",
    "    company_order = \"{1} has responsiblity to service customer, with {0} training\"\n",
    "    \n",
    "    if order == 'job':\n",
    "        return job_order.format(job,company)\n",
    "    elif order == 'company':\n",
    "        return company_order.format(company,job)\n",
    "    else:\n",
    "        return print('wrong order')"
   ]
  },
  {
   "cell_type": "code",
   "execution_count": 17,
   "id": "6efab499",
   "metadata": {},
   "outputs": [
    {
     "name": "stdout",
     "output_type": "stream",
     "text": [
      "CSE has responsiblity to service customer, with lasertec training\n",
      "FAE has responsiblity to service customer, with lasertec training\n"
     ]
    }
   ],
   "source": [
    "print(resp_order('job','CSE','lasertec'))\n",
    "print(resp_order('company','FAE','lasertec'))"
   ]
  },
  {
   "cell_type": "markdown",
   "id": "86d139e9",
   "metadata": {},
   "source": [
    "#### variable formatting"
   ]
  },
  {
   "cell_type": "code",
   "execution_count": 14,
   "id": "c71bade4",
   "metadata": {},
   "outputs": [],
   "source": [
    "def resp_var(order,job,company):\n",
    "    res_tra = \"{r} has responsiblity to service customer, with {t} training\"\n",
    "    \n",
    "    if order == 'job':\n",
    "        return res_tra.format(r=job,t=company)\n",
    "    elif order == 'company':\n",
    "        return res_tra.format(r=company,t=job)\n",
    "    else:\n",
    "        return print('wrong order')"
   ]
  },
  {
   "cell_type": "code",
   "execution_count": 15,
   "id": "0d2b67f7",
   "metadata": {},
   "outputs": [
    {
     "name": "stdout",
     "output_type": "stream",
     "text": [
      "CSE has responsiblity to service customer, with lasertec training\n",
      "lasertec has responsiblity to service customer, with FAE training\n"
     ]
    }
   ],
   "source": [
    "print(resp_var('job','CSE','lasertec'))\n",
    "print(resp_var('company','FAE','lasertec'))"
   ]
  },
  {
   "cell_type": "markdown",
   "id": "5255d57a",
   "metadata": {},
   "source": [
    "#### dict formatting"
   ]
  },
  {
   "cell_type": "code",
   "execution_count": 26,
   "id": "55bb1e06",
   "metadata": {},
   "outputs": [],
   "source": [
    "def resp_dict(order):\n",
    "    res_tra = \"{data[resp]} has responsiblity to service customer, with {data[train]} training\"\n",
    "    \n",
    "    job_resp = {'resp':'FAE', 'train':'lasertec'}\n",
    "    company_resp = {'resp':'lasertec', 'train':'FAE team'}\n",
    "    \n",
    "    if order == 'job':\n",
    "        return res_tra.format(data=job_resp)\n",
    "    elif order == 'company':\n",
    "        return res_tra.format(data=company_resp)\n",
    "    else:\n",
    "        return print('wrong order')"
   ]
  },
  {
   "cell_type": "code",
   "execution_count": 29,
   "id": "e2794001",
   "metadata": {},
   "outputs": [
    {
     "name": "stdout",
     "output_type": "stream",
     "text": [
      "FAE has responsiblity to service customer, with lasertec training\n",
      "lasertec has responsiblity to service customer, with FAE team training\n"
     ]
    }
   ],
   "source": [
    "print(resp_dict('job'))\n",
    "print(resp_dict('company'))"
   ]
  },
  {
   "cell_type": "markdown",
   "id": "4ad74945",
   "metadata": {},
   "source": [
    "# float formatting"
   ]
  },
  {
   "cell_type": "code",
   "execution_count": 44,
   "id": "1727eb49",
   "metadata": {},
   "outputs": [
    {
     "name": "stdout",
     "output_type": "stream",
     "text": [
      "ori number: 50.7878% responsibilty in this issue, and lasertec need call FAE\n",
      "f number: 50.787800% responsibilty in this issue, and lasertec need call FAE\n",
      ".2f number: 50.79% responsibilty in this issue, and lasertec need call FAE\n"
     ]
    }
   ],
   "source": [
    "print('ori number:',\"{0}% responsibilty in this issue, and {1} need call {2}\".format(50.7878,'lasertec','FAE'))\n",
    "print('f number:',\"{0:f}% responsibilty in this issue, and {1} need call {2}\".format(50.7878,'lasertec','FAE'))\n",
    "print('.2f number:',\"{0:.2f}% responsibilty in this issue, and {1} need call {2}\".format(50.7878,'lasertec','FAE'))"
   ]
  },
  {
   "cell_type": "code",
   "execution_count": null,
   "id": "b34579a6",
   "metadata": {},
   "outputs": [],
   "source": []
  }
 ],
 "metadata": {
  "kernelspec": {
   "display_name": "Python 3 (ipykernel)",
   "language": "python",
   "name": "python3"
  },
  "language_info": {
   "codemirror_mode": {
    "name": "ipython",
    "version": 3
   },
   "file_extension": ".py",
   "mimetype": "text/x-python",
   "name": "python",
   "nbconvert_exporter": "python",
   "pygments_lexer": "ipython3",
   "version": "3.8.8"
  }
 },
 "nbformat": 4,
 "nbformat_minor": 5
}
