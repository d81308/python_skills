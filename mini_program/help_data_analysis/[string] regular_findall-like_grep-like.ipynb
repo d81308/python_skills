{
 "cells": [
  {
   "cell_type": "code",
   "execution_count": 1,
   "id": "a53720b9",
   "metadata": {},
   "outputs": [],
   "source": [
    "import re"
   ]
  },
  {
   "cell_type": "markdown",
   "id": "0c405356",
   "metadata": {},
   "source": [
    "# findall like web-scraping"
   ]
  },
  {
   "cell_type": "code",
   "execution_count": 2,
   "id": "3f5c8563",
   "metadata": {},
   "outputs": [],
   "source": [
    "engineer = \"the FAE job, do FAE resp, customer call FAE for requests\""
   ]
  },
  {
   "cell_type": "code",
   "execution_count": 3,
   "id": "e6768aaa",
   "metadata": {},
   "outputs": [
    {
     "data": {
      "text/plain": [
       "['FAE', 'FAE', 'FAE']"
      ]
     },
     "execution_count": 3,
     "metadata": {},
     "output_type": "execute_result"
    }
   ],
   "source": [
    "re.findall(r\"FAE\",engineer)"
   ]
  },
  {
   "cell_type": "markdown",
   "id": "99fcdf02",
   "metadata": {},
   "source": [
    "# do split"
   ]
  },
  {
   "cell_type": "code",
   "execution_count": 4,
   "id": "40f842b3",
   "metadata": {},
   "outputs": [
    {
     "data": {
      "text/plain": [
       "['the FAE job', ' do FAE resp', ' customer call FAE for requests']"
      ]
     },
     "execution_count": 4,
     "metadata": {},
     "output_type": "execute_result"
    }
   ],
   "source": [
    "re.split(r\",\",engineer)"
   ]
  },
  {
   "cell_type": "markdown",
   "id": "d39b8c86",
   "metadata": {},
   "source": [
    "# do replace"
   ]
  },
  {
   "cell_type": "code",
   "execution_count": 7,
   "id": "278cdb42",
   "metadata": {},
   "outputs": [
    {
     "data": {
      "text/plain": [
       "'the AE job, do AE resp, customer call AE for requests'"
      ]
     },
     "execution_count": 7,
     "metadata": {},
     "output_type": "execute_result"
    }
   ],
   "source": [
    "re.sub(r\"FAE\",\"AE\",engineer)"
   ]
  },
  {
   "cell_type": "markdown",
   "id": "f16cbd21",
   "metadata": {},
   "source": [
    "# extract digital or not"
   ]
  },
  {
   "cell_type": "code",
   "execution_count": 15,
   "id": "486127d3",
   "metadata": {},
   "outputs": [],
   "source": [
    "#toolA is not tool name\n",
    "intro = \"tool1 in the 3 toolA model in better than tool3\""
   ]
  },
  {
   "cell_type": "code",
   "execution_count": 10,
   "id": "c0ecfb9f",
   "metadata": {},
   "outputs": [
    {
     "data": {
      "text/plain": [
       "['tool1', 'tool3']"
      ]
     },
     "execution_count": 10,
     "metadata": {},
     "output_type": "execute_result"
    }
   ],
   "source": [
    "#find the tool list\n",
    "re.findall(r\"tool\\d\",intro)"
   ]
  },
  {
   "cell_type": "code",
   "execution_count": 11,
   "id": "8466c44c",
   "metadata": {},
   "outputs": [
    {
     "data": {
      "text/plain": [
       "['toolA']"
      ]
     },
     "execution_count": 11,
     "metadata": {},
     "output_type": "execute_result"
    }
   ],
   "source": [
    "#find the tool model\n",
    "re.findall(r\"tool\\D\",intro)"
   ]
  },
  {
   "cell_type": "markdown",
   "id": "fc283a98",
   "metadata": {},
   "source": [
    "# metacharacter"
   ]
  },
  {
   "cell_type": "markdown",
   "id": "4fb76f4e",
   "metadata": {},
   "source": [
    "#### find model with \\w, word matching metacharacter"
   ]
  },
  {
   "cell_type": "code",
   "execution_count": 22,
   "id": "5ad10c11",
   "metadata": {},
   "outputs": [
    {
     "data": {
      "text/plain": [
       "['tool1', 'toolA', 'tool3']"
      ]
     },
     "execution_count": 22,
     "metadata": {},
     "output_type": "execute_result"
    }
   ],
   "source": [
    "re.findall(r\"tool\\w\",intro)"
   ]
  },
  {
   "cell_type": "code",
   "execution_count": 20,
   "id": "08bac9f7",
   "metadata": {},
   "outputs": [
    {
     "data": {
      "text/plain": [
       "[' 3']"
      ]
     },
     "execution_count": 20,
     "metadata": {},
     "output_type": "execute_result"
    }
   ],
   "source": [
    "re.findall(r\"\\W\\d\",intro)"
   ]
  },
  {
   "cell_type": "code",
   "execution_count": 21,
   "id": "338af9f8",
   "metadata": {},
   "outputs": [
    {
     "data": {
      "text/plain": [
       "[' i', ' t', ' t', ' m', ' i', ' b', ' t', ' t']"
      ]
     },
     "execution_count": 21,
     "metadata": {},
     "output_type": "execute_result"
    }
   ],
   "source": [
    "re.findall(r\"\\W\\D\",intro)"
   ]
  },
  {
   "cell_type": "markdown",
   "id": "e4840248",
   "metadata": {},
   "source": [
    "#### \\s space"
   ]
  },
  {
   "cell_type": "code",
   "execution_count": 35,
   "id": "56855f9b",
   "metadata": {},
   "outputs": [],
   "source": [
    "intro_model = \"tool1(toolA-model) in the 3 toolA model in better than tool3 in model-toolB\""
   ]
  },
  {
   "cell_type": "code",
   "execution_count": 28,
   "id": "28e3dacd",
   "metadata": {},
   "outputs": [
    {
     "name": "stdout",
     "output_type": "stream",
     "text": [
      "['toolA model']\n",
      "[]\n"
     ]
    }
   ],
   "source": [
    "print(re.findall(r\"toolA\\smodel\",intro))\n",
    "print(re.findall(r\"model\\stoolB\",intro))"
   ]
  },
  {
   "cell_type": "markdown",
   "id": "91115ef5",
   "metadata": {},
   "source": [
    "    in this task, member could use two speaking\n",
    "    toolA model\n",
    "    model-toolA\n",
    "    other are wrong form\n",
    "    \n",
    "    we can consider all possible of them"
   ]
  },
  {
   "cell_type": "code",
   "execution_count": 42,
   "id": "e26b5b62",
   "metadata": {},
   "outputs": [
    {
     "name": "stdout",
     "output_type": "stream",
     "text": [
      "['toolA model']\n",
      "[]\n",
      "[]\n",
      "['model-toolB']\n"
     ]
    }
   ],
   "source": [
    "## the model key word finding project\n",
    "tool='A'\n",
    "print(re.findall(r\"tool\"+tool+\"\\smodel\",intro_model))\n",
    "print(re.findall(r\"model\\StoolA\",intro_model))\n",
    "\n",
    "print(re.findall(r\"toolB\\smodel\",intro_model))\n",
    "print(re.findall(r\"model\\StoolB\",intro_model))"
   ]
  },
  {
   "cell_type": "code",
   "execution_count": 38,
   "id": "8d19651f",
   "metadata": {},
   "outputs": [],
   "source": [
    "intro_model = \"tool1(toolA-model) in the 3 toolA model in better than tool3 in model-toolB\"\n",
    "tools = ['A','B']"
   ]
  },
  {
   "cell_type": "code",
   "execution_count": 76,
   "id": "feb09ad0",
   "metadata": {},
   "outputs": [],
   "source": [
    "def model_checker(intro,tools):\n",
    "    speak_checker = {'ok':[],'ng':[]}\n",
    "    for tool in tools:\n",
    "        speaks = [r\"tool\"+tool+\"\\smodel\",r\"model\\Stool\"+tool]\n",
    "        ng_speaks = [r\"tool\"+tool+\"\\Smodel\",r\"model\\stool\"+tool]\n",
    "        for speak in speaks:\n",
    "            if re.findall(speak,intro) == []:\n",
    "                pass\n",
    "            else:\n",
    "                for find_result in re.findall(speak,intro):\n",
    "                    speak_checker['ok'].append(find_result)\n",
    "        for ng_speak in ng_speaks:\n",
    "            if re.findall(ng_speak,intro) == []:\n",
    "                pass\n",
    "            else:\n",
    "                for find_result in re.findall(ng_speak,intro):\n",
    "                    speak_checker['ng'].append(find_result)\n",
    "            \n",
    "    return speak_checker"
   ]
  },
  {
   "cell_type": "code",
   "execution_count": 77,
   "id": "5add4385",
   "metadata": {},
   "outputs": [
    {
     "data": {
      "text/plain": [
       "{'ok': ['toolA model', 'model-toolB'], 'ng': ['toolA-model']}"
      ]
     },
     "execution_count": 77,
     "metadata": {},
     "output_type": "execute_result"
    }
   ],
   "source": [
    "model_checker(intro_model,tools)"
   ]
  },
  {
   "cell_type": "code",
   "execution_count": null,
   "id": "fcdd021b",
   "metadata": {},
   "outputs": [],
   "source": []
  }
 ],
 "metadata": {
  "kernelspec": {
   "display_name": "Python 3 (ipykernel)",
   "language": "python",
   "name": "python3"
  },
  "language_info": {
   "codemirror_mode": {
    "name": "ipython",
    "version": 3
   },
   "file_extension": ".py",
   "mimetype": "text/x-python",
   "name": "python",
   "nbconvert_exporter": "python",
   "pygments_lexer": "ipython3",
   "version": "3.8.8"
  }
 },
 "nbformat": 4,
 "nbformat_minor": 5
}
