{
 "cells": [
  {
   "cell_type": "markdown",
   "id": "bdc2cf51",
   "metadata": {},
   "source": [
    "# variable string formatting"
   ]
  },
  {
   "cell_type": "code",
   "execution_count": 5,
   "id": "41cd13d0",
   "metadata": {},
   "outputs": [
    {
     "name": "stdout",
     "output_type": "stream",
     "text": [
      "the engineer {name}, is job {job}\n"
     ]
    }
   ],
   "source": [
    "name='neil wu'\n",
    "job='FAE'\n",
    "\n",
    "print(\"the engineer {name}, is job {job}\")"
   ]
  },
  {
   "cell_type": "markdown",
   "id": "1cd7208e",
   "metadata": {},
   "source": [
    "#### problem"
   ]
  },
  {
   "cell_type": "markdown",
   "id": "017ccb9e",
   "metadata": {},
   "source": [
    "    the variable do not send in"
   ]
  },
  {
   "cell_type": "markdown",
   "id": "3732e206",
   "metadata": {},
   "source": [
    "    if we need send variable into string:{}, need .format()"
   ]
  },
  {
   "cell_type": "code",
   "execution_count": 4,
   "id": "35e13ddb",
   "metadata": {},
   "outputs": [
    {
     "name": "stdout",
     "output_type": "stream",
     "text": [
      "the engineer neil wu, is job FAE\n"
     ]
    }
   ],
   "source": [
    "print(\"the engineer {name}, is job {job}\".format(name=name,job=job))"
   ]
  },
  {
   "cell_type": "markdown",
   "id": "c81ec442",
   "metadata": {},
   "source": [
    "# or other formatting tip is f-string"
   ]
  },
  {
   "cell_type": "code",
   "execution_count": 6,
   "id": "b90a8862",
   "metadata": {},
   "outputs": [
    {
     "name": "stdout",
     "output_type": "stream",
     "text": [
      "the engineer neil wu, is job FAE\n"
     ]
    }
   ],
   "source": [
    "print(f\"the engineer {name}, is job {job}\")"
   ]
  },
  {
   "cell_type": "markdown",
   "id": "5e5a494d",
   "metadata": {},
   "source": [
    "#### quot"
   ]
  },
  {
   "cell_type": "code",
   "execution_count": 10,
   "id": "7ed5c93b",
   "metadata": {},
   "outputs": [
    {
     "name": "stdout",
     "output_type": "stream",
     "text": [
      "the engineer 'neil wu', is job 'FAE'\n"
     ]
    }
   ],
   "source": [
    "print(f\"the engineer {name!r}, is job {job!a}\")"
   ]
  },
  {
   "cell_type": "markdown",
   "id": "dd4f4717",
   "metadata": {},
   "source": [
    "#### float formatting with f-string"
   ]
  },
  {
   "cell_type": "code",
   "execution_count": 14,
   "id": "990627a5",
   "metadata": {},
   "outputs": [
    {
     "name": "stdout",
     "output_type": "stream",
     "text": [
      "the perc value is 50.79%\n"
     ]
    }
   ],
   "source": [
    "perc_value = 50.7878\n",
    "print(f\"the perc value is {perc_value:.2f}%\")"
   ]
  },
  {
   "cell_type": "markdown",
   "id": "b1e566f1",
   "metadata": {},
   "source": [
    "# datetime"
   ]
  },
  {
   "cell_type": "code",
   "execution_count": 15,
   "id": "c26f8902",
   "metadata": {},
   "outputs": [],
   "source": [
    "from datetime import datetime"
   ]
  },
  {
   "cell_type": "code",
   "execution_count": 16,
   "id": "bd8c2fe8",
   "metadata": {},
   "outputs": [],
   "source": [
    "today_record = datetime.now()"
   ]
  },
  {
   "cell_type": "code",
   "execution_count": 18,
   "id": "843b4f5a",
   "metadata": {},
   "outputs": [
    {
     "name": "stdout",
     "output_type": "stream",
     "text": [
      "2023-02-12 19:13:46.943217\n",
      "today is February-12, 2023\n"
     ]
    }
   ],
   "source": [
    "print(today_record)\n",
    "print(f\"today is {today_record:%B-%d, %Y}\")"
   ]
  },
  {
   "cell_type": "markdown",
   "id": "3b6d83e3",
   "metadata": {},
   "source": [
    "# dict formatting with f-string"
   ]
  },
  {
   "cell_type": "code",
   "execution_count": 19,
   "id": "dfc090ec",
   "metadata": {},
   "outputs": [],
   "source": [
    "dict = {'job':'FAE', 'company':'lasertec'}"
   ]
  },
  {
   "cell_type": "markdown",
   "id": "02307605",
   "metadata": {},
   "source": [
    "#### .format() method"
   ]
  },
  {
   "cell_type": "code",
   "execution_count": 21,
   "id": "dd57635d",
   "metadata": {},
   "outputs": [
    {
     "name": "stdout",
     "output_type": "stream",
     "text": [
      "the company lasertec has job searching for FAE\n"
     ]
    }
   ],
   "source": [
    "print(\"the company {data[company]} has job searching for {data[job]}\".format(data=dict))"
   ]
  },
  {
   "cell_type": "markdown",
   "id": "2d65539f",
   "metadata": {},
   "source": [
    "#### f-string method"
   ]
  },
  {
   "cell_type": "markdown",
   "id": "0d71aeaf",
   "metadata": {},
   "source": [
    "    there are many error result, let's troubleshooting"
   ]
  },
  {
   "cell_type": "code",
   "execution_count": 29,
   "id": "41a9eabc",
   "metadata": {},
   "outputs": [
    {
     "ename": "NameError",
     "evalue": "name 'company' is not defined",
     "output_type": "error",
     "traceback": [
      "\u001b[0;31m---------------------------------------------------------------------------\u001b[0m",
      "\u001b[0;31mNameError\u001b[0m                                 Traceback (most recent call last)",
      "Cell \u001b[0;32mIn[29], line 1\u001b[0m\n\u001b[0;32m----> 1\u001b[0m \u001b[38;5;28mprint\u001b[39m(\u001b[38;5;124mf\u001b[39m\u001b[38;5;124m\"\u001b[39m\u001b[38;5;124mthe company \u001b[39m\u001b[38;5;132;01m{\u001b[39;00m\u001b[38;5;28mdict\u001b[39m[company]\u001b[38;5;132;01m}\u001b[39;00m\u001b[38;5;124m has job searching for \u001b[39m\u001b[38;5;132;01m{\u001b[39;00m\u001b[38;5;28mdict\u001b[39m[job]\u001b[38;5;132;01m}\u001b[39;00m\u001b[38;5;124m\"\u001b[39m)\n",
      "\u001b[0;31mNameError\u001b[0m: name 'company' is not defined"
     ]
    }
   ],
   "source": [
    "print(f\"the company {dict[company]} has job searching for {dict[job]}\")"
   ]
  },
  {
   "cell_type": "markdown",
   "id": "7d5c799a",
   "metadata": {},
   "source": [
    "the company need be string like this v"
   ]
  },
  {
   "cell_type": "code",
   "execution_count": 25,
   "id": "c3dcd1bc",
   "metadata": {},
   "outputs": [
    {
     "data": {
      "text/plain": [
       "'lasertec'"
      ]
     },
     "execution_count": 25,
     "metadata": {},
     "output_type": "execute_result"
    }
   ],
   "source": [
    "dict[\"company\"]"
   ]
  },
  {
   "cell_type": "markdown",
   "id": "722d9245",
   "metadata": {},
   "source": [
    "    what if we try \"company\""
   ]
  },
  {
   "cell_type": "code",
   "execution_count": 30,
   "id": "7aecc5dd",
   "metadata": {},
   "outputs": [
    {
     "ename": "SyntaxError",
     "evalue": "invalid syntax (4207309920.py, line 1)",
     "output_type": "error",
     "traceback": [
      "\u001b[0;36m  Cell \u001b[0;32mIn[30], line 1\u001b[0;36m\u001b[0m\n\u001b[0;31m    print(f\"the company {dict[\"company\"]} has job searching for {dict[\"job\"]}\")\u001b[0m\n\u001b[0m                               ^\u001b[0m\n\u001b[0;31mSyntaxError\u001b[0m\u001b[0;31m:\u001b[0m invalid syntax\n"
     ]
    }
   ],
   "source": [
    "print(f\"the company {dict[\"company\"]} has job searching for {dict[\"job\"]}\")"
   ]
  },
  {
   "cell_type": "markdown",
   "id": "bca59293",
   "metadata": {},
   "source": [
    "string in string need use \\ to ignore \""
   ]
  },
  {
   "cell_type": "code",
   "execution_count": 31,
   "id": "38f99ad5",
   "metadata": {},
   "outputs": [
    {
     "ename": "SyntaxError",
     "evalue": "f-string expression part cannot include a backslash (2248787420.py, line 1)",
     "output_type": "error",
     "traceback": [
      "\u001b[0;36m  Cell \u001b[0;32mIn[31], line 1\u001b[0;36m\u001b[0m\n\u001b[0;31m    print(f\"the company {dict[\\\"company\\\"]} has job searching for {dict[\\\"job\\\"]}\")\u001b[0m\n\u001b[0m          ^\u001b[0m\n\u001b[0;31mSyntaxError\u001b[0m\u001b[0;31m:\u001b[0m f-string expression part cannot include a backslash\n"
     ]
    }
   ],
   "source": [
    "print(f\"the company {dict[\\\"company\\\"]} has job searching for {dict[\\\"job\\\"]}\")"
   ]
  },
  {
   "cell_type": "markdown",
   "id": "5ae6d48b",
   "metadata": {},
   "source": [
    "    f-string still error\n",
    "    need to try ' for string in string"
   ]
  },
  {
   "cell_type": "code",
   "execution_count": 32,
   "id": "df6f9508",
   "metadata": {},
   "outputs": [
    {
     "name": "stdout",
     "output_type": "stream",
     "text": [
      "the company lasertec has job searching for FAE\n"
     ]
    }
   ],
   "source": [
    "print(f\"the company {dict['company']} has job searching for {dict['job']}\")"
   ]
  },
  {
   "cell_type": "markdown",
   "id": "623c82cf",
   "metadata": {},
   "source": [
    "# f-string can do calc"
   ]
  },
  {
   "cell_type": "code",
   "execution_count": 33,
   "id": "cb31be0a",
   "metadata": {},
   "outputs": [
    {
     "name": "stdout",
     "output_type": "stream",
     "text": [
      "5 multi 7 value is: 35\n"
     ]
    }
   ],
   "source": [
    "a = 5\n",
    "b = 7\n",
    "print(f\"{a} multi {b} value is: {a*b}\")"
   ]
  },
  {
   "cell_type": "markdown",
   "id": "c6c65f2b",
   "metadata": {},
   "source": [
    "# f-string can do calling function"
   ]
  },
  {
   "cell_type": "code",
   "execution_count": 34,
   "id": "2abfdc91",
   "metadata": {},
   "outputs": [],
   "source": [
    "def add_value(a,b):\n",
    "    return a+b"
   ]
  },
  {
   "cell_type": "code",
   "execution_count": 36,
   "id": "530c5409",
   "metadata": {},
   "outputs": [
    {
     "name": "stdout",
     "output_type": "stream",
     "text": [
      "we call function add_value and see result return: 10\n"
     ]
    }
   ],
   "source": [
    "print(f\"we call function add_value and see result return: {add_value(4,6)}\")"
   ]
  },
  {
   "cell_type": "code",
   "execution_count": null,
   "id": "383f4536",
   "metadata": {},
   "outputs": [],
   "source": []
  }
 ],
 "metadata": {
  "kernelspec": {
   "display_name": "Python 3 (ipykernel)",
   "language": "python",
   "name": "python3"
  },
  "language_info": {
   "codemirror_mode": {
    "name": "ipython",
    "version": 3
   },
   "file_extension": ".py",
   "mimetype": "text/x-python",
   "name": "python",
   "nbconvert_exporter": "python",
   "pygments_lexer": "ipython3",
   "version": "3.8.8"
  }
 },
 "nbformat": 4,
 "nbformat_minor": 5
}
