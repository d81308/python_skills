{
 "cells": [
  {
   "cell_type": "code",
   "execution_count": 1,
   "id": "41d8b58e",
   "metadata": {},
   "outputs": [],
   "source": [
    "import re"
   ]
  },
  {
   "cell_type": "code",
   "execution_count": 3,
   "id": "f0a07180",
   "metadata": {},
   "outputs": [],
   "source": [
    "info=\"this week scan fail report: 3 laser shutter close, 12 golden transfer error, 8 software hang up\""
   ]
  },
  {
   "cell_type": "markdown",
   "id": "aa4d89e1",
   "metadata": {},
   "source": [
    "    to make view\n",
    "    [('2','goldern...'),('1','software...')]"
   ]
  },
  {
   "cell_type": "code",
   "execution_count": 8,
   "id": "83d6367a",
   "metadata": {},
   "outputs": [],
   "source": [
    "regex=r\"(\\d+)\\s([a-z ]+)\""
   ]
  },
  {
   "cell_type": "code",
   "execution_count": 9,
   "id": "3a553818",
   "metadata": {},
   "outputs": [
    {
     "data": {
      "text/plain": [
       "[('3', 'laser shutter close'),\n",
       " ('12', 'golden transfer error'),\n",
       " ('8', 'software hang up')]"
      ]
     },
     "execution_count": 9,
     "metadata": {},
     "output_type": "execute_result"
    }
   ],
   "source": [
    "re.findall(regex,info)"
   ]
  },
  {
   "cell_type": "markdown",
   "id": "cbdbb6fb",
   "metadata": {},
   "source": [
    "# extract title only in info"
   ]
  },
  {
   "cell_type": "code",
   "execution_count": 13,
   "id": "5f46865a",
   "metadata": {},
   "outputs": [],
   "source": [
    "info_customer=\"customer request: [Yu][3hr]golden fail, [Me][10min]tdi decay\""
   ]
  },
  {
   "cell_type": "code",
   "execution_count": 71,
   "id": "91dcad12",
   "metadata": {},
   "outputs": [],
   "source": [
    "transform_info_customer=info_customer.replace('[','_').replace(']','_')\n",
    "#use non-greedy divi tags\n",
    "regex_tags=r\"(_\\d\\w+?_)\"\n",
    "# engineer name, dead-line:\n",
    "regex_engineers=r\"_\\w+?_\"\n",
    "#extract issue:match but not capture\n",
    "regex_issues=r\"(?:_\\w+?_)([a-z ]+)\""
   ]
  },
  {
   "cell_type": "code",
   "execution_count": 72,
   "id": "7987c28e",
   "metadata": {},
   "outputs": [
    {
     "name": "stdout",
     "output_type": "stream",
     "text": [
      "tags: ['_3hr_', '_10min_']\n",
      "engineers: ['_Yu_', '_3hr_', '_Me_', '_10min_']\n",
      "issues: ['golden fail', 'tdi decay']\n"
     ]
    }
   ],
   "source": [
    "print(\"tags:\",re.findall(regex_tags,transform_info_customer))\n",
    "print(\"engineers:\",re.findall(regex_engineers,transform_info_customer))\n",
    "print(\"issues:\",re.findall(regex_issues,transform_info_customer))"
   ]
  },
  {
   "cell_type": "markdown",
   "id": "16c647bd",
   "metadata": {},
   "source": [
    "# extract info only"
   ]
  },
  {
   "cell_type": "code",
   "execution_count": 73,
   "id": "0efccc02",
   "metadata": {},
   "outputs": [],
   "source": [
    "issues=\"the 5th fall on 8x8u in 2022\""
   ]
  },
  {
   "cell_type": "code",
   "execution_count": 79,
   "id": "08d1550f",
   "metadata": {},
   "outputs": [],
   "source": [
    "regex_info=r\"(\\d+)(?:th|x8u)\""
   ]
  },
  {
   "cell_type": "code",
   "execution_count": 80,
   "id": "ef78324c",
   "metadata": {},
   "outputs": [
    {
     "data": {
      "text/plain": [
       "['5', '8']"
      ]
     },
     "execution_count": 80,
     "metadata": {},
     "output_type": "execute_result"
    }
   ],
   "source": [
    "re.findall(regex_info,issues)"
   ]
  },
  {
   "cell_type": "code",
   "execution_count": null,
   "id": "27b6f4bc",
   "metadata": {},
   "outputs": [],
   "source": []
  }
 ],
 "metadata": {
  "kernelspec": {
   "display_name": "Python 3 (ipykernel)",
   "language": "python",
   "name": "python3"
  },
  "language_info": {
   "codemirror_mode": {
    "name": "ipython",
    "version": 3
   },
   "file_extension": ".py",
   "mimetype": "text/x-python",
   "name": "python",
   "nbconvert_exporter": "python",
   "pygments_lexer": "ipython3",
   "version": "3.8.8"
  }
 },
 "nbformat": 4,
 "nbformat_minor": 5
}
