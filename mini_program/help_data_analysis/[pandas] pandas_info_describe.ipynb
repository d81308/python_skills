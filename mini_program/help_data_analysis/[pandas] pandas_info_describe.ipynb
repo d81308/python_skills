{
 "cells": [
  {
   "cell_type": "code",
   "execution_count": 1,
   "id": "0bfa921c",
   "metadata": {},
   "outputs": [],
   "source": [
    "import pandas as pd"
   ]
  },
  {
   "cell_type": "code",
   "execution_count": 2,
   "id": "8c44daa1",
   "metadata": {},
   "outputs": [],
   "source": [
    "df = pd.read_csv('billing.csv')"
   ]
  },
  {
   "cell_type": "code",
   "execution_count": 3,
   "id": "99997399",
   "metadata": {},
   "outputs": [
    {
     "name": "stdout",
     "output_type": "stream",
     "text": [
      "<class 'pandas.core.frame.DataFrame'>\n",
      "RangeIndex: 132000 entries, 0 to 131999\n",
      "Data columns (total 6 columns):\n",
      " #   Column        Non-Null Count   Dtype \n",
      "---  ------        --------------   ----- \n",
      " 0   customerid    132000 non-null  int64 \n",
      " 1   category      132000 non-null  object\n",
      " 2   country       132000 non-null  object\n",
      " 3   industry      132000 non-null  object\n",
      " 4   month         132000 non-null  object\n",
      " 5   billedamount  132000 non-null  int64 \n",
      "dtypes: int64(2), object(4)\n",
      "memory usage: 6.0+ MB\n"
     ]
    }
   ],
   "source": [
    "df.info()"
   ]
  },
  {
   "cell_type": "code",
   "execution_count": 4,
   "id": "9c543323",
   "metadata": {},
   "outputs": [
    {
     "data": {
      "text/html": [
       "<div>\n",
       "<style scoped>\n",
       "    .dataframe tbody tr th:only-of-type {\n",
       "        vertical-align: middle;\n",
       "    }\n",
       "\n",
       "    .dataframe tbody tr th {\n",
       "        vertical-align: top;\n",
       "    }\n",
       "\n",
       "    .dataframe thead th {\n",
       "        text-align: right;\n",
       "    }\n",
       "</style>\n",
       "<table border=\"1\" class=\"dataframe\">\n",
       "  <thead>\n",
       "    <tr style=\"text-align: right;\">\n",
       "      <th></th>\n",
       "      <th>customerid</th>\n",
       "      <th>category</th>\n",
       "      <th>country</th>\n",
       "      <th>industry</th>\n",
       "      <th>month</th>\n",
       "      <th>billedamount</th>\n",
       "    </tr>\n",
       "  </thead>\n",
       "  <tbody>\n",
       "    <tr>\n",
       "      <th>0</th>\n",
       "      <td>1</td>\n",
       "      <td>Individual</td>\n",
       "      <td>Indonesia</td>\n",
       "      <td>Engineering</td>\n",
       "      <td>2009-1</td>\n",
       "      <td>5060</td>\n",
       "    </tr>\n",
       "    <tr>\n",
       "      <th>1</th>\n",
       "      <td>614</td>\n",
       "      <td>Individual</td>\n",
       "      <td>United States</td>\n",
       "      <td>Product Management</td>\n",
       "      <td>2009-1</td>\n",
       "      <td>9638</td>\n",
       "    </tr>\n",
       "    <tr>\n",
       "      <th>2</th>\n",
       "      <td>615</td>\n",
       "      <td>Individual</td>\n",
       "      <td>China</td>\n",
       "      <td>Services</td>\n",
       "      <td>2009-1</td>\n",
       "      <td>11573</td>\n",
       "    </tr>\n",
       "    <tr>\n",
       "      <th>3</th>\n",
       "      <td>616</td>\n",
       "      <td>Individual</td>\n",
       "      <td>Russia</td>\n",
       "      <td>Accounting</td>\n",
       "      <td>2009-1</td>\n",
       "      <td>18697</td>\n",
       "    </tr>\n",
       "    <tr>\n",
       "      <th>4</th>\n",
       "      <td>617</td>\n",
       "      <td>Individual</td>\n",
       "      <td>Chile</td>\n",
       "      <td>Business Development</td>\n",
       "      <td>2009-1</td>\n",
       "      <td>944</td>\n",
       "    </tr>\n",
       "  </tbody>\n",
       "</table>\n",
       "</div>"
      ],
      "text/plain": [
       "   customerid    category        country              industry   month  \\\n",
       "0           1  Individual      Indonesia           Engineering  2009-1   \n",
       "1         614  Individual  United States    Product Management  2009-1   \n",
       "2         615  Individual          China              Services  2009-1   \n",
       "3         616  Individual         Russia            Accounting  2009-1   \n",
       "4         617  Individual          Chile  Business Development  2009-1   \n",
       "\n",
       "   billedamount  \n",
       "0          5060  \n",
       "1          9638  \n",
       "2         11573  \n",
       "3         18697  \n",
       "4           944  "
      ]
     },
     "execution_count": 4,
     "metadata": {},
     "output_type": "execute_result"
    }
   ],
   "source": [
    "df.head()"
   ]
  },
  {
   "cell_type": "code",
   "execution_count": 5,
   "id": "6e595c1b",
   "metadata": {},
   "outputs": [
    {
     "data": {
      "text/html": [
       "<div>\n",
       "<style scoped>\n",
       "    .dataframe tbody tr th:only-of-type {\n",
       "        vertical-align: middle;\n",
       "    }\n",
       "\n",
       "    .dataframe tbody tr th {\n",
       "        vertical-align: top;\n",
       "    }\n",
       "\n",
       "    .dataframe thead th {\n",
       "        text-align: right;\n",
       "    }\n",
       "</style>\n",
       "<table border=\"1\" class=\"dataframe\">\n",
       "  <thead>\n",
       "    <tr style=\"text-align: right;\">\n",
       "      <th></th>\n",
       "      <th>customerid</th>\n",
       "      <th>billedamount</th>\n",
       "    </tr>\n",
       "  </thead>\n",
       "  <tbody>\n",
       "    <tr>\n",
       "      <th>count</th>\n",
       "      <td>132000.000000</td>\n",
       "      <td>132000.000000</td>\n",
       "    </tr>\n",
       "    <tr>\n",
       "      <th>mean</th>\n",
       "      <td>500.500000</td>\n",
       "      <td>10001.672311</td>\n",
       "    </tr>\n",
       "    <tr>\n",
       "      <th>std</th>\n",
       "      <td>288.676084</td>\n",
       "      <td>5765.753383</td>\n",
       "    </tr>\n",
       "    <tr>\n",
       "      <th>min</th>\n",
       "      <td>1.000000</td>\n",
       "      <td>0.000000</td>\n",
       "    </tr>\n",
       "    <tr>\n",
       "      <th>25%</th>\n",
       "      <td>250.750000</td>\n",
       "      <td>5009.000000</td>\n",
       "    </tr>\n",
       "    <tr>\n",
       "      <th>50%</th>\n",
       "      <td>500.500000</td>\n",
       "      <td>10016.500000</td>\n",
       "    </tr>\n",
       "    <tr>\n",
       "      <th>75%</th>\n",
       "      <td>750.250000</td>\n",
       "      <td>14984.000000</td>\n",
       "    </tr>\n",
       "    <tr>\n",
       "      <th>max</th>\n",
       "      <td>1000.000000</td>\n",
       "      <td>20000.000000</td>\n",
       "    </tr>\n",
       "  </tbody>\n",
       "</table>\n",
       "</div>"
      ],
      "text/plain": [
       "          customerid   billedamount\n",
       "count  132000.000000  132000.000000\n",
       "mean      500.500000   10001.672311\n",
       "std       288.676084    5765.753383\n",
       "min         1.000000       0.000000\n",
       "25%       250.750000    5009.000000\n",
       "50%       500.500000   10016.500000\n",
       "75%       750.250000   14984.000000\n",
       "max      1000.000000   20000.000000"
      ]
     },
     "execution_count": 5,
     "metadata": {},
     "output_type": "execute_result"
    }
   ],
   "source": [
    "df.describe()"
   ]
  },
  {
   "cell_type": "markdown",
   "id": "572c18cc",
   "metadata": {},
   "source": [
    "small int: –32,767 to 32,767"
   ]
  },
  {
   "cell_type": "markdown",
   "id": "a5b685fa",
   "metadata": {},
   "source": [
    "#### count max length of all columns's values"
   ]
  },
  {
   "cell_type": "code",
   "execution_count": 9,
   "id": "cbbff552",
   "metadata": {},
   "outputs": [
    {
     "name": "stdout",
     "output_type": "stream",
     "text": [
      "customerid : 4\n",
      "category : 10\n",
      "country : 24\n",
      "industry : 24\n",
      "month : 7\n",
      "billedamount : 5\n"
     ]
    }
   ],
   "source": [
    "for column in df:\n",
    "    print(column,\":\", df[column].astype(str).str.len().max())"
   ]
  },
  {
   "cell_type": "code",
   "execution_count": null,
   "id": "48fce323",
   "metadata": {},
   "outputs": [],
   "source": []
  }
 ],
 "metadata": {
  "kernelspec": {
   "display_name": "Python 3 (ipykernel)",
   "language": "python",
   "name": "python3"
  },
  "language_info": {
   "codemirror_mode": {
    "name": "ipython",
    "version": 3
   },
   "file_extension": ".py",
   "mimetype": "text/x-python",
   "name": "python",
   "nbconvert_exporter": "python",
   "pygments_lexer": "ipython3",
   "version": "3.8.8"
  }
 },
 "nbformat": 4,
 "nbformat_minor": 5
}
