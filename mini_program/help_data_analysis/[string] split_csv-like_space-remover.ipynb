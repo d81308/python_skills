{
 "cells": [
  {
   "cell_type": "markdown",
   "id": "67fa5ff3",
   "metadata": {},
   "source": [
    "# split function in parts"
   ]
  },
  {
   "cell_type": "code",
   "execution_count": 3,
   "id": "715a0264",
   "metadata": {},
   "outputs": [],
   "source": [
    "name = \"Neil Wu is FAE in Lasertec.\""
   ]
  },
  {
   "cell_type": "markdown",
   "id": "bc9a2566",
   "metadata": {},
   "source": [
    "split function"
   ]
  },
  {
   "cell_type": "code",
   "execution_count": 4,
   "id": "d1cd623f",
   "metadata": {},
   "outputs": [
    {
     "data": {
      "text/plain": [
       "['Neil', 'Wu', 'is FAE in Lasertec.']"
      ]
     },
     "execution_count": 4,
     "metadata": {},
     "output_type": "execute_result"
    }
   ],
   "source": [
    "name.split(\" \",maxsplit=2)"
   ]
  },
  {
   "cell_type": "code",
   "execution_count": 5,
   "id": "6e54d269",
   "metadata": {},
   "outputs": [
    {
     "data": {
      "text/plain": [
       "['Neil Wu is FAE', 'in', 'Lasertec.']"
      ]
     },
     "execution_count": 5,
     "metadata": {},
     "output_type": "execute_result"
    }
   ],
   "source": [
    "name.rsplit(\" \",maxsplit=2)"
   ]
  },
  {
   "cell_type": "markdown",
   "id": "2f35aea9",
   "metadata": {},
   "source": [
    "# splitlines()"
   ]
  },
  {
   "cell_type": "code",
   "execution_count": 8,
   "id": "4dfff0ae",
   "metadata": {},
   "outputs": [
    {
     "data": {
      "text/plain": [
       "['Neil Wu is FAE in ', ' Lasertec.']"
      ]
     },
     "execution_count": 8,
     "metadata": {},
     "output_type": "execute_result"
    }
   ],
   "source": [
    "name2 = \"Neil Wu is FAE in \\n Lasertec.\"\n",
    "name2.splitlines()"
   ]
  },
  {
   "cell_type": "markdown",
   "id": "bf155b1e",
   "metadata": {},
   "source": [
    "# sentence, word from list"
   ]
  },
  {
   "cell_type": "code",
   "execution_count": 11,
   "id": "3a2d0be3",
   "metadata": {},
   "outputs": [
    {
     "name": "stdout",
     "output_type": "stream",
     "text": [
      "neil wu is FAE in lasertec\n",
      "neil,wu,is,FAE,in,lasertec\n"
     ]
    }
   ],
   "source": [
    "list_engineer=['neil','wu','is','FAE','in','lasertec']\n",
    "print(\" \".join(list_engineer))\n",
    "print(\",\".join(list_engineer))"
   ]
  },
  {
   "cell_type": "markdown",
   "id": "feb2d0fb",
   "metadata": {},
   "source": [
    "the csv data maker is useful"
   ]
  },
  {
   "cell_type": "markdown",
   "id": "8b37e762",
   "metadata": {},
   "source": [
    "# remove useless space in sentence"
   ]
  },
  {
   "cell_type": "code",
   "execution_count": 12,
   "id": "1690dbed",
   "metadata": {},
   "outputs": [],
   "source": [
    "name_space = \" Neil Wu is FAE in Lasertec. \""
   ]
  },
  {
   "cell_type": "markdown",
   "id": "27d3ad08",
   "metadata": {},
   "source": [
    "both start and end space removed"
   ]
  },
  {
   "cell_type": "code",
   "execution_count": 13,
   "id": "44c42916",
   "metadata": {},
   "outputs": [
    {
     "data": {
      "text/plain": [
       "'Neil Wu is FAE in Lasertec.'"
      ]
     },
     "execution_count": 13,
     "metadata": {},
     "output_type": "execute_result"
    }
   ],
   "source": [
    "name_space.strip()"
   ]
  },
  {
   "cell_type": "markdown",
   "id": "d6296dab",
   "metadata": {},
   "source": [
    "only end space removed"
   ]
  },
  {
   "cell_type": "code",
   "execution_count": 14,
   "id": "98bd1cd5",
   "metadata": {},
   "outputs": [
    {
     "data": {
      "text/plain": [
       "' Neil Wu is FAE in Lasertec.'"
      ]
     },
     "execution_count": 14,
     "metadata": {},
     "output_type": "execute_result"
    }
   ],
   "source": [
    "name_space.rstrip()"
   ]
  },
  {
   "cell_type": "code",
   "execution_count": null,
   "id": "34f040aa",
   "metadata": {},
   "outputs": [],
   "source": []
  }
 ],
 "metadata": {
  "kernelspec": {
   "display_name": "Python 3 (ipykernel)",
   "language": "python",
   "name": "python3"
  },
  "language_info": {
   "codemirror_mode": {
    "name": "ipython",
    "version": 3
   },
   "file_extension": ".py",
   "mimetype": "text/x-python",
   "name": "python",
   "nbconvert_exporter": "python",
   "pygments_lexer": "ipython3",
   "version": "3.8.8"
  }
 },
 "nbformat": 4,
 "nbformat_minor": 5
}
