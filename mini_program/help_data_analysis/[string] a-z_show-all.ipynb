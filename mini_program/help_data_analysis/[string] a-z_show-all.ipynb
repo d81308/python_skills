{
 "cells": [
  {
   "cell_type": "code",
   "execution_count": 1,
   "id": "cd8bf577",
   "metadata": {},
   "outputs": [],
   "source": [
    "import re"
   ]
  },
  {
   "cell_type": "markdown",
   "id": "8aa0974a",
   "metadata": {},
   "source": [
    "# search and match"
   ]
  },
  {
   "cell_type": "code",
   "execution_count": 2,
   "id": "65fbdb96",
   "metadata": {},
   "outputs": [],
   "source": [
    "engineer = \"590 is neil wu\""
   ]
  },
  {
   "cell_type": "code",
   "execution_count": 6,
   "id": "62c63edf",
   "metadata": {},
   "outputs": [
    {
     "name": "stdout",
     "output_type": "stream",
     "text": [
      "<re.Match object; span=(0, 3), match='590'>\n",
      "<re.Match object; span=(0, 3), match='590'>\n"
     ]
    }
   ],
   "source": [
    "print(re.search(r\"\\d+\",engineer))\n",
    "print(re.match(r\"\\d+\",engineer))"
   ]
  },
  {
   "cell_type": "code",
   "execution_count": 10,
   "id": "4e9ff480",
   "metadata": {},
   "outputs": [
    {
     "name": "stdout",
     "output_type": "stream",
     "text": [
      "<re.Match object; span=(7, 8), match='1'>\n",
      "None\n"
     ]
    }
   ],
   "source": [
    "engineer_info = \"FAE is 1 job\"\n",
    "print(re.search(r\"\\d+\",engineer_info))\n",
    "print(re.match(r\"\\d+\",engineer_info))"
   ]
  },
  {
   "cell_type": "markdown",
   "id": "fae288ae",
   "metadata": {},
   "source": [
    "# +com"
   ]
  },
  {
   "cell_type": "code",
   "execution_count": 11,
   "id": "ef75178f",
   "metadata": {},
   "outputs": [],
   "source": [
    "contact = \"neil wu fb is www.neilwu.facebook.com\""
   ]
  },
  {
   "cell_type": "code",
   "execution_count": 14,
   "id": "6ed0791f",
   "metadata": {},
   "outputs": [
    {
     "data": {
      "text/plain": [
       "['www.neilwu.facebook.com']"
      ]
     },
     "execution_count": 14,
     "metadata": {},
     "output_type": "execute_result"
    }
   ],
   "source": [
    "re.findall(r\"www.+com\",contact)"
   ]
  },
  {
   "cell_type": "markdown",
   "id": "7b8938bd",
   "metadata": {},
   "source": [
    "# first finding ^"
   ]
  },
  {
   "cell_type": "code",
   "execution_count": 34,
   "id": "c857bd09",
   "metadata": {},
   "outputs": [],
   "source": [
    "model = \"x8u model is stable than x9u. and x7u is use for optic mask\""
   ]
  },
  {
   "cell_type": "code",
   "execution_count": 29,
   "id": "d22eabb6",
   "metadata": {},
   "outputs": [
    {
     "name": "stdout",
     "output_type": "stream",
     "text": [
      "['x8u', 'x9u', 'x7u']\n",
      "['x8u']\n",
      "x7u\n"
     ]
    }
   ],
   "source": [
    "print(re.findall(r\"x\\du\",model))\n",
    "print(re.findall(r\"^x\\du\",model))\n",
    "print(re.findall(r\"x\\du\",model)[-1])"
   ]
  },
  {
   "cell_type": "markdown",
   "id": "0d7fb53e",
   "metadata": {},
   "source": [
    "# split tip"
   ]
  },
  {
   "cell_type": "code",
   "execution_count": 32,
   "id": "4f6ae90b",
   "metadata": {},
   "outputs": [
    {
     "data": {
      "text/plain": [
       "['x8u',\n",
       " 'model',\n",
       " 'is',\n",
       " 'stable',\n",
       " 'than',\n",
       " 'x9u,',\n",
       " 'and',\n",
       " 'x7u',\n",
       " 'is',\n",
       " 'use',\n",
       " 'for',\n",
       " 'optic',\n",
       " 'mask']"
      ]
     },
     "execution_count": 32,
     "metadata": {},
     "output_type": "execute_result"
    }
   ],
   "source": [
    "re.split(r\"\\s\",model)"
   ]
  },
  {
   "cell_type": "code",
   "execution_count": 36,
   "id": "0a41140a",
   "metadata": {},
   "outputs": [
    {
     "data": {
      "text/plain": [
       "['x8',\n",
       " 'mode',\n",
       " 'i',\n",
       " 'stabl',\n",
       " 'tha',\n",
       " 'x9u',\n",
       " 'an',\n",
       " 'x7',\n",
       " 'i',\n",
       " 'us',\n",
       " 'fo',\n",
       " 'opti',\n",
       " 'mask']"
      ]
     },
     "execution_count": 36,
     "metadata": {},
     "output_type": "execute_result"
    }
   ],
   "source": [
    "re.split(r\".\\s\",model)"
   ]
  },
  {
   "cell_type": "markdown",
   "id": "78a48fe5",
   "metadata": {},
   "source": [
    "    split the sentence\n",
    "    like x. The"
   ]
  },
  {
   "cell_type": "code",
   "execution_count": 35,
   "id": "f66d7ede",
   "metadata": {},
   "outputs": [
    {
     "data": {
      "text/plain": [
       "['x8u model is stable than x9u', 'and x7u is use for optic mask']"
      ]
     },
     "execution_count": 35,
     "metadata": {},
     "output_type": "execute_result"
    }
   ],
   "source": [
    "re.split(r\"\\.\\s\",model)"
   ]
  },
  {
   "cell_type": "markdown",
   "id": "a43693a7",
   "metadata": {},
   "source": [
    "# OR"
   ]
  },
  {
   "cell_type": "code",
   "execution_count": 37,
   "id": "9162c347",
   "metadata": {},
   "outputs": [],
   "source": [
    "engineer_name = \"neil wu, neilwu, neil san are the same member.\""
   ]
  },
  {
   "cell_type": "code",
   "execution_count": 39,
   "id": "42f1185f",
   "metadata": {},
   "outputs": [
    {
     "data": {
      "text/plain": [
       "['neil wu', 'neilwu', 'neil san']"
      ]
     },
     "execution_count": 39,
     "metadata": {},
     "output_type": "execute_result"
    }
   ],
   "source": [
    "re.findall(r\"neil wu|neilwu|neil san\",engineer_name)"
   ]
  },
  {
   "cell_type": "markdown",
   "id": "139c00cb",
   "metadata": {},
   "source": [
    "# a-z, A-Z, [  ]:or"
   ]
  },
  {
   "cell_type": "code",
   "execution_count": 40,
   "id": "f0d226cd",
   "metadata": {},
   "outputs": [],
   "source": [
    "engineer_stamp = \"NeilWu590\""
   ]
  },
  {
   "cell_type": "code",
   "execution_count": 46,
   "id": "417d8202",
   "metadata": {},
   "outputs": [
    {
     "name": "stdout",
     "output_type": "stream",
     "text": [
      "['e', 'i', 'l', 'u']\n",
      "['N', 'e', 'i', 'l', 'W', 'u']\n",
      "['NeilWu590']\n"
     ]
    }
   ],
   "source": [
    "print(re.findall(r\"[a-z]\",engineer_stamp))\n",
    "print(re.findall(r\"[a-zA-z]\",engineer_stamp))\n",
    "print(re.findall(r\"[a-zA-Z]+\\d+\",engineer_stamp))"
   ]
  },
  {
   "cell_type": "markdown",
   "id": "1b0e6fdb",
   "metadata": {},
   "source": [
    "#### powerful string cleaning"
   ]
  },
  {
   "cell_type": "code",
   "execution_count": 48,
   "id": "3c949117",
   "metadata": {},
   "outputs": [],
   "source": [
    "alert_code = \"##laser!! shu@tter cl&&ose\""
   ]
  },
  {
   "cell_type": "code",
   "execution_count": 49,
   "id": "87e5197a",
   "metadata": {},
   "outputs": [
    {
     "data": {
      "text/plain": [
       "'laser shutter close'"
      ]
     },
     "execution_count": 49,
     "metadata": {},
     "output_type": "execute_result"
    }
   ],
   "source": [
    "re.sub(r\"[!@#$%^&*]\",\"\",alert_code)"
   ]
  },
  {
   "cell_type": "markdown",
   "id": "ecb127e4",
   "metadata": {},
   "source": [
    "#### number solution"
   ]
  },
  {
   "cell_type": "code",
   "execution_count": 50,
   "id": "eba8793f",
   "metadata": {},
   "outputs": [],
   "source": [
    "solving_letter = \"email to www.590.com, www.neilwu.com\""
   ]
  },
  {
   "cell_type": "code",
   "execution_count": 59,
   "id": "f7f031d4",
   "metadata": {},
   "outputs": [
    {
     "name": "stdout",
     "output_type": "stream",
     "text": [
      "['www.590.com', 'www.neilwu.com']\n",
      "['www.590.com']\n",
      "['www.590.com']\n"
     ]
    }
   ],
   "source": [
    "print(re.findall(r\"www.\\w+.com\",solving_letter))\n",
    "print(re.findall(r\"www.\\d+.com\",solving_letter))\n",
    "print(re.findall(r\"www.[0-9]+.com\",solving_letter))"
   ]
  },
  {
   "cell_type": "markdown",
   "id": "f4580876",
   "metadata": {},
   "source": [
    "# show all .+"
   ]
  },
  {
   "cell_type": "code",
   "execution_count": 73,
   "id": "67ab361d",
   "metadata": {},
   "outputs": [],
   "source": [
    "a = \"aeuu.590\""
   ]
  },
  {
   "cell_type": "code",
   "execution_count": 74,
   "id": "9358e8bd",
   "metadata": {},
   "outputs": [
    {
     "name": "stdout",
     "output_type": "stream",
     "text": [
      "['aeuu.590']\n"
     ]
    }
   ],
   "source": [
    "print(re.findall(r\"[ae]{2}.+\",a))"
   ]
  },
  {
   "cell_type": "code",
   "execution_count": null,
   "id": "2c0afbf4",
   "metadata": {},
   "outputs": [],
   "source": []
  }
 ],
 "metadata": {
  "kernelspec": {
   "display_name": "Python 3 (ipykernel)",
   "language": "python",
   "name": "python3"
  },
  "language_info": {
   "codemirror_mode": {
    "name": "ipython",
    "version": 3
   },
   "file_extension": ".py",
   "mimetype": "text/x-python",
   "name": "python",
   "nbconvert_exporter": "python",
   "pygments_lexer": "ipython3",
   "version": "3.8.8"
  }
 },
 "nbformat": 4,
 "nbformat_minor": 5
}
