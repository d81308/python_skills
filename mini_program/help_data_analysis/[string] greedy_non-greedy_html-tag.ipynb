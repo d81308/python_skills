{
 "cells": [
  {
   "cell_type": "code",
   "execution_count": 1,
   "id": "fe8060f3",
   "metadata": {},
   "outputs": [],
   "source": [
    "import re"
   ]
  },
  {
   "cell_type": "code",
   "execution_count": 2,
   "id": "48b31ab9",
   "metadata": {},
   "outputs": [],
   "source": [
    "html = \"lasertec <topic>inspection tool <model>x8u\""
   ]
  },
  {
   "cell_type": "code",
   "execution_count": 9,
   "id": "2a75cc97",
   "metadata": {},
   "outputs": [
    {
     "data": {
      "text/plain": [
       "['<topic>inspection tool <model>']"
      ]
     },
     "execution_count": 9,
     "metadata": {},
     "output_type": "execute_result"
    }
   ],
   "source": [
    "#greedy searching\n",
    "re.findall(r\"<.*>\",html)"
   ]
  },
  {
   "cell_type": "markdown",
   "id": "60b1490c",
   "metadata": {},
   "source": [
    "    how to select <> <> both?\n",
    "    need non-greedy method ?"
   ]
  },
  {
   "cell_type": "code",
   "execution_count": 8,
   "id": "6e108551",
   "metadata": {
    "scrolled": true
   },
   "outputs": [
    {
     "data": {
      "text/plain": [
       "['<topic>', '<model>']"
      ]
     },
     "execution_count": 8,
     "metadata": {},
     "output_type": "execute_result"
    }
   ],
   "source": [
    "#non-greedy searching\n",
    "re.findall(r\"<.*?>\",html)"
   ]
  },
  {
   "cell_type": "code",
   "execution_count": null,
   "id": "10788fd2",
   "metadata": {},
   "outputs": [],
   "source": []
  }
 ],
 "metadata": {
  "kernelspec": {
   "display_name": "Python 3 (ipykernel)",
   "language": "python",
   "name": "python3"
  },
  "language_info": {
   "codemirror_mode": {
    "name": "ipython",
    "version": 3
   },
   "file_extension": ".py",
   "mimetype": "text/x-python",
   "name": "python",
   "nbconvert_exporter": "python",
   "pygments_lexer": "ipython3",
   "version": "3.8.8"
  }
 },
 "nbformat": 4,
 "nbformat_minor": 5
}
