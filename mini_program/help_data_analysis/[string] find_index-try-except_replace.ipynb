{
 "cells": [
  {
   "cell_type": "markdown",
   "id": "e7a4efa2",
   "metadata": {},
   "source": [
    "# find function"
   ]
  },
  {
   "cell_type": "code",
   "execution_count": 1,
   "id": "80085d8d",
   "metadata": {},
   "outputs": [],
   "source": [
    "name = \"neil wu is FAE in lasertec\""
   ]
  },
  {
   "cell_type": "markdown",
   "id": "6e23a133",
   "metadata": {},
   "source": [
    "find location, and no result"
   ]
  },
  {
   "cell_type": "code",
   "execution_count": 2,
   "id": "a6a60fbd",
   "metadata": {},
   "outputs": [
    {
     "name": "stdout",
     "output_type": "stream",
     "text": [
      "11\n",
      "-1\n"
     ]
    }
   ],
   "source": [
    "print(name.find('FAE'))\n",
    "print(name.find('PE'))"
   ]
  },
  {
   "cell_type": "markdown",
   "id": "a045accd",
   "metadata": {},
   "source": [
    "#### finding in range"
   ]
  },
  {
   "cell_type": "code",
   "execution_count": 3,
   "id": "e1c41d42",
   "metadata": {},
   "outputs": [
    {
     "data": {
      "text/plain": [
       "11"
      ]
     },
     "execution_count": 3,
     "metadata": {},
     "output_type": "execute_result"
    }
   ],
   "source": [
    "name.find('FAE',0,len(name))"
   ]
  },
  {
   "cell_type": "code",
   "execution_count": 4,
   "id": "0c9e44ac",
   "metadata": {},
   "outputs": [
    {
     "data": {
      "text/plain": [
       "-1"
      ]
     },
     "execution_count": 4,
     "metadata": {},
     "output_type": "execute_result"
    }
   ],
   "source": [
    "name.find('FAE',0,4)"
   ]
  },
  {
   "cell_type": "markdown",
   "id": "29f3b559",
   "metadata": {},
   "source": [
    "# index method, same as find"
   ]
  },
  {
   "cell_type": "code",
   "execution_count": 5,
   "id": "7566d50f",
   "metadata": {},
   "outputs": [
    {
     "data": {
      "text/plain": [
       "11"
      ]
     },
     "execution_count": 5,
     "metadata": {},
     "output_type": "execute_result"
    }
   ],
   "source": [
    "name.index('FAE')"
   ]
  },
  {
   "cell_type": "code",
   "execution_count": 6,
   "id": "fcccc091",
   "metadata": {},
   "outputs": [
    {
     "ename": "ValueError",
     "evalue": "substring not found",
     "output_type": "error",
     "traceback": [
      "\u001b[0;31m---------------------------------------------------------------------------\u001b[0m",
      "\u001b[0;31mValueError\u001b[0m                                Traceback (most recent call last)",
      "Cell \u001b[0;32mIn[6], line 1\u001b[0m\n\u001b[0;32m----> 1\u001b[0m \u001b[43mname\u001b[49m\u001b[38;5;241;43m.\u001b[39;49m\u001b[43mindex\u001b[49m\u001b[43m(\u001b[49m\u001b[38;5;124;43m'\u001b[39;49m\u001b[38;5;124;43mPE\u001b[39;49m\u001b[38;5;124;43m'\u001b[39;49m\u001b[43m)\u001b[49m\n",
      "\u001b[0;31mValueError\u001b[0m: substring not found"
     ]
    }
   ],
   "source": [
    "name.index('PE')"
   ]
  },
  {
   "cell_type": "code",
   "execution_count": 7,
   "id": "e6821232",
   "metadata": {},
   "outputs": [],
   "source": [
    "def index_checker(line,word):\n",
    "    try:\n",
    "        print(line.index(word))\n",
    "    except ValueError:\n",
    "        print('your key word not found')"
   ]
  },
  {
   "cell_type": "code",
   "execution_count": 8,
   "id": "ed14d229",
   "metadata": {},
   "outputs": [
    {
     "name": "stdout",
     "output_type": "stream",
     "text": [
      "12\n"
     ]
    }
   ],
   "source": [
    "index_checker(name,'AE')"
   ]
  },
  {
   "cell_type": "markdown",
   "id": "86be00a1",
   "metadata": {},
   "source": [
    "# counting characters"
   ]
  },
  {
   "cell_type": "code",
   "execution_count": 11,
   "id": "023e563e",
   "metadata": {},
   "outputs": [
    {
     "data": {
      "text/plain": [
       "3"
      ]
     },
     "execution_count": 11,
     "metadata": {},
     "output_type": "execute_result"
    }
   ],
   "source": [
    "name.count('e')"
   ]
  },
  {
   "cell_type": "code",
   "execution_count": 12,
   "id": "16b14598",
   "metadata": {},
   "outputs": [
    {
     "data": {
      "text/plain": [
       "0"
      ]
     },
     "execution_count": 12,
     "metadata": {},
     "output_type": "execute_result"
    }
   ],
   "source": [
    "name.count('e',15,16)"
   ]
  },
  {
   "cell_type": "markdown",
   "id": "defb5d4b",
   "metadata": {},
   "source": [
    "# replace function"
   ]
  },
  {
   "cell_type": "markdown",
   "id": "24df1ad1",
   "metadata": {},
   "source": [
    "as we know replace function can remove string"
   ]
  },
  {
   "cell_type": "code",
   "execution_count": 13,
   "id": "d9a3e865",
   "metadata": {},
   "outputs": [],
   "source": [
    "engineer = \"neil wu is lasertec engineer, is FAE engineer, is AE engineer\""
   ]
  },
  {
   "cell_type": "code",
   "execution_count": 14,
   "id": "991a39aa",
   "metadata": {},
   "outputs": [
    {
     "data": {
      "text/plain": [
       "'neil wu is lasertec E, is FAE E, is AE E'"
      ]
     },
     "execution_count": 14,
     "metadata": {},
     "output_type": "execute_result"
    }
   ],
   "source": [
    "engineer.replace('engineer','E')"
   ]
  },
  {
   "cell_type": "code",
   "execution_count": 25,
   "id": "a9316310",
   "metadata": {},
   "outputs": [
    {
     "data": {
      "text/plain": [
       "'neil wu is lasertec , is FAE , is AE engineer'"
      ]
     },
     "execution_count": 25,
     "metadata": {},
     "output_type": "execute_result"
    }
   ],
   "source": [
    "engineer.replace('engineer','',2)"
   ]
  },
  {
   "cell_type": "code",
   "execution_count": null,
   "id": "cebdb87d",
   "metadata": {},
   "outputs": [],
   "source": []
  }
 ],
 "metadata": {
  "kernelspec": {
   "display_name": "Python 3 (ipykernel)",
   "language": "python",
   "name": "python3"
  },
  "language_info": {
   "codemirror_mode": {
    "name": "ipython",
    "version": 3
   },
   "file_extension": ".py",
   "mimetype": "text/x-python",
   "name": "python",
   "nbconvert_exporter": "python",
   "pygments_lexer": "ipython3",
   "version": "3.8.8"
  }
 },
 "nbformat": 4,
 "nbformat_minor": 5
}
