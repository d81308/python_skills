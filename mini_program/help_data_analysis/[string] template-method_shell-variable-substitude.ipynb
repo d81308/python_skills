{
 "cells": [
  {
   "cell_type": "markdown",
   "id": "f8d4e8a8",
   "metadata": {},
   "source": [
    "# story"
   ]
  },
  {
   "cell_type": "markdown",
   "id": "116e614f",
   "metadata": {},
   "source": [
    "    as we know, f-string can do calc inside string \"\"\n",
    "    the formatting is defined by us\n",
    "    \n",
    "    let's see other method like f-string\n",
    "    is template() method"
   ]
  },
  {
   "cell_type": "code",
   "execution_count": 2,
   "id": "689273d9",
   "metadata": {},
   "outputs": [],
   "source": [
    "from string import Template"
   ]
  },
  {
   "cell_type": "code",
   "execution_count": 3,
   "id": "3c5f4c00",
   "metadata": {},
   "outputs": [],
   "source": [
    "intro = Template(\"the company $company has job searching $job\")"
   ]
  },
  {
   "cell_type": "code",
   "execution_count": 5,
   "id": "52e21e76",
   "metadata": {},
   "outputs": [
    {
     "data": {
      "text/plain": [
       "'the company lasertec has job searching FAE'"
      ]
     },
     "execution_count": 5,
     "metadata": {},
     "output_type": "execute_result"
    }
   ],
   "source": [
    "intro.substitute(company='lasertec',job='FAE')"
   ]
  },
  {
   "cell_type": "markdown",
   "id": "82639770",
   "metadata": {},
   "source": [
    "# the dollar sign $"
   ]
  },
  {
   "cell_type": "code",
   "execution_count": 9,
   "id": "991f7639",
   "metadata": {},
   "outputs": [
    {
     "data": {
      "text/plain": [
       "'the price is 1000'"
      ]
     },
     "execution_count": 9,
     "metadata": {},
     "output_type": "execute_result"
    }
   ],
   "source": [
    "price = Template(\"the price is $price\")\n",
    "price.substitute(price=1000)"
   ]
  },
  {
   "cell_type": "markdown",
   "id": "b88c7fc8",
   "metadata": {},
   "source": [
    "    how to add $ behind 1000?\n",
    "    > $$"
   ]
  },
  {
   "cell_type": "code",
   "execution_count": 12,
   "id": "f7cfc1d3",
   "metadata": {},
   "outputs": [
    {
     "data": {
      "text/plain": [
       "'the price is $price'"
      ]
     },
     "execution_count": 12,
     "metadata": {},
     "output_type": "execute_result"
    }
   ],
   "source": [
    "price = Template(\"the price is $$price\")\n",
    "price.substitute(price=1000)"
   ]
  },
  {
   "cell_type": "code",
   "execution_count": 13,
   "id": "60921b37",
   "metadata": {},
   "outputs": [
    {
     "data": {
      "text/plain": [
       "'the price is $1000'"
      ]
     },
     "execution_count": 13,
     "metadata": {},
     "output_type": "execute_result"
    }
   ],
   "source": [
    "price = Template(\"the price is $$$price\")\n",
    "price.substitute(price=1000)"
   ]
  },
  {
   "cell_type": "markdown",
   "id": "0fb4a0b2",
   "metadata": {},
   "source": [
    "# the dict error solution"
   ]
  },
  {
   "cell_type": "code",
   "execution_count": 14,
   "id": "a6e2c82f",
   "metadata": {},
   "outputs": [],
   "source": [
    "hr = {'company':'lasertec','job':'FAE'}"
   ]
  },
  {
   "cell_type": "code",
   "execution_count": 18,
   "id": "3d16f37a",
   "metadata": {},
   "outputs": [
    {
     "name": "stdout",
     "output_type": "stream",
     "text": [
      "the company lasertec is searching FAE job\n",
      "the company lasertec is searching FAE job\n"
     ]
    }
   ],
   "source": [
    "intro_hr = Template(\"the company $company is searching $job job\")\n",
    "print(intro_hr.substitute(company=hr['company'],job=hr['job']))\n",
    "print(intro_hr.substitute(hr))"
   ]
  },
  {
   "cell_type": "markdown",
   "id": "a0c391ef",
   "metadata": {},
   "source": [
    "    if variable count not match"
   ]
  },
  {
   "cell_type": "code",
   "execution_count": 20,
   "id": "2e1aa45d",
   "metadata": {},
   "outputs": [
    {
     "name": "stdout",
     "output_type": "stream",
     "text": [
      "there are missing information\n"
     ]
    }
   ],
   "source": [
    "intro_leader = Template(\"the company $company is searching $job job is $leader wanted\")\n",
    "try:\n",
    "    print(intro_leader.substitute(hr))\n",
    "except KeyError:\n",
    "    print('there are missing information')"
   ]
  },
  {
   "cell_type": "markdown",
   "id": "5cac59d2",
   "metadata": {},
   "source": [
    "    how to solve it\n",
    "    one method is using matching variables\n",
    "    second method is safe_substitute"
   ]
  },
  {
   "cell_type": "code",
   "execution_count": 22,
   "id": "998b1063",
   "metadata": {},
   "outputs": [
    {
     "name": "stdout",
     "output_type": "stream",
     "text": [
      "the company lasertec is searching FAE job is $leader wanted\n"
     ]
    }
   ],
   "source": [
    "print(intro_leader.safe_substitute(hr))"
   ]
  },
  {
   "cell_type": "code",
   "execution_count": null,
   "id": "5e9ace24",
   "metadata": {},
   "outputs": [],
   "source": []
  }
 ],
 "metadata": {
  "kernelspec": {
   "display_name": "Python 3 (ipykernel)",
   "language": "python",
   "name": "python3"
  },
  "language_info": {
   "codemirror_mode": {
    "name": "ipython",
    "version": 3
   },
   "file_extension": ".py",
   "mimetype": "text/x-python",
   "name": "python",
   "nbconvert_exporter": "python",
   "pygments_lexer": "ipython3",
   "version": "3.8.8"
  }
 },
 "nbformat": 4,
 "nbformat_minor": 5
}
