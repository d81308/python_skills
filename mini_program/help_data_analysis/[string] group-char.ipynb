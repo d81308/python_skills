{
 "cells": [
  {
   "cell_type": "code",
   "execution_count": 4,
   "id": "18fbd3aa",
   "metadata": {},
   "outputs": [],
   "source": [
    "import re"
   ]
  },
  {
   "cell_type": "code",
   "execution_count": 18,
   "id": "700aa338",
   "metadata": {},
   "outputs": [],
   "source": [
    "info=\"Lasertec is Vendor company. NeilWu is FAE engineer.\""
   ]
  },
  {
   "cell_type": "code",
   "execution_count": 11,
   "id": "44dd8316",
   "metadata": {},
   "outputs": [
    {
     "data": {
      "text/plain": [
       "['Lasertec is Japanese company.', 'Neil Wu is FAE ']"
      ]
     },
     "execution_count": 11,
     "metadata": {},
     "output_type": "execute_result"
    }
   ],
   "source": [
    "re.findall(r\"[a-zA-Z]+\\s\\w+\\s\\w+\\s\\w+\",info)"
   ]
  },
  {
   "cell_type": "markdown",
   "id": "069c6d1f",
   "metadata": {},
   "source": [
    "# grouping"
   ]
  },
  {
   "cell_type": "markdown",
   "id": "ff634c60",
   "metadata": {},
   "source": [
    "#### select name, job, title"
   ]
  },
  {
   "cell_type": "code",
   "execution_count": 19,
   "id": "a397f274",
   "metadata": {},
   "outputs": [
    {
     "data": {
      "text/plain": [
       "[('Lasertec', 'Vendor', 'company'), ('NeilWu', 'FAE', 'engineer')]"
      ]
     },
     "execution_count": 19,
     "metadata": {},
     "output_type": "execute_result"
    }
   ],
   "source": [
    "re.findall(r\"([a-zA-Z]+)\\s\\w+\\s(\\w+)\\s(\\w+)\",info)"
   ]
  },
  {
   "cell_type": "markdown",
   "id": "27900750",
   "metadata": {},
   "source": [
    "# the + position"
   ]
  },
  {
   "cell_type": "code",
   "execution_count": 20,
   "id": "1e37055d",
   "metadata": {},
   "outputs": [
    {
     "data": {
      "text/plain": [
       "['Lasertec', 'is', 'Vendor', 'company', 'NeilWu', 'is', 'FAE', 'engineer']"
      ]
     },
     "execution_count": 20,
     "metadata": {},
     "output_type": "execute_result"
    }
   ],
   "source": [
    "re.findall(r\"([a-zA-Z]+)\",info)"
   ]
  },
  {
   "cell_type": "code",
   "execution_count": 21,
   "id": "71f1b1bf",
   "metadata": {},
   "outputs": [
    {
     "data": {
      "text/plain": [
       "['c', 's', 'r', 'y', 'u', 's', 'E', 'r']"
      ]
     },
     "execution_count": 21,
     "metadata": {},
     "output_type": "execute_result"
    }
   ],
   "source": [
    "re.findall(r\"([a-zA-Z])+\",info)"
   ]
  },
  {
   "cell_type": "markdown",
   "id": "6362983d",
   "metadata": {},
   "source": []
  }
 ],
 "metadata": {
  "kernelspec": {
   "display_name": "Python 3 (ipykernel)",
   "language": "python",
   "name": "python3"
  },
  "language_info": {
   "codemirror_mode": {
    "name": "ipython",
    "version": 3
   },
   "file_extension": ".py",
   "mimetype": "text/x-python",
   "name": "python",
   "nbconvert_exporter": "python",
   "pygments_lexer": "ipython3",
   "version": "3.8.8"
  }
 },
 "nbformat": 4,
 "nbformat_minor": 5
}
