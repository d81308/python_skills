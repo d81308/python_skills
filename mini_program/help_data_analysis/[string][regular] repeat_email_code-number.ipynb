{
 "cells": [
  {
   "cell_type": "code",
   "execution_count": 2,
   "id": "6e939e65",
   "metadata": {},
   "outputs": [],
   "source": [
    "import re"
   ]
  },
  {
   "cell_type": "markdown",
   "id": "e55bf3a3",
   "metadata": {},
   "source": [
    "# repeated words"
   ]
  },
  {
   "cell_type": "code",
   "execution_count": 1,
   "id": "623b2034",
   "metadata": {},
   "outputs": [],
   "source": [
    "id = \"neilwu590\""
   ]
  },
  {
   "cell_type": "markdown",
   "id": "a4afdfd9",
   "metadata": {},
   "source": [
    "    if we need to match <id>\n",
    "    need 6 \\w and 3 \\d"
   ]
  },
  {
   "cell_type": "code",
   "execution_count": 5,
   "id": "6c0c2b0f",
   "metadata": {},
   "outputs": [
    {
     "data": {
      "text/plain": [
       "['neilwu590']"
      ]
     },
     "execution_count": 5,
     "metadata": {},
     "output_type": "execute_result"
    }
   ],
   "source": [
    "re.findall(r\"\\w\\w\\w\\w\\w\\w\\d\\d\\d\",id)"
   ]
  },
  {
   "cell_type": "code",
   "execution_count": 6,
   "id": "bef01031",
   "metadata": {},
   "outputs": [
    {
     "data": {
      "text/plain": [
       "['neilwu590']"
      ]
     },
     "execution_count": 6,
     "metadata": {},
     "output_type": "execute_result"
    }
   ],
   "source": [
    "#faster method\n",
    "re.findall(r\"\\w{6}\\d{3}\",id)"
   ]
  },
  {
   "cell_type": "markdown",
   "id": "2843229c",
   "metadata": {},
   "source": [
    "# repeated numbers"
   ]
  },
  {
   "cell_type": "code",
   "execution_count": 7,
   "id": "50b844f3",
   "metadata": {},
   "outputs": [],
   "source": [
    "date_info = \"birth:1992/03/08, or 1992/3/8\""
   ]
  },
  {
   "cell_type": "code",
   "execution_count": 8,
   "id": "9131b162",
   "metadata": {},
   "outputs": [
    {
     "data": {
      "text/plain": [
       "['1992/3/8']"
      ]
     },
     "execution_count": 8,
     "metadata": {},
     "output_type": "execute_result"
    }
   ],
   "source": [
    "#\\d only\n",
    "re.findall(r\"\\d{4}/\\d/\\d\",date_info)"
   ]
  },
  {
   "cell_type": "markdown",
   "id": "f42289e9",
   "metadata": {},
   "source": [
    "    the 1992/03/08 can't detect\n",
    "    need \\d\\d\n",
    "    \n",
    "    how to faster"
   ]
  },
  {
   "cell_type": "code",
   "execution_count": 12,
   "id": "349ea59f",
   "metadata": {},
   "outputs": [
    {
     "data": {
      "text/plain": [
       "['1992/03/08', '1992/3/8']"
      ]
     },
     "execution_count": 12,
     "metadata": {},
     "output_type": "execute_result"
    }
   ],
   "source": [
    "#faster \\+\n",
    "re.findall(r\"\\d+/\\d+/\\d+\",date_info)"
   ]
  },
  {
   "cell_type": "markdown",
   "id": "5b4f2fc3",
   "metadata": {},
   "source": [
    "# many signs"
   ]
  },
  {
   "cell_type": "code",
   "execution_count": 30,
   "id": "768b5ee1",
   "metadata": {},
   "outputs": [],
   "source": [
    "engineer = \"@neilwu!590,@sym889\""
   ]
  },
  {
   "cell_type": "code",
   "execution_count": 22,
   "id": "27bc4d8c",
   "metadata": {},
   "outputs": [
    {
     "name": "stdout",
     "output_type": "stream",
     "text": [
      "only words: ['neilwu', '590']\n",
      "only signs ['@', '!']\n",
      "all elements plot words: ['', 'neilwu', '', '590', '']\n",
      "all elements plot signs: ['@', '', '', '', '', '', '', '!', '', '', '', '']\n"
     ]
    }
   ],
   "source": [
    "print(\"only words:\",re.findall(r\"\\w+\",engineer))\n",
    "print(\"only signs\", re.findall(r\"\\W+\",engineer))\n",
    "\n",
    "print(\"all elements plot words:\",re.findall(r\"\\w*\",engineer))\n",
    "print(\"all elements plot signs:\", re.findall(r\"\\W*\",engineer))"
   ]
  },
  {
   "cell_type": "markdown",
   "id": "ad02cefc",
   "metadata": {},
   "source": [
    "    how to plot all strings?"
   ]
  },
  {
   "cell_type": "code",
   "execution_count": 37,
   "id": "1648355e",
   "metadata": {},
   "outputs": [
    {
     "name": "stdout",
     "output_type": "stream",
     "text": [
      "plot only W+ match ['@neilwu!590']\n",
      "plot all W* match: ['@neilwu!590', '@sym889']\n"
     ]
    }
   ],
   "source": [
    "print(\"plot only W+ match\",re.findall(r\"\\W\\w+\\W+\\w+\",engineer))\n",
    "print(\"plot all W* match:\",re.findall(r\"\\W\\w+\\W*\\w+\",engineer))"
   ]
  },
  {
   "cell_type": "markdown",
   "id": "bb816d96",
   "metadata": {},
   "source": [
    "# power matching, http"
   ]
  },
  {
   "cell_type": "code",
   "execution_count": 66,
   "id": "0a9940f5",
   "metadata": {},
   "outputs": [],
   "source": [
    "http = \"https://neilwu.lasertec.com, http://neilwu.facebook.com\""
   ]
  },
  {
   "cell_type": "code",
   "execution_count": 67,
   "id": "6bcb21ac",
   "metadata": {},
   "outputs": [
    {
     "data": {
      "text/plain": [
       "['https://neilwu.lasertec.com,', 'http://neilwu.facebook.com']"
      ]
     },
     "execution_count": 67,
     "metadata": {},
     "output_type": "execute_result"
    }
   ],
   "source": [
    "re.findall(r\"http\\S+\",http)"
   ]
  },
  {
   "cell_type": "markdown",
   "id": "a25ea77e",
   "metadata": {},
   "source": [
    "# possible words"
   ]
  },
  {
   "cell_type": "code",
   "execution_count": 52,
   "id": "1d6d94cb",
   "metadata": {},
   "outputs": [],
   "source": [
    "engineer = \"neil, neiol\""
   ]
  },
  {
   "cell_type": "code",
   "execution_count": 56,
   "id": "fe73fbb3",
   "metadata": {},
   "outputs": [
    {
     "data": {
      "text/plain": [
       "['neil', 'neiol']"
      ]
     },
     "execution_count": 56,
     "metadata": {},
     "output_type": "execute_result"
    }
   ],
   "source": [
    "re.findall(r\"neio?l\",engineer)"
   ]
  },
  {
   "cell_type": "markdown",
   "id": "a8e1b872",
   "metadata": {},
   "source": [
    "# range size with id number"
   ]
  },
  {
   "cell_type": "code",
   "execution_count": 57,
   "id": "901de1b7",
   "metadata": {},
   "outputs": [],
   "source": [
    "engineer_id = \"neil:45-788-445, sym:788-344-8898, yuu:12-687-9907787\""
   ]
  },
  {
   "cell_type": "code",
   "execution_count": 61,
   "id": "5b27b000",
   "metadata": {},
   "outputs": [
    {
     "data": {
      "text/plain": [
       "['45-788-445', '788-344-8898', '12-687-9907787']"
      ]
     },
     "execution_count": 61,
     "metadata": {},
     "output_type": "execute_result"
    }
   ],
   "source": [
    "re.findall(r\"\\d{2,3}-\\d{3}-\\d{3,}\",engineer_id)"
   ]
  },
  {
   "cell_type": "code",
   "execution_count": null,
   "id": "cab7d916",
   "metadata": {},
   "outputs": [],
   "source": []
  }
 ],
 "metadata": {
  "kernelspec": {
   "display_name": "Python 3 (ipykernel)",
   "language": "python",
   "name": "python3"
  },
  "language_info": {
   "codemirror_mode": {
    "name": "ipython",
    "version": 3
   },
   "file_extension": ".py",
   "mimetype": "text/x-python",
   "name": "python",
   "nbconvert_exporter": "python",
   "pygments_lexer": "ipython3",
   "version": "3.8.8"
  }
 },
 "nbformat": 4,
 "nbformat_minor": 5
}
