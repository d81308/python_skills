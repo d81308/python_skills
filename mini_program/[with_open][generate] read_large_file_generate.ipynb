{
 "cells": [
  {
   "cell_type": "markdown",
   "id": "1193249c",
   "metadata": {},
   "source": [
    "# simple generate function"
   ]
  },
  {
   "cell_type": "code",
   "execution_count": 1,
   "id": "94fd595c",
   "metadata": {},
   "outputs": [],
   "source": [
    "def num_squence(n):\n",
    "    i=0\n",
    "    while i<n:\n",
    "        yield i\n",
    "        i += 1"
   ]
  },
  {
   "cell_type": "code",
   "execution_count": 3,
   "id": "71c409df",
   "metadata": {},
   "outputs": [
    {
     "data": {
      "text/plain": [
       "[0, 1, 2]"
      ]
     },
     "execution_count": 3,
     "metadata": {},
     "output_type": "execute_result"
    }
   ],
   "source": [
    "list(num_squence(3))"
   ]
  },
  {
   "cell_type": "markdown",
   "id": "4e01fe02",
   "metadata": {},
   "source": [
    "# open file with generate function"
   ]
  },
  {
   "cell_type": "code",
   "execution_count": 30,
   "id": "02e20fd2",
   "metadata": {},
   "outputs": [],
   "source": [
    "# Define read_large_file()\n",
    "def read_large_file(file_object):\n",
    "    \"\"\"A generator function to read a large file lazily.\"\"\"\n",
    "\n",
    "    # Loop indefinitely until the end of the file\n",
    "    while True:\n",
    "\n",
    "        # Read a line from the file: data\n",
    "        data = file_object.readline()\n",
    "\n",
    "        # Break if this is the end of the file\n",
    "        if not data:\n",
    "            break\n",
    "\n",
    "        # Yield the line of data\n",
    "        yield data\n",
    "        "
   ]
  },
  {
   "cell_type": "code",
   "execution_count": 31,
   "id": "168cdab0",
   "metadata": {},
   "outputs": [
    {
     "name": "stdout",
     "output_type": "stream",
     "text": [
      "﻿\"Country Name\",\"Country Code\",\"Indicator Name\",\"Indicator Code\",\"1960\",\"1961\",\"1962\",\"1963\",\"1964\",\"1965\",\"1966\",\"1967\",\"1968\",\"1969\",\"1970\",\"1971\",\"1972\",\"1973\",\"1974\",\"1975\",\"1976\",\"1977\",\"1978\",\"1979\",\"1980\",\"1981\",\"1982\",\"1983\",\"1984\",\"1985\",\"1986\",\"1987\",\"1988\",\"1989\",\"1990\",\"1991\",\"1992\",\"1993\",\"1994\",\"1995\",\"1996\",\"1997\",\"1998\",\"1999\",\"2000\",\"2001\",\"2002\",\"2003\",\"2004\",\"2005\",\"2006\",\"2007\",\"2008\",\"2009\",\"2010\",\"2011\",\"2012\",\"2013\",\"2014\",\"2015\",\"2016\",\"2017\",\"2018\",\"2019\",\"2020\",\"2021\",\n",
      "\n",
      "\"Africa Eastern and Southern\",\"AFE\",\"Access to clean fuels and technologies for cooking (% of population)\",\"EG.CFT.ACCS.ZS\",\"\",\"\",\"\",\"\",\"\",\"\",\"\",\"\",\"\",\"\",\"\",\"\",\"\",\"\",\"\",\"\",\"\",\"\",\"\",\"\",\"\",\"\",\"\",\"\",\"\",\"\",\"\",\"\",\"\",\"\",\"\",\"\",\"\",\"\",\"\",\"\",\"\",\"\",\"\",\"\",\"11.5696259007967\",\"11.9151389016096\",\"12.2569935314407\",\"12.6034691204175\",\"12.9661064999649\",\"13.374962995881\",\"13.8637670284558\",\"14.324713926489\",\"14.7241218031951\",\"15.1727442987004\",\"15.5510054788234\",\"16.0271653825138\",\"16.4339992302038\",\"16.7890434673854\",\"17.1969857948132\",\"17.5971757021967\",\"18.0342493911412\",\"18.3458780723546\",\"18.6953056959887\",\"19.1499422830714\",\"19.5018373155115\",\"\",\n",
      "\n",
      "\"Africa Eastern and Southern\",\"AFE\",\"Access to clean fuels and technologies for cooking, rural (% of rural population)\",\"EG.CFT.ACCS.RU.ZS\",\"\",\"\",\"\",\"\",\"\",\"\",\"\",\"\",\"\",\"\",\"\",\"\",\"\",\"\",\"\",\"\",\"\",\"\",\"\",\"\",\"\",\"\",\"\",\"\",\"\",\"\",\"\",\"\",\"\",\"\",\"\",\"\",\"\",\"\",\"\",\"\",\"\",\"\",\"\",\"\",\"3.54550113794341\",\"3.73078050108843\",\"3.87701702218195\",\"4.09347364828092\",\"4.32417197721909\",\"4.53603126489342\",\"4.81356127324315\",\"5.02013428829699\",\"5.28205621424329\",\"5.50608590198657\",\"5.75907754293893\",\"5.99136388204052\",\"6.19654348784626\",\"6.39791679373469\",\"6.58006622202003\",\"6.78621801581067\",\"6.94132323089145\",\"7.09684299721268\",\"7.25482807057078\",\"7.46078295393556\",\"7.59928856389562\",\"\",\n",
      "\n"
     ]
    }
   ],
   "source": [
    "with open('WDI_csv/WDIData.csv') as file:\n",
    "    gen_file = read_large_file(file)\n",
    "    print(next(gen_file))\n",
    "    print(next(gen_file))\n",
    "    print(next(gen_file))"
   ]
  },
  {
   "cell_type": "code",
   "execution_count": null,
   "id": "14a34838",
   "metadata": {},
   "outputs": [],
   "source": []
  }
 ],
 "metadata": {
  "kernelspec": {
   "display_name": "Python 3 (ipykernel)",
   "language": "python",
   "name": "python3"
  },
  "language_info": {
   "codemirror_mode": {
    "name": "ipython",
    "version": 3
   },
   "file_extension": ".py",
   "mimetype": "text/x-python",
   "name": "python",
   "nbconvert_exporter": "python",
   "pygments_lexer": "ipython3",
   "version": "3.8.8"
  }
 },
 "nbformat": 4,
 "nbformat_minor": 5
}
