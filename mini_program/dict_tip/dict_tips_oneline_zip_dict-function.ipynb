{
 "cells": [
  {
   "cell_type": "markdown",
   "id": "c1c1eac1",
   "metadata": {},
   "source": [
    "# objectives\n",
    "how to use for loop to given key,value into dict\n",
    "> key in list and value in list"
   ]
  },
  {
   "cell_type": "markdown",
   "id": "d80610f0",
   "metadata": {},
   "source": [
    "# zip process"
   ]
  },
  {
   "cell_type": "code",
   "execution_count": 1,
   "id": "d8702b9c",
   "metadata": {},
   "outputs": [],
   "source": [
    "list_a = ['a','b','c']\n",
    "list_b = ['A','B','C']"
   ]
  },
  {
   "cell_type": "code",
   "execution_count": 52,
   "id": "67670d9c",
   "metadata": {},
   "outputs": [],
   "source": [
    "zip_a_b = zip(list_a,list_b)"
   ]
  },
  {
   "cell_type": "code",
   "execution_count": 53,
   "id": "91d71801",
   "metadata": {},
   "outputs": [],
   "source": [
    "a,b = zip(*zip_a_b)"
   ]
  },
  {
   "cell_type": "markdown",
   "id": "9a387171",
   "metadata": {},
   "source": [
    "# dict process"
   ]
  },
  {
   "cell_type": "code",
   "execution_count": 49,
   "id": "6a20bfe4",
   "metadata": {},
   "outputs": [],
   "source": [
    "merge_dict = {}"
   ]
  },
  {
   "cell_type": "code",
   "execution_count": 56,
   "id": "8fde72c3",
   "metadata": {},
   "outputs": [],
   "source": [
    "for a,b in zip(list_a,list_b):\n",
    "    merge_dict[a]=b"
   ]
  },
  {
   "cell_type": "code",
   "execution_count": 57,
   "id": "7a3b5168",
   "metadata": {},
   "outputs": [
    {
     "data": {
      "text/plain": [
       "{'a': 'A', 'b': 'B', 'c': 'C'}"
      ]
     },
     "execution_count": 57,
     "metadata": {},
     "output_type": "execute_result"
    }
   ],
   "source": [
    "merge_dict"
   ]
  },
  {
   "cell_type": "markdown",
   "id": "fb45ecb1",
   "metadata": {},
   "source": [
    "one line\n",
    "> only for loop cant one-by-one keyin"
   ]
  },
  {
   "cell_type": "code",
   "execution_count": 70,
   "id": "7eaa4844",
   "metadata": {},
   "outputs": [],
   "source": [
    "merge_one_line = {word_a:word_b for word_a in list_a for word_b in list_b}"
   ]
  },
  {
   "cell_type": "code",
   "execution_count": 71,
   "id": "84eedab9",
   "metadata": {},
   "outputs": [
    {
     "data": {
      "text/plain": [
       "{'a': 'C', 'b': 'C', 'c': 'C'}"
      ]
     },
     "execution_count": 71,
     "metadata": {},
     "output_type": "execute_result"
    }
   ],
   "source": [
    "merge_one_line"
   ]
  },
  {
   "cell_type": "markdown",
   "id": "bde6987f",
   "metadata": {},
   "source": [
    "one line dict by zip magic"
   ]
  },
  {
   "cell_type": "code",
   "execution_count": 73,
   "id": "9126e7cb",
   "metadata": {},
   "outputs": [],
   "source": [
    "merge_one_zip = {a:b for a,b in zip(list_a,list_b)}"
   ]
  },
  {
   "cell_type": "code",
   "execution_count": 74,
   "id": "a1fde756",
   "metadata": {},
   "outputs": [
    {
     "data": {
      "text/plain": [
       "{'a': 'A', 'b': 'B', 'c': 'C'}"
      ]
     },
     "execution_count": 74,
     "metadata": {},
     "output_type": "execute_result"
    }
   ],
   "source": [
    "merge_one_zip"
   ]
  },
  {
   "cell_type": "markdown",
   "id": "a50d2f34",
   "metadata": {},
   "source": [
    "# advanced one line\n",
    "direct by dict()"
   ]
  },
  {
   "cell_type": "code",
   "execution_count": 75,
   "id": "8af67895",
   "metadata": {},
   "outputs": [],
   "source": [
    "list_a = ['a','b','c']\n",
    "list_b = ['A','B','C']\n",
    "zip_a_b = zip(list_a,list_b)"
   ]
  },
  {
   "cell_type": "code",
   "execution_count": 77,
   "id": "bb6d3cfd",
   "metadata": {},
   "outputs": [
    {
     "data": {
      "text/plain": [
       "{'a': 'A', 'b': 'B', 'c': 'C'}"
      ]
     },
     "execution_count": 77,
     "metadata": {},
     "output_type": "execute_result"
    }
   ],
   "source": [
    "dict_by_zip = dict(zip_a_b)\n",
    "dict_by_zip"
   ]
  },
  {
   "cell_type": "code",
   "execution_count": null,
   "id": "15f5f3c9",
   "metadata": {},
   "outputs": [],
   "source": []
  }
 ],
 "metadata": {
  "kernelspec": {
   "display_name": "Python 3 (ipykernel)",
   "language": "python",
   "name": "python3"
  },
  "language_info": {
   "codemirror_mode": {
    "name": "ipython",
    "version": 3
   },
   "file_extension": ".py",
   "mimetype": "text/x-python",
   "name": "python",
   "nbconvert_exporter": "python",
   "pygments_lexer": "ipython3",
   "version": "3.8.8"
  }
 },
 "nbformat": 4,
 "nbformat_minor": 5
}
