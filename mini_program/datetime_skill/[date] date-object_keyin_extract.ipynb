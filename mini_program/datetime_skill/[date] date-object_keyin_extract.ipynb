{
 "cells": [
  {
   "cell_type": "code",
   "execution_count": 1,
   "id": "93a97e2f",
   "metadata": {},
   "outputs": [],
   "source": [
    "from datetime import date"
   ]
  },
  {
   "cell_type": "code",
   "execution_count": 2,
   "id": "70469bc4",
   "metadata": {},
   "outputs": [],
   "source": [
    "two_dates = [date(2022,1,3), date(2023,10,5)]"
   ]
  },
  {
   "cell_type": "markdown",
   "id": "034ec4b3",
   "metadata": {},
   "source": [
    "# extract the date form"
   ]
  },
  {
   "cell_type": "code",
   "execution_count": 6,
   "id": "85c81b3b",
   "metadata": {},
   "outputs": [
    {
     "name": "stdout",
     "output_type": "stream",
     "text": [
      "2023\n",
      "10\n",
      "5\n"
     ]
    }
   ],
   "source": [
    "print(two_dates[1].year)\n",
    "print(two_dates[1].month)\n",
    "print(two_dates[1].day)"
   ]
  },
  {
   "cell_type": "code",
   "execution_count": 7,
   "id": "9ae55c5c",
   "metadata": {},
   "outputs": [
    {
     "data": {
      "text/plain": [
       "3"
      ]
     },
     "execution_count": 7,
     "metadata": {},
     "output_type": "execute_result"
    }
   ],
   "source": [
    "two_dates[1].weekday()"
   ]
  },
  {
   "cell_type": "code",
   "execution_count": null,
   "id": "08f26bfd",
   "metadata": {},
   "outputs": [],
   "source": []
  }
 ],
 "metadata": {
  "kernelspec": {
   "display_name": "Python 3 (ipykernel)",
   "language": "python",
   "name": "python3"
  },
  "language_info": {
   "codemirror_mode": {
    "name": "ipython",
    "version": 3
   },
   "file_extension": ".py",
   "mimetype": "text/x-python",
   "name": "python",
   "nbconvert_exporter": "python",
   "pygments_lexer": "ipython3",
   "version": "3.8.8"
  }
 },
 "nbformat": 4,
 "nbformat_minor": 5
}
