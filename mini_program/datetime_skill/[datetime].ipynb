{
 "cells": [
  {
   "cell_type": "code",
   "execution_count": 1,
   "id": "45285e25",
   "metadata": {},
   "outputs": [],
   "source": [
    "from datetime import datetime"
   ]
  },
  {
   "cell_type": "code",
   "execution_count": 2,
   "id": "e8dec100",
   "metadata": {},
   "outputs": [],
   "source": [
    "t1 = datetime(2023,2,5,10,25,16)\n",
    "t2 = datetime(2023,2,6,11,16,14)"
   ]
  },
  {
   "cell_type": "markdown",
   "id": "296bb127",
   "metadata": {},
   "source": [
    "# single calc"
   ]
  },
  {
   "cell_type": "markdown",
   "id": "7f7c2b6e",
   "metadata": {},
   "source": [
    "#### default form"
   ]
  },
  {
   "cell_type": "code",
   "execution_count": 4,
   "id": "1aa59d82",
   "metadata": {},
   "outputs": [
    {
     "name": "stdout",
     "output_type": "stream",
     "text": [
      "1 day, 0:50:58\n"
     ]
    }
   ],
   "source": [
    "duration_cal = t2 - t1\n",
    "print(duration_cal)"
   ]
  },
  {
   "cell_type": "markdown",
   "id": "f9cf6e6f",
   "metadata": {},
   "source": [
    "#### print with second"
   ]
  },
  {
   "cell_type": "code",
   "execution_count": 8,
   "id": "b27e1b65",
   "metadata": {},
   "outputs": [
    {
     "name": "stdout",
     "output_type": "stream",
     "text": [
      "89458.0\n"
     ]
    }
   ],
   "source": [
    "print(duration_cal.total_seconds())"
   ]
  },
  {
   "cell_type": "markdown",
   "id": "9f1defb8",
   "metadata": {},
   "source": [
    "# delta math idea"
   ]
  },
  {
   "cell_type": "code",
   "execution_count": 9,
   "id": "7b215ca9",
   "metadata": {},
   "outputs": [],
   "source": [
    "from datetime import timedelta"
   ]
  },
  {
   "cell_type": "code",
   "execution_count": 12,
   "id": "301f325b",
   "metadata": {},
   "outputs": [
    {
     "name": "stdout",
     "output_type": "stream",
     "text": [
      "2023-02-05 10:25:16\n",
      "2023-02-05 10:25:17\n"
     ]
    }
   ],
   "source": [
    "delta1 = timedelta(seconds=1)\n",
    "print(t1)\n",
    "print(t1 + delta1)"
   ]
  },
  {
   "cell_type": "code",
   "execution_count": 14,
   "id": "875fac9d",
   "metadata": {},
   "outputs": [
    {
     "name": "stdout",
     "output_type": "stream",
     "text": [
      "2023-02-05 10:25:16\n",
      "2023-02-06 10:25:17\n"
     ]
    }
   ],
   "source": [
    "delta2 = timedelta(days=1,seconds=1)\n",
    "print(t1)\n",
    "print(t1 + delta2)"
   ]
  },
  {
   "cell_type": "code",
   "execution_count": 16,
   "id": "ca297eb9",
   "metadata": {},
   "outputs": [
    {
     "name": "stdout",
     "output_type": "stream",
     "text": [
      "2023-02-05 10:25:16\n",
      "2023-01-29 10:25:16\n",
      "2023-01-29 10:25:16\n"
     ]
    }
   ],
   "source": [
    "delta3 = timedelta(weeks=-1)\n",
    "delta4 = timedelta(weeks=1)\n",
    "\n",
    "print(t1)\n",
    "print(t1 + delta3)\n",
    "print(t1 - delta4)"
   ]
  },
  {
   "cell_type": "code",
   "execution_count": null,
   "id": "2310aa3d",
   "metadata": {},
   "outputs": [],
   "source": []
  }
 ],
 "metadata": {
  "kernelspec": {
   "display_name": "Python 3",
   "language": "python",
   "name": "python3"
  },
  "language_info": {
   "codemirror_mode": {
    "name": "ipython",
    "version": 3
   },
   "file_extension": ".py",
   "mimetype": "text/x-python",
   "name": "python",
   "nbconvert_exporter": "python",
   "pygments_lexer": "ipython3",
   "version": "3.6.13"
  }
 },
 "nbformat": 4,
 "nbformat_minor": 5
}
