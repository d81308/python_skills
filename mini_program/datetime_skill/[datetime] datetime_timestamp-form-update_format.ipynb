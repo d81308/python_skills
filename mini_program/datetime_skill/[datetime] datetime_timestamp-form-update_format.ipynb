{
 "cells": [
  {
   "cell_type": "code",
   "execution_count": 1,
   "id": "afea5eaa",
   "metadata": {},
   "outputs": [],
   "source": [
    "from datetime import datetime"
   ]
  },
  {
   "cell_type": "markdown",
   "id": "aafbaa15",
   "metadata": {},
   "source": [
    "# datetime form"
   ]
  },
  {
   "cell_type": "markdown",
   "id": "d0fa20be",
   "metadata": {},
   "source": [
    "### command line input"
   ]
  },
  {
   "cell_type": "code",
   "execution_count": 2,
   "id": "5adf4593",
   "metadata": {},
   "outputs": [
    {
     "name": "stdout",
     "output_type": "stream",
     "text": [
      "2022-03-05 15:23:25.000001\n",
      "2022-03-05T15:23:25.000001\n"
     ]
    }
   ],
   "source": [
    "dt = datetime(2022,3,5,15,23,25,1)\n",
    "print(dt)\n",
    "print(dt.isoformat())"
   ]
  },
  {
   "cell_type": "markdown",
   "id": "0a45c03e",
   "metadata": {},
   "source": [
    "### magic input"
   ]
  },
  {
   "cell_type": "code",
   "execution_count": 3,
   "id": "d3937b41",
   "metadata": {},
   "outputs": [
    {
     "name": "stdout",
     "output_type": "stream",
     "text": [
      "2022-03-05 15:23:25.000001\n",
      "2022-03-05T15:23:25.000001\n"
     ]
    }
   ],
   "source": [
    "dt_def = datetime(\n",
    "    year=2022,\n",
    "    month=3,\n",
    "    day=5,\n",
    "    hour=15,\n",
    "    minute=23,\n",
    "    second=25,\n",
    "    microsecond=1,\n",
    ")\n",
    "print(dt_def)\n",
    "print(dt_def.isoformat())"
   ]
  },
  {
   "cell_type": "markdown",
   "id": "108cbbf3",
   "metadata": {},
   "source": [
    "#### update datetime by replace"
   ]
  },
  {
   "cell_type": "code",
   "execution_count": 4,
   "id": "ffd50158",
   "metadata": {},
   "outputs": [
    {
     "name": "stdout",
     "output_type": "stream",
     "text": [
      "2022-03-05 15:00:00\n",
      "2022-03-05T15:00:00\n"
     ]
    }
   ],
   "source": [
    "dt_hr_clean = dt_def.replace(\n",
    "    minute=0,\n",
    "    second=0,\n",
    "    microsecond=0,\n",
    ")\n",
    "print(dt_hr_clean)\n",
    "print(dt_hr_clean.isoformat())"
   ]
  },
  {
   "cell_type": "markdown",
   "id": "ccb3be58",
   "metadata": {},
   "source": [
    "# datetime format"
   ]
  },
  {
   "cell_type": "markdown",
   "id": "5ce4bdf3",
   "metadata": {},
   "source": [
    "### strftime"
   ]
  },
  {
   "cell_type": "code",
   "execution_count": 7,
   "id": "055a585a",
   "metadata": {},
   "outputs": [
    {
     "name": "stdout",
     "output_type": "stream",
     "text": [
      "2022/03/05-15:23:25\n"
     ]
    }
   ],
   "source": [
    "print(dt.strftime('%Y/%m/%d-%H:%M:%S'))"
   ]
  },
  {
   "cell_type": "markdown",
   "id": "dda2c869",
   "metadata": {},
   "source": [
    "#### strptime"
   ]
  },
  {
   "cell_type": "markdown",
   "id": "a48b21da",
   "metadata": {},
   "source": [
    "the format checker"
   ]
  },
  {
   "cell_type": "code",
   "execution_count": 15,
   "id": "d05961aa",
   "metadata": {},
   "outputs": [
    {
     "ename": "ValueError",
     "evalue": "time data '2022/03/05-15:23:24' does not match format '%Y/%m/%d %H:%M:%S'",
     "output_type": "error",
     "traceback": [
      "\u001b[0;31m---------------------------------------------------------------------------\u001b[0m",
      "\u001b[0;31mValueError\u001b[0m                                Traceback (most recent call last)",
      "\u001b[0;32m<ipython-input-15-500a114a61a8>\u001b[0m in \u001b[0;36m<module>\u001b[0;34m\u001b[0m\n\u001b[0;32m----> 1\u001b[0;31m \u001b[0mdt_strp\u001b[0m \u001b[0;34m=\u001b[0m \u001b[0mdt\u001b[0m\u001b[0;34m.\u001b[0m\u001b[0mstrptime\u001b[0m\u001b[0;34m(\u001b[0m\u001b[0;34m'2022/03/05-15:23:24'\u001b[0m\u001b[0;34m,\u001b[0m\u001b[0;34m'%Y/%m/%d %H:%M:%S'\u001b[0m\u001b[0;34m)\u001b[0m\u001b[0;34m\u001b[0m\u001b[0;34m\u001b[0m\u001b[0m\n\u001b[0m\u001b[1;32m      2\u001b[0m \u001b[0mprint\u001b[0m\u001b[0;34m(\u001b[0m\u001b[0mdt_strp\u001b[0m\u001b[0;34m)\u001b[0m\u001b[0;34m\u001b[0m\u001b[0;34m\u001b[0m\u001b[0m\n",
      "\u001b[0;32m~/opt/anaconda3/envs/airflow-tutorials/lib/python3.6/_strptime.py\u001b[0m in \u001b[0;36m_strptime_datetime\u001b[0;34m(cls, data_string, format)\u001b[0m\n\u001b[1;32m    563\u001b[0m     \"\"\"Return a class cls instance based on the input string and the\n\u001b[1;32m    564\u001b[0m     format string.\"\"\"\n\u001b[0;32m--> 565\u001b[0;31m     \u001b[0mtt\u001b[0m\u001b[0;34m,\u001b[0m \u001b[0mfraction\u001b[0m \u001b[0;34m=\u001b[0m \u001b[0m_strptime\u001b[0m\u001b[0;34m(\u001b[0m\u001b[0mdata_string\u001b[0m\u001b[0;34m,\u001b[0m \u001b[0mformat\u001b[0m\u001b[0;34m)\u001b[0m\u001b[0;34m\u001b[0m\u001b[0;34m\u001b[0m\u001b[0m\n\u001b[0m\u001b[1;32m    566\u001b[0m     \u001b[0mtzname\u001b[0m\u001b[0;34m,\u001b[0m \u001b[0mgmtoff\u001b[0m \u001b[0;34m=\u001b[0m \u001b[0mtt\u001b[0m\u001b[0;34m[\u001b[0m\u001b[0;34m-\u001b[0m\u001b[0;36m2\u001b[0m\u001b[0;34m:\u001b[0m\u001b[0;34m]\u001b[0m\u001b[0;34m\u001b[0m\u001b[0;34m\u001b[0m\u001b[0m\n\u001b[1;32m    567\u001b[0m     \u001b[0margs\u001b[0m \u001b[0;34m=\u001b[0m \u001b[0mtt\u001b[0m\u001b[0;34m[\u001b[0m\u001b[0;34m:\u001b[0m\u001b[0;36m6\u001b[0m\u001b[0;34m]\u001b[0m \u001b[0;34m+\u001b[0m \u001b[0;34m(\u001b[0m\u001b[0mfraction\u001b[0m\u001b[0;34m,\u001b[0m\u001b[0;34m)\u001b[0m\u001b[0;34m\u001b[0m\u001b[0;34m\u001b[0m\u001b[0m\n",
      "\u001b[0;32m~/opt/anaconda3/envs/airflow-tutorials/lib/python3.6/_strptime.py\u001b[0m in \u001b[0;36m_strptime\u001b[0;34m(data_string, format)\u001b[0m\n\u001b[1;32m    360\u001b[0m     \u001b[0;32mif\u001b[0m \u001b[0;32mnot\u001b[0m \u001b[0mfound\u001b[0m\u001b[0;34m:\u001b[0m\u001b[0;34m\u001b[0m\u001b[0;34m\u001b[0m\u001b[0m\n\u001b[1;32m    361\u001b[0m         raise ValueError(\"time data %r does not match format %r\" %\n\u001b[0;32m--> 362\u001b[0;31m                          (data_string, format))\n\u001b[0m\u001b[1;32m    363\u001b[0m     \u001b[0;32mif\u001b[0m \u001b[0mlen\u001b[0m\u001b[0;34m(\u001b[0m\u001b[0mdata_string\u001b[0m\u001b[0;34m)\u001b[0m \u001b[0;34m!=\u001b[0m \u001b[0mfound\u001b[0m\u001b[0;34m.\u001b[0m\u001b[0mend\u001b[0m\u001b[0;34m(\u001b[0m\u001b[0;34m)\u001b[0m\u001b[0;34m:\u001b[0m\u001b[0;34m\u001b[0m\u001b[0;34m\u001b[0m\u001b[0m\n\u001b[1;32m    364\u001b[0m         raise ValueError(\"unconverted data remains: %s\" %\n",
      "\u001b[0;31mValueError\u001b[0m: time data '2022/03/05-15:23:24' does not match format '%Y/%m/%d %H:%M:%S'"
     ]
    }
   ],
   "source": [
    "dt_strp = dt.strptime('2022/03/05-15:23:24','%Y/%m/%d %H:%M:%S')\n",
    "print(dt_strp)"
   ]
  },
  {
   "cell_type": "markdown",
   "id": "d9d27d98",
   "metadata": {},
   "source": [
    "# timestamp"
   ]
  },
  {
   "cell_type": "code",
   "execution_count": 28,
   "id": "b99b527d",
   "metadata": {},
   "outputs": [
    {
     "name": "stdout",
     "output_type": "stream",
     "text": [
      "1675564295.0\n"
     ]
    }
   ],
   "source": [
    "date_request = datetime(2023,2,5,10,31,35)\n",
    "timestamp_response = datetime.timestamp(date_request)\n",
    "print(timestamp_response)"
   ]
  },
  {
   "cell_type": "code",
   "execution_count": 30,
   "id": "b660a50d",
   "metadata": {},
   "outputs": [
    {
     "name": "stdout",
     "output_type": "stream",
     "text": [
      "2023-02-05 10:31:35\n"
     ]
    }
   ],
   "source": [
    "print(datetime.fromtimestamp(timestamp_response))"
   ]
  },
  {
   "cell_type": "code",
   "execution_count": null,
   "id": "aab2e229",
   "metadata": {},
   "outputs": [],
   "source": []
  }
 ],
 "metadata": {
  "kernelspec": {
   "display_name": "Python 3",
   "language": "python",
   "name": "python3"
  },
  "language_info": {
   "codemirror_mode": {
    "name": "ipython",
    "version": 3
   },
   "file_extension": ".py",
   "mimetype": "text/x-python",
   "name": "python",
   "nbconvert_exporter": "python",
   "pygments_lexer": "ipython3",
   "version": "3.6.13"
  }
 },
 "nbformat": 4,
 "nbformat_minor": 5
}
