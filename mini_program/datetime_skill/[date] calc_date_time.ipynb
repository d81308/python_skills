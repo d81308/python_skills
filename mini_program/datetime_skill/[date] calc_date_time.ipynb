{
 "cells": [
  {
   "cell_type": "markdown",
   "id": "068c7697",
   "metadata": {},
   "source": [
    "# single diff date"
   ]
  },
  {
   "cell_type": "code",
   "execution_count": 1,
   "id": "0f4e3361",
   "metadata": {},
   "outputs": [],
   "source": [
    "from datetime import date"
   ]
  },
  {
   "cell_type": "code",
   "execution_count": 2,
   "id": "9cf472a9",
   "metadata": {},
   "outputs": [],
   "source": [
    "a = date(2021,12,25)\n",
    "b = date(2023,2,4)"
   ]
  },
  {
   "cell_type": "code",
   "execution_count": 7,
   "id": "d2c90f23",
   "metadata": {},
   "outputs": [
    {
     "name": "stdout",
     "output_type": "stream",
     "text": [
      "406 days, 0:00:00\n",
      "406\n"
     ]
    }
   ],
   "source": [
    "delta = b - a\n",
    "print(delta)\n",
    "print(delta.days)"
   ]
  },
  {
   "cell_type": "markdown",
   "id": "1cac4874",
   "metadata": {},
   "source": [
    "# the time-delta"
   ]
  },
  {
   "cell_type": "code",
   "execution_count": 8,
   "id": "0d4612fd",
   "metadata": {},
   "outputs": [],
   "source": [
    "from datetime import timedelta"
   ]
  },
  {
   "cell_type": "code",
   "execution_count": 9,
   "id": "e3e047c1",
   "metadata": {},
   "outputs": [
    {
     "data": {
      "text/plain": [
       "datetime.date(2023, 3, 5)"
      ]
     },
     "execution_count": 9,
     "metadata": {},
     "output_type": "execute_result"
    }
   ],
   "source": [
    "td = timedelta(days=29)\n",
    "t1 = date(2023,2,4)\n",
    "\n",
    "t2 = t1 + td\n",
    "t2"
   ]
  },
  {
   "cell_type": "markdown",
   "id": "b62dd8dd",
   "metadata": {},
   "source": [
    "# day-by-day concept"
   ]
  },
  {
   "cell_type": "markdown",
   "id": "7f636855",
   "metadata": {},
   "source": [
    "### x=x+1"
   ]
  },
  {
   "cell_type": "code",
   "execution_count": 16,
   "id": "62d60709",
   "metadata": {},
   "outputs": [
    {
     "name": "stdout",
     "output_type": "stream",
     "text": [
      "1\n",
      "2\n",
      "3\n"
     ]
    }
   ],
   "source": [
    "num_update=0\n",
    "for i in range(3):\n",
    "    num_update = num_update+1\n",
    "    print(num_update)"
   ]
  },
  {
   "cell_type": "markdown",
   "id": "c9cdf7ff",
   "metadata": {},
   "source": [
    "### the +="
   ]
  },
  {
   "cell_type": "code",
   "execution_count": 15,
   "id": "09abf0fe",
   "metadata": {},
   "outputs": [
    {
     "name": "stdout",
     "output_type": "stream",
     "text": [
      "1\n",
      "2\n",
      "3\n"
     ]
    }
   ],
   "source": [
    "x=0\n",
    "for i in range(3):\n",
    "    x += 1\n",
    "    print(x)"
   ]
  },
  {
   "cell_type": "markdown",
   "id": "df031859",
   "metadata": {},
   "source": [
    "# find early and last date in list"
   ]
  },
  {
   "cell_type": "code",
   "execution_count": 17,
   "id": "ebe33573",
   "metadata": {},
   "outputs": [],
   "source": [
    "date_list = ['2023,2,25','2022,3,8','2022,1,13']"
   ]
  },
  {
   "cell_type": "markdown",
   "id": "a7b4cbe2",
   "metadata": {},
   "source": [
    "#### sorted method, isoformat can be"
   ]
  },
  {
   "cell_type": "code",
   "execution_count": 19,
   "id": "74154379",
   "metadata": {},
   "outputs": [
    {
     "name": "stdout",
     "output_type": "stream",
     "text": [
      "early date:  2022,1,13\n",
      "last date:  2023,2,25\n"
     ]
    }
   ],
   "source": [
    "sorted_date_list = sorted(date_list)\n",
    "print('early date: ',date_list[-1])\n",
    "print('last date: ',date_list[0])"
   ]
  },
  {
   "cell_type": "markdown",
   "id": "47215590",
   "metadata": {},
   "source": [
    "#### min, max method"
   ]
  },
  {
   "cell_type": "code",
   "execution_count": 20,
   "id": "2934517c",
   "metadata": {},
   "outputs": [
    {
     "name": "stdout",
     "output_type": "stream",
     "text": [
      "early date:  2022,1,13\n",
      "last date:  2023,2,25\n"
     ]
    }
   ],
   "source": [
    "print('early date: ',min(date_list))\n",
    "print('last date: ', max(date_list))"
   ]
  },
  {
   "cell_type": "code",
   "execution_count": null,
   "id": "fa2a80d9",
   "metadata": {},
   "outputs": [],
   "source": []
  }
 ],
 "metadata": {
  "kernelspec": {
   "display_name": "Python 3",
   "language": "python",
   "name": "python3"
  },
  "language_info": {
   "codemirror_mode": {
    "name": "ipython",
    "version": 3
   },
   "file_extension": ".py",
   "mimetype": "text/x-python",
   "name": "python",
   "nbconvert_exporter": "python",
   "pygments_lexer": "ipython3",
   "version": "3.6.13"
  }
 },
 "nbformat": 4,
 "nbformat_minor": 5
}
