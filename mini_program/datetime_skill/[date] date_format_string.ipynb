{
 "cells": [
  {
   "cell_type": "code",
   "execution_count": 1,
   "id": "cca969a3",
   "metadata": {},
   "outputs": [],
   "source": [
    "from datetime import date"
   ]
  },
  {
   "cell_type": "markdown",
   "id": "d6b88b23",
   "metadata": {},
   "source": [
    "# iso 8601 format"
   ]
  },
  {
   "cell_type": "code",
   "execution_count": 4,
   "id": "0ee7a2b5",
   "metadata": {},
   "outputs": [
    {
     "name": "stdout",
     "output_type": "stream",
     "text": [
      "2022-02-04\n",
      "['2022-02-04']\n"
     ]
    }
   ],
   "source": [
    "d = date(2022,2,4)\n",
    "print(d)\n",
    "\n",
    "#translate by isoformat()\n",
    "print([d.isoformat()])"
   ]
  },
  {
   "cell_type": "markdown",
   "id": "c019dfac",
   "metadata": {},
   "source": [
    "### iso format can sorted"
   ]
  },
  {
   "cell_type": "code",
   "execution_count": 6,
   "id": "a633e279",
   "metadata": {},
   "outputs": [
    {
     "data": {
      "text/plain": [
       "['2022,12,25', '2023,2,4', '2023,3,8']"
      ]
     },
     "execution_count": 6,
     "metadata": {},
     "output_type": "execute_result"
    }
   ],
   "source": [
    "date_list = ['2023,2,4', '2022,12,25','2023,3,8']\n",
    "sorted_date_list = sorted(date_list)\n",
    "sorted_date_list"
   ]
  },
  {
   "cell_type": "markdown",
   "id": "88c9f1f3",
   "metadata": {},
   "source": [
    "# customer %Y%M%D"
   ]
  },
  {
   "cell_type": "code",
   "execution_count": 8,
   "id": "726603e7",
   "metadata": {},
   "outputs": [
    {
     "name": "stdout",
     "output_type": "stream",
     "text": [
      "2022-02-04\n"
     ]
    }
   ],
   "source": [
    "print(d)"
   ]
  },
  {
   "cell_type": "markdown",
   "id": "e6ca5012",
   "metadata": {},
   "source": [
    "#### use strftime()"
   ]
  },
  {
   "cell_type": "code",
   "execution_count": 9,
   "id": "00e9ab43",
   "metadata": {},
   "outputs": [
    {
     "data": {
      "text/plain": [
       "'2022'"
      ]
     },
     "execution_count": 9,
     "metadata": {},
     "output_type": "execute_result"
    }
   ],
   "source": [
    "#get year format\n",
    "d.strftime('%Y')"
   ]
  },
  {
   "cell_type": "code",
   "execution_count": 11,
   "id": "60f9e136",
   "metadata": {},
   "outputs": [
    {
     "data": {
      "text/plain": [
       "'2022/02/04'"
      ]
     },
     "execution_count": 11,
     "metadata": {},
     "output_type": "execute_result"
    }
   ],
   "source": [
    "#get customer / format\n",
    "d.strftime('%Y/%m/%d')"
   ]
  },
  {
   "cell_type": "code",
   "execution_count": 13,
   "id": "af775cdd",
   "metadata": {},
   "outputs": [
    {
     "data": {
      "text/plain": [
       "'2022-February'"
      ]
     },
     "execution_count": 13,
     "metadata": {},
     "output_type": "execute_result"
    }
   ],
   "source": [
    "#get string format\n",
    "d.strftime('%Y-%B')"
   ]
  },
  {
   "cell_type": "code",
   "execution_count": 14,
   "id": "a55b63de",
   "metadata": {},
   "outputs": [
    {
     "data": {
      "text/plain": [
       "'2022-035'"
      ]
     },
     "execution_count": 14,
     "metadata": {},
     "output_type": "execute_result"
    }
   ],
   "source": [
    "#get how much days\n",
    "d.strftime('%Y-%j')"
   ]
  },
  {
   "cell_type": "code",
   "execution_count": null,
   "id": "11703fdf",
   "metadata": {},
   "outputs": [],
   "source": []
  }
 ],
 "metadata": {
  "kernelspec": {
   "display_name": "Python 3",
   "language": "python",
   "name": "python3"
  },
  "language_info": {
   "codemirror_mode": {
    "name": "ipython",
    "version": 3
   },
   "file_extension": ".py",
   "mimetype": "text/x-python",
   "name": "python",
   "nbconvert_exporter": "python",
   "pygments_lexer": "ipython3",
   "version": "3.6.13"
  }
 },
 "nbformat": 4,
 "nbformat_minor": 5
}
