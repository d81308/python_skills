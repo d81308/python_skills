{
 "cells": [
  {
   "cell_type": "code",
   "execution_count": 1,
   "id": "afea5eaa",
   "metadata": {},
   "outputs": [],
   "source": [
    "from datetime import datetime"
   ]
  },
  {
   "cell_type": "markdown",
   "id": "aafbaa15",
   "metadata": {},
   "source": [
    "# datetime form"
   ]
  },
  {
   "cell_type": "markdown",
   "id": "d0fa20be",
   "metadata": {},
   "source": [
    "### command line input"
   ]
  },
  {
   "cell_type": "code",
   "execution_count": 2,
   "id": "5adf4593",
   "metadata": {},
   "outputs": [
    {
     "name": "stdout",
     "output_type": "stream",
     "text": [
      "2022-03-05 15:23:25.000001\n",
      "2022-03-05T15:23:25.000001\n"
     ]
    }
   ],
   "source": [
    "dt = datetime(2022,3,5,15,23,25,1)\n",
    "print(dt)\n",
    "print(dt.isoformat())"
   ]
  },
  {
   "cell_type": "markdown",
   "id": "0a45c03e",
   "metadata": {},
   "source": [
    "### magic input"
   ]
  },
  {
   "cell_type": "code",
   "execution_count": 3,
   "id": "d3937b41",
   "metadata": {},
   "outputs": [
    {
     "name": "stdout",
     "output_type": "stream",
     "text": [
      "2022-03-05 15:23:25.000001\n",
      "2022-03-05T15:23:25.000001\n"
     ]
    }
   ],
   "source": [
    "dt_def = datetime(\n",
    "    year=2022,\n",
    "    month=3,\n",
    "    day=5,\n",
    "    hour=15,\n",
    "    minute=23,\n",
    "    second=25,\n",
    "    microsecond=1,\n",
    ")\n",
    "print(dt_def)\n",
    "print(dt_def.isoformat())"
   ]
  },
  {
   "cell_type": "markdown",
   "id": "108cbbf3",
   "metadata": {},
   "source": [
    "#### update datetime by replace"
   ]
  },
  {
   "cell_type": "code",
   "execution_count": 4,
   "id": "ffd50158",
   "metadata": {},
   "outputs": [
    {
     "name": "stdout",
     "output_type": "stream",
     "text": [
      "2022-03-05 15:00:00\n",
      "2022-03-05T15:00:00\n"
     ]
    }
   ],
   "source": [
    "dt_hr_clean = dt_def.replace(\n",
    "    minute=0,\n",
    "    second=0,\n",
    "    microsecond=0,\n",
    ")\n",
    "print(dt_hr_clean)\n",
    "print(dt_hr_clean.isoformat())"
   ]
  },
  {
   "cell_type": "code",
   "execution_count": null,
   "id": "738de01a",
   "metadata": {},
   "outputs": [],
   "source": []
  }
 ],
 "metadata": {
  "kernelspec": {
   "display_name": "Python 3",
   "language": "python",
   "name": "python3"
  },
  "language_info": {
   "codemirror_mode": {
    "name": "ipython",
    "version": 3
   },
   "file_extension": ".py",
   "mimetype": "text/x-python",
   "name": "python",
   "nbconvert_exporter": "python",
   "pygments_lexer": "ipython3",
   "version": "3.6.13"
  }
 },
 "nbformat": 4,
 "nbformat_minor": 5
}
