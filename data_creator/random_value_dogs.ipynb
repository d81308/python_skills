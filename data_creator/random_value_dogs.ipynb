{
 "cells": [
  {
   "cell_type": "code",
   "execution_count": null,
   "id": "8ba6d370",
   "metadata": {},
   "outputs": [],
   "source": [
    "import pandas as pd\n",
    "import numpy as np\n",
    "from random import randint as rnd\n",
    "\n",
    "import time\n",
    "import random\n",
    "def str_time_prop(start, end, time_format, prop):\n",
    "    \"\"\"Get a time at a proportion of a range of two formatted times.\n",
    "\n",
    "    start and end should be strings specifying times formatted in the\n",
    "    given format (strftime-style), giving an interval [start, end].\n",
    "    prop specifies how a proportion of the interval to be taken after\n",
    "    start.  The returned time will be in the specified format.\n",
    "    \"\"\"\n",
    "\n",
    "    stime = time.mktime(time.strptime(start, time_format))\n",
    "    etime = time.mktime(time.strptime(end, time_format))\n",
    "\n",
    "    ptime = stime + prop * (etime - stime)\n",
    "\n",
    "    return time.strftime(time_format, time.localtime(ptime))\n",
    "\n",
    "def random_date(start, end, prop):\n",
    "    return str_time_prop(start, end, '%m/%d/%Y %I:%M %p', prop)\n",
    "    \n",
    "def dog_creator():\n",
    "    dogs = pd.DataFrame(columns=['register_date','id','breed','color','height','weight'])\n",
    "    color_list = ['red','orange','yellow','green','blue','purple']\n",
    "    breed_list = ['Russia','British','American','Indian']\n",
    "    for dog in range(0,30):\n",
    "        dog_reg_date = random_date('1/1/2021 1:30 AM', '12/31/2021 11:30 PM', random.random())\n",
    "        dog_id = rnd(1,100)\n",
    "        dog_breed = breed_list[rnd(0,3)]\n",
    "        dog_color = color_list[rnd(0,5)]\n",
    "        dog_height = rnd(35,60)\n",
    "        dog_weight = rnd(20,35)\n",
    "        dogs = dogs.append({'register_date':dog_reg_date,'id':dog_id,'breed':dog_breed,'color':dog_color,'height':dog_height,'weight':dog_weight},ignore_index=True)\n",
    "    return dogs\n",
    "\n",
    "dogs = dog_creator()"
   ]
  }
 ],
 "metadata": {
  "kernelspec": {
   "display_name": "Python 3",
   "language": "python",
   "name": "python3"
  },
  "language_info": {
   "codemirror_mode": {
    "name": "ipython",
    "version": 3
   },
   "file_extension": ".py",
   "mimetype": "text/x-python",
   "name": "python",
   "nbconvert_exporter": "python",
   "pygments_lexer": "ipython3",
   "version": "3.8.8"
  }
 },
 "nbformat": 4,
 "nbformat_minor": 5
}
