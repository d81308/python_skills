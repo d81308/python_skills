{
 "cells": [
  {
   "cell_type": "code",
   "execution_count": 2,
   "id": "aa723c14",
   "metadata": {},
   "outputs": [],
   "source": [
    "import random, string"
   ]
  },
  {
   "cell_type": "code",
   "execution_count": 7,
   "id": "72762c39",
   "metadata": {},
   "outputs": [],
   "source": [
    "def strings_creator(num):\n",
    "    return ''.join(random.choice(string.ascii_letters) for x in range(num))"
   ]
  },
  {
   "cell_type": "code",
   "execution_count": 8,
   "id": "2337c271",
   "metadata": {},
   "outputs": [
    {
     "data": {
      "text/plain": [
       "'RYEli'"
      ]
     },
     "execution_count": 8,
     "metadata": {},
     "output_type": "execute_result"
    }
   ],
   "source": [
    "strings_creator(5)"
   ]
  },
  {
   "cell_type": "markdown",
   "id": "e7db1aea",
   "metadata": {},
   "source": [
    "make random name"
   ]
  },
  {
   "cell_type": "code",
   "execution_count": 10,
   "id": "3a866190",
   "metadata": {},
   "outputs": [],
   "source": [
    "names = []\n",
    "for name in range(1000):\n",
    "    names.append(strings_creator(6))"
   ]
  },
  {
   "cell_type": "code",
   "execution_count": 11,
   "id": "aab2ad0b",
   "metadata": {},
   "outputs": [],
   "source": [
    "names_one_line = [names.append(strings_creator(6)) for name in range(1000)]"
   ]
  },
  {
   "cell_type": "code",
   "execution_count": null,
   "id": "bbbd3ccb",
   "metadata": {},
   "outputs": [],
   "source": []
  }
 ],
 "metadata": {
  "kernelspec": {
   "display_name": "Python 3 (ipykernel)",
   "language": "python",
   "name": "python3"
  },
  "language_info": {
   "codemirror_mode": {
    "name": "ipython",
    "version": 3
   },
   "file_extension": ".py",
   "mimetype": "text/x-python",
   "name": "python",
   "nbconvert_exporter": "python",
   "pygments_lexer": "ipython3",
   "version": "3.8.8"
  }
 },
 "nbformat": 4,
 "nbformat_minor": 5
}
