{
 "cells": [
  {
   "cell_type": "markdown",
   "id": "e7db1aea",
   "metadata": {},
   "source": [
    "# make long list with random strings"
   ]
  },
  {
   "cell_type": "code",
   "execution_count": null,
   "id": "dd869d4f",
   "metadata": {},
   "outputs": [],
   "source": [
    "import random, string"
   ]
  },
  {
   "cell_type": "code",
   "execution_count": 4,
   "id": "00b49dfc",
   "metadata": {},
   "outputs": [],
   "source": [
    "def strings_creator(len):\n",
    "    '''this function can give you len random strings'''\n",
    "    return ''.join(random.choice(string.ascii_letters) for i in range(len))\n",
    "def random_strings_list(string_length,list_length):\n",
    "    '''this function need combine strings_creator to make long list'''\n",
    "    return [strings_creator(string_length) for i in range(list_length)]"
   ]
  },
  {
   "cell_type": "code",
   "execution_count": 6,
   "id": "8a175a88",
   "metadata": {},
   "outputs": [
    {
     "data": {
      "text/plain": [
       "'DNbbX'"
      ]
     },
     "execution_count": 6,
     "metadata": {},
     "output_type": "execute_result"
    }
   ],
   "source": [
    "strings_creator(5)"
   ]
  },
  {
   "cell_type": "code",
   "execution_count": 5,
   "id": "74bb9b64",
   "metadata": {},
   "outputs": [
    {
     "data": {
      "text/plain": [
       "['JXv', 'Oje', 'SMl', 'YHC', 'PtZ', 'bGN', 'apW', 'qac', 'yBC', 'RLk']"
      ]
     },
     "execution_count": 5,
     "metadata": {},
     "output_type": "execute_result"
    }
   ],
   "source": [
    "random_strings_list(3,10)"
   ]
  },
  {
   "cell_type": "code",
   "execution_count": null,
   "id": "d5ee691a",
   "metadata": {},
   "outputs": [],
   "source": []
  }
 ],
 "metadata": {
  "kernelspec": {
   "display_name": "Python 3 (ipykernel)",
   "language": "python",
   "name": "python3"
  },
  "language_info": {
   "codemirror_mode": {
    "name": "ipython",
    "version": 3
   },
   "file_extension": ".py",
   "mimetype": "text/x-python",
   "name": "python",
   "nbconvert_exporter": "python",
   "pygments_lexer": "ipython3",
   "version": "3.8.8"
  }
 },
 "nbformat": 4,
 "nbformat_minor": 5
}
