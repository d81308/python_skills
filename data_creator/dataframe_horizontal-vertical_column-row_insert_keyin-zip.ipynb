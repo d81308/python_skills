{
 "cells": [
  {
   "cell_type": "markdown",
   "id": "5696b539",
   "metadata": {},
   "source": [
    "# create baseball games info"
   ]
  },
  {
   "cell_type": "code",
   "execution_count": 1,
   "id": "0bad8f07",
   "metadata": {},
   "outputs": [],
   "source": [
    "import random, string\n",
    "def strings_creator(len):\n",
    "    '''this function can give you len random strings'''\n",
    "    return ''.join(random.choice(string.ascii_letters) for i in range(len))\n",
    "def random_strings_list(string_length,list_length):\n",
    "    '''this function need combine strings_creator to make long list'''\n",
    "    return [strings_creator(string_length) for i in range(list_length)]"
   ]
  },
  {
   "cell_type": "code",
   "execution_count": 8,
   "id": "d738a9a5",
   "metadata": {},
   "outputs": [],
   "source": [
    "import pandas as pd\n",
    "from random import randint as rnd"
   ]
  },
  {
   "cell_type": "markdown",
   "id": "d3a03b23",
   "metadata": {},
   "source": [
    "datas"
   ]
  },
  {
   "cell_type": "markdown",
   "id": "5f9060e6",
   "metadata": {},
   "source": [
    "    team rnd_string(3)\n",
    "    league AL,NL\n",
    "    year 1962-2012\n",
    "    RS 600-800\n",
    "    RA 600-800\n",
    "    W 50-99\n",
    "    G 162 only\n",
    "    Playoffs 0,1"
   ]
  },
  {
   "cell_type": "markdown",
   "id": "3f23670a",
   "metadata": {},
   "source": [
    "# the vertical, column insert"
   ]
  },
  {
   "cell_type": "code",
   "execution_count": 47,
   "id": "cceeb797",
   "metadata": {},
   "outputs": [],
   "source": [
    "df = pd.DataFrame(columns=['team','league','year','RS','RA','W','G','Playoffs'])"
   ]
  },
  {
   "cell_type": "code",
   "execution_count": 43,
   "id": "e975550a",
   "metadata": {},
   "outputs": [],
   "source": [
    "team = []\n",
    "league = []\n",
    "year = []\n",
    "RS = []\n",
    "RA = []\n",
    "W_index = []\n",
    "G_index = []\n",
    "Playoffs = []\n",
    "for data in range(1000):\n",
    "    team.append(strings_creator(3))\n",
    "    league.append(['AL','NL'][rnd(0,1)])\n",
    "    year.append(rnd(1962,2013))\n",
    "    RS.append(rnd(600,800))\n",
    "    RA.append(rnd(600,800))\n",
    "    W_index.append(rnd(50,99))\n",
    "    G_index.append(162)\n",
    "    Playoffs.append([0,1][rnd(0,1)])"
   ]
  },
  {
   "cell_type": "code",
   "execution_count": 49,
   "id": "3223592c",
   "metadata": {},
   "outputs": [],
   "source": [
    "df['team']=team\n",
    "df['league']=league\n",
    "df['year']=year\n",
    "df['RS']=RS\n",
    "df['RA']=RA\n",
    "df['W']=W_index\n",
    "df['G']=G_index\n",
    "df['Playoffs']=Playoffs"
   ]
  },
  {
   "cell_type": "code",
   "execution_count": 50,
   "id": "bb11a261",
   "metadata": {},
   "outputs": [
    {
     "data": {
      "text/html": [
       "<div>\n",
       "<style scoped>\n",
       "    .dataframe tbody tr th:only-of-type {\n",
       "        vertical-align: middle;\n",
       "    }\n",
       "\n",
       "    .dataframe tbody tr th {\n",
       "        vertical-align: top;\n",
       "    }\n",
       "\n",
       "    .dataframe thead th {\n",
       "        text-align: right;\n",
       "    }\n",
       "</style>\n",
       "<table border=\"1\" class=\"dataframe\">\n",
       "  <thead>\n",
       "    <tr style=\"text-align: right;\">\n",
       "      <th></th>\n",
       "      <th>team</th>\n",
       "      <th>league</th>\n",
       "      <th>year</th>\n",
       "      <th>RS</th>\n",
       "      <th>RA</th>\n",
       "      <th>W</th>\n",
       "      <th>G</th>\n",
       "      <th>Playoffs</th>\n",
       "    </tr>\n",
       "  </thead>\n",
       "  <tbody>\n",
       "    <tr>\n",
       "      <th>0</th>\n",
       "      <td>Fxm</td>\n",
       "      <td>NL</td>\n",
       "      <td>1964</td>\n",
       "      <td>696</td>\n",
       "      <td>601</td>\n",
       "      <td>51</td>\n",
       "      <td>162</td>\n",
       "      <td>1</td>\n",
       "    </tr>\n",
       "    <tr>\n",
       "      <th>1</th>\n",
       "      <td>MGA</td>\n",
       "      <td>AL</td>\n",
       "      <td>1984</td>\n",
       "      <td>705</td>\n",
       "      <td>683</td>\n",
       "      <td>79</td>\n",
       "      <td>162</td>\n",
       "      <td>1</td>\n",
       "    </tr>\n",
       "    <tr>\n",
       "      <th>2</th>\n",
       "      <td>uml</td>\n",
       "      <td>AL</td>\n",
       "      <td>2013</td>\n",
       "      <td>678</td>\n",
       "      <td>719</td>\n",
       "      <td>68</td>\n",
       "      <td>162</td>\n",
       "      <td>1</td>\n",
       "    </tr>\n",
       "    <tr>\n",
       "      <th>3</th>\n",
       "      <td>HgF</td>\n",
       "      <td>NL</td>\n",
       "      <td>1992</td>\n",
       "      <td>800</td>\n",
       "      <td>637</td>\n",
       "      <td>70</td>\n",
       "      <td>162</td>\n",
       "      <td>1</td>\n",
       "    </tr>\n",
       "    <tr>\n",
       "      <th>4</th>\n",
       "      <td>Nox</td>\n",
       "      <td>AL</td>\n",
       "      <td>1992</td>\n",
       "      <td>796</td>\n",
       "      <td>745</td>\n",
       "      <td>89</td>\n",
       "      <td>162</td>\n",
       "      <td>1</td>\n",
       "    </tr>\n",
       "  </tbody>\n",
       "</table>\n",
       "</div>"
      ],
      "text/plain": [
       "  team league  year   RS   RA   W    G  Playoffs\n",
       "0  Fxm     NL  1964  696  601  51  162         1\n",
       "1  MGA     AL  1984  705  683  79  162         1\n",
       "2  uml     AL  2013  678  719  68  162         1\n",
       "3  HgF     NL  1992  800  637  70  162         1\n",
       "4  Nox     AL  1992  796  745  89  162         1"
      ]
     },
     "execution_count": 50,
     "metadata": {},
     "output_type": "execute_result"
    }
   ],
   "source": [
    "df.head()"
   ]
  },
  {
   "cell_type": "markdown",
   "id": "54c4b464",
   "metadata": {},
   "source": [
    "# the horizontal, row insert"
   ]
  },
  {
   "cell_type": "code",
   "execution_count": 117,
   "id": "ace855ac",
   "metadata": {},
   "outputs": [],
   "source": [
    "df_zip = pd.DataFrame()"
   ]
  },
  {
   "cell_type": "code",
   "execution_count": 118,
   "id": "ee799166",
   "metadata": {},
   "outputs": [],
   "source": [
    "zip_data = zip(team,league,year,RS,RA,W_index,G_index,Playoffs)"
   ]
  },
  {
   "cell_type": "code",
   "execution_count": 119,
   "id": "bf03fb70",
   "metadata": {},
   "outputs": [],
   "source": [
    "list_data = list(zip_data)"
   ]
  },
  {
   "cell_type": "code",
   "execution_count": 120,
   "id": "562ea87f",
   "metadata": {},
   "outputs": [],
   "source": [
    "df_zip = pd.DataFrame(list_data,columns=['team','league','year','RS','RA','W','G','Playoffs'])"
   ]
  },
  {
   "cell_type": "code",
   "execution_count": 121,
   "id": "3c1fed54",
   "metadata": {},
   "outputs": [
    {
     "data": {
      "text/html": [
       "<div>\n",
       "<style scoped>\n",
       "    .dataframe tbody tr th:only-of-type {\n",
       "        vertical-align: middle;\n",
       "    }\n",
       "\n",
       "    .dataframe tbody tr th {\n",
       "        vertical-align: top;\n",
       "    }\n",
       "\n",
       "    .dataframe thead th {\n",
       "        text-align: right;\n",
       "    }\n",
       "</style>\n",
       "<table border=\"1\" class=\"dataframe\">\n",
       "  <thead>\n",
       "    <tr style=\"text-align: right;\">\n",
       "      <th></th>\n",
       "      <th>team</th>\n",
       "      <th>league</th>\n",
       "      <th>year</th>\n",
       "      <th>RS</th>\n",
       "      <th>RA</th>\n",
       "      <th>W</th>\n",
       "      <th>G</th>\n",
       "      <th>Playoffs</th>\n",
       "    </tr>\n",
       "  </thead>\n",
       "  <tbody>\n",
       "    <tr>\n",
       "      <th>0</th>\n",
       "      <td>Fxm</td>\n",
       "      <td>NL</td>\n",
       "      <td>1964</td>\n",
       "      <td>696</td>\n",
       "      <td>601</td>\n",
       "      <td>51</td>\n",
       "      <td>162</td>\n",
       "      <td>1</td>\n",
       "    </tr>\n",
       "    <tr>\n",
       "      <th>1</th>\n",
       "      <td>MGA</td>\n",
       "      <td>AL</td>\n",
       "      <td>1984</td>\n",
       "      <td>705</td>\n",
       "      <td>683</td>\n",
       "      <td>79</td>\n",
       "      <td>162</td>\n",
       "      <td>1</td>\n",
       "    </tr>\n",
       "    <tr>\n",
       "      <th>2</th>\n",
       "      <td>uml</td>\n",
       "      <td>AL</td>\n",
       "      <td>2013</td>\n",
       "      <td>678</td>\n",
       "      <td>719</td>\n",
       "      <td>68</td>\n",
       "      <td>162</td>\n",
       "      <td>1</td>\n",
       "    </tr>\n",
       "    <tr>\n",
       "      <th>3</th>\n",
       "      <td>HgF</td>\n",
       "      <td>NL</td>\n",
       "      <td>1992</td>\n",
       "      <td>800</td>\n",
       "      <td>637</td>\n",
       "      <td>70</td>\n",
       "      <td>162</td>\n",
       "      <td>1</td>\n",
       "    </tr>\n",
       "    <tr>\n",
       "      <th>4</th>\n",
       "      <td>Nox</td>\n",
       "      <td>AL</td>\n",
       "      <td>1992</td>\n",
       "      <td>796</td>\n",
       "      <td>745</td>\n",
       "      <td>89</td>\n",
       "      <td>162</td>\n",
       "      <td>1</td>\n",
       "    </tr>\n",
       "  </tbody>\n",
       "</table>\n",
       "</div>"
      ],
      "text/plain": [
       "  team league  year   RS   RA   W    G  Playoffs\n",
       "0  Fxm     NL  1964  696  601  51  162         1\n",
       "1  MGA     AL  1984  705  683  79  162         1\n",
       "2  uml     AL  2013  678  719  68  162         1\n",
       "3  HgF     NL  1992  800  637  70  162         1\n",
       "4  Nox     AL  1992  796  745  89  162         1"
      ]
     },
     "execution_count": 121,
     "metadata": {},
     "output_type": "execute_result"
    }
   ],
   "source": [
    "df_zip.head()"
   ]
  },
  {
   "cell_type": "code",
   "execution_count": null,
   "id": "e5a8c94e",
   "metadata": {},
   "outputs": [],
   "source": []
  }
 ],
 "metadata": {
  "kernelspec": {
   "display_name": "Python 3 (ipykernel)",
   "language": "python",
   "name": "python3"
  },
  "language_info": {
   "codemirror_mode": {
    "name": "ipython",
    "version": 3
   },
   "file_extension": ".py",
   "mimetype": "text/x-python",
   "name": "python",
   "nbconvert_exporter": "python",
   "pygments_lexer": "ipython3",
   "version": "3.8.8"
  }
 },
 "nbformat": 4,
 "nbformat_minor": 5
}
