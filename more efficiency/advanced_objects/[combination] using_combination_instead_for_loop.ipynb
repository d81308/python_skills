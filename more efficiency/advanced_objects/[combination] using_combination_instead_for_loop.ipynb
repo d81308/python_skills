{
 "cells": [
  {
   "cell_type": "markdown",
   "id": "1200d590",
   "metadata": {},
   "source": [
    "# normal for loop\n",
    "make a diff matrix for words_deploy"
   ]
  },
  {
   "cell_type": "markdown",
   "id": "1d858a0f",
   "metadata": {},
   "source": [
    "#### example output"
   ]
  },
  {
   "cell_type": "markdown",
   "id": "e554d12e",
   "metadata": {},
   "source": [
    "    words = ['a','b','c','d']"
   ]
  },
  {
   "cell_type": "markdown",
   "id": "6201550b",
   "metadata": {},
   "source": [
    "    <output>\n",
    "    [\n",
    "        ['a','b'],['a','c'],['a','d']\n",
    "        ['b','c'],['b','d'],\n",
    "        ['c','d']\n",
    "    ]"
   ]
  },
  {
   "cell_type": "code",
   "execution_count": 2,
   "id": "d578dabd",
   "metadata": {},
   "outputs": [],
   "source": [
    "words = ['a','b','c','d']"
   ]
  },
  {
   "cell_type": "code",
   "execution_count": 18,
   "id": "2d662e18",
   "metadata": {},
   "outputs": [],
   "source": [
    "combos = []\n",
    "for i in words:\n",
    "    for j in words:\n",
    "        if i == j:\n",
    "            continue\n",
    "        if ((i,j) not in combos) & ((j,i) not in combos):\n",
    "            combos.append((i,j))     "
   ]
  },
  {
   "cell_type": "code",
   "execution_count": 19,
   "id": "f66f3224",
   "metadata": {},
   "outputs": [
    {
     "data": {
      "text/plain": [
       "[('a', 'b'), ('a', 'c'), ('a', 'd'), ('b', 'c'), ('b', 'd'), ('c', 'd')]"
      ]
     },
     "execution_count": 19,
     "metadata": {},
     "output_type": "execute_result"
    }
   ],
   "source": [
    "combos"
   ]
  },
  {
   "cell_type": "markdown",
   "id": "cbedcd5b",
   "metadata": {},
   "source": [
    "# combination"
   ]
  },
  {
   "cell_type": "code",
   "execution_count": 20,
   "id": "af935b7f",
   "metadata": {},
   "outputs": [],
   "source": [
    "from itertools import combinations"
   ]
  },
  {
   "cell_type": "code",
   "execution_count": 21,
   "id": "24c872fb",
   "metadata": {},
   "outputs": [],
   "source": [
    "words = ['a','b','c','d']"
   ]
  },
  {
   "cell_type": "code",
   "execution_count": 26,
   "id": "cdb4ecb3",
   "metadata": {},
   "outputs": [],
   "source": [
    "combos_obj = combinations(words,2)"
   ]
  },
  {
   "cell_type": "code",
   "execution_count": 23,
   "id": "3791d427",
   "metadata": {},
   "outputs": [
    {
     "name": "stdout",
     "output_type": "stream",
     "text": [
      "<itertools.combinations object at 0x7ffc812364a0>\n"
     ]
    }
   ],
   "source": [
    "print(combos_obj)"
   ]
  },
  {
   "cell_type": "code",
   "execution_count": 27,
   "id": "66b7663b",
   "metadata": {},
   "outputs": [
    {
     "name": "stdout",
     "output_type": "stream",
     "text": [
      "[('a', 'b'), ('a', 'c'), ('a', 'd'), ('b', 'c'), ('b', 'd'), ('c', 'd')]\n"
     ]
    }
   ],
   "source": [
    "print([*combos_obj])"
   ]
  },
  {
   "cell_type": "markdown",
   "id": "eab02a46",
   "metadata": {},
   "source": [
    "### print more efficiency"
   ]
  },
  {
   "cell_type": "code",
   "execution_count": 29,
   "id": "a2d0be0d",
   "metadata": {},
   "outputs": [
    {
     "name": "stdout",
     "output_type": "stream",
     "text": [
      "[('a', 'b', 'c'), ('a', 'b', 'd'), ('a', 'c', 'd'), ('b', 'c', 'd')]\n"
     ]
    }
   ],
   "source": [
    "print([*combinations(words,3)])"
   ]
  },
  {
   "cell_type": "code",
   "execution_count": null,
   "id": "dae1d6ad",
   "metadata": {},
   "outputs": [],
   "source": []
  }
 ],
 "metadata": {
  "kernelspec": {
   "display_name": "Python 3 (ipykernel)",
   "language": "python",
   "name": "python3"
  },
  "language_info": {
   "codemirror_mode": {
    "name": "ipython",
    "version": 3
   },
   "file_extension": ".py",
   "mimetype": "text/x-python",
   "name": "python",
   "nbconvert_exporter": "python",
   "pygments_lexer": "ipython3",
   "version": "3.8.8"
  }
 },
 "nbformat": 4,
 "nbformat_minor": 5
}
