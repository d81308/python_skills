{
 "cells": [
  {
   "cell_type": "markdown",
   "id": "f782af78",
   "metadata": {},
   "source": [
    "# normal for loop make pivot dict"
   ]
  },
  {
   "cell_type": "code",
   "execution_count": 1,
   "id": "0b8a0dd1",
   "metadata": {},
   "outputs": [],
   "source": [
    "words = ['a','a','b','b','b','c','c','c','c','c']"
   ]
  },
  {
   "cell_type": "code",
   "execution_count": 2,
   "id": "418073d7",
   "metadata": {},
   "outputs": [],
   "source": [
    "word_count = {}"
   ]
  },
  {
   "cell_type": "code",
   "execution_count": 7,
   "id": "7ad8d934",
   "metadata": {},
   "outputs": [],
   "source": [
    "for word in words:\n",
    "    if word in word_count:\n",
    "        word_count[word] += 1\n",
    "    else:\n",
    "        word_count[word] = 1"
   ]
  },
  {
   "cell_type": "code",
   "execution_count": 8,
   "id": "f02c5743",
   "metadata": {},
   "outputs": [
    {
     "data": {
      "text/plain": [
       "{'a': 2, 'b': 3, 'c': 5}"
      ]
     },
     "execution_count": 8,
     "metadata": {},
     "output_type": "execute_result"
    }
   ],
   "source": [
    "word_count"
   ]
  },
  {
   "cell_type": "markdown",
   "id": "3572a56b",
   "metadata": {},
   "source": [
    "# count: object"
   ]
  },
  {
   "cell_type": "code",
   "execution_count": 9,
   "id": "abae9557",
   "metadata": {},
   "outputs": [],
   "source": [
    "from collections import Counter"
   ]
  },
  {
   "cell_type": "code",
   "execution_count": 10,
   "id": "dfe05498",
   "metadata": {},
   "outputs": [],
   "source": [
    "words = ['a','a','b','b','b','c','c','c','c','c']"
   ]
  },
  {
   "cell_type": "code",
   "execution_count": 11,
   "id": "109ea2b6",
   "metadata": {},
   "outputs": [],
   "source": [
    "word_count_counter = Counter(words)"
   ]
  },
  {
   "cell_type": "code",
   "execution_count": 16,
   "id": "c26ad3ea",
   "metadata": {},
   "outputs": [
    {
     "data": {
      "text/plain": [
       "Counter({'a': 2, 'b': 3, 'c': 5})"
      ]
     },
     "execution_count": 16,
     "metadata": {},
     "output_type": "execute_result"
    }
   ],
   "source": [
    "word_count_counter"
   ]
  },
  {
   "cell_type": "code",
   "execution_count": null,
   "id": "6bea56d5",
   "metadata": {},
   "outputs": [],
   "source": []
  }
 ],
 "metadata": {
  "kernelspec": {
   "display_name": "Python 3 (ipykernel)",
   "language": "python",
   "name": "python3"
  },
  "language_info": {
   "codemirror_mode": {
    "name": "ipython",
    "version": 3
   },
   "file_extension": ".py",
   "mimetype": "text/x-python",
   "name": "python",
   "nbconvert_exporter": "python",
   "pygments_lexer": "ipython3",
   "version": "3.8.8"
  }
 },
 "nbformat": 4,
 "nbformat_minor": 5
}
