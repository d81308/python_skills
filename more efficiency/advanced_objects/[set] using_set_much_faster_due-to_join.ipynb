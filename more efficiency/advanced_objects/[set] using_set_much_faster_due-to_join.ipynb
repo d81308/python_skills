{
 "cells": [
  {
   "cell_type": "markdown",
   "id": "aeca703d",
   "metadata": {},
   "source": [
    "# the intersection case\n",
    "> find the same items in list_a and list_b\n",
    "\n",
    "> exist both"
   ]
  },
  {
   "cell_type": "markdown",
   "id": "b0b76cf4",
   "metadata": {},
   "source": [
    "#### common for lop"
   ]
  },
  {
   "cell_type": "code",
   "execution_count": 1,
   "id": "e3eb87bd",
   "metadata": {},
   "outputs": [],
   "source": [
    "list_a = ['a','b','c']\n",
    "list_b = ['d','e','a']"
   ]
  },
  {
   "cell_type": "code",
   "execution_count": 5,
   "id": "cccccb7f",
   "metadata": {},
   "outputs": [
    {
     "data": {
      "text/plain": [
       "['a']"
      ]
     },
     "execution_count": 5,
     "metadata": {},
     "output_type": "execute_result"
    }
   ],
   "source": [
    "for_matching = []\n",
    "for a in list_a:\n",
    "    for b in list_b:\n",
    "        if a==b :\n",
    "            for_matching.append(a)\n",
    "for_matching            "
   ]
  },
  {
   "cell_type": "markdown",
   "id": "298268c2",
   "metadata": {},
   "source": [
    "#### the set method"
   ]
  },
  {
   "cell_type": "code",
   "execution_count": 6,
   "id": "3ba3a493",
   "metadata": {},
   "outputs": [
    {
     "data": {
      "text/plain": [
       "{'a', 'b', 'c'}"
      ]
     },
     "execution_count": 6,
     "metadata": {},
     "output_type": "execute_result"
    }
   ],
   "source": [
    "set_a = set(list_a)\n",
    "set_a"
   ]
  },
  {
   "cell_type": "code",
   "execution_count": 8,
   "id": "34393033",
   "metadata": {},
   "outputs": [
    {
     "data": {
      "text/plain": [
       "{'a', 'd', 'e'}"
      ]
     },
     "execution_count": 8,
     "metadata": {},
     "output_type": "execute_result"
    }
   ],
   "source": [
    "set_b = set(list_b)\n",
    "set_b"
   ]
  },
  {
   "cell_type": "code",
   "execution_count": 9,
   "id": "8f8f1ff7",
   "metadata": {},
   "outputs": [
    {
     "data": {
      "text/plain": [
       "{'a'}"
      ]
     },
     "execution_count": 9,
     "metadata": {},
     "output_type": "execute_result"
    }
   ],
   "source": [
    "set_matching = set_a.intersection(set_b)\n",
    "set_matching"
   ]
  },
  {
   "cell_type": "markdown",
   "id": "6e66f203",
   "metadata": {},
   "source": [
    "### speed test"
   ]
  },
  {
   "cell_type": "code",
   "execution_count": 15,
   "id": "45578aff",
   "metadata": {},
   "outputs": [
    {
     "name": "stdout",
     "output_type": "stream",
     "text": [
      "953 ns ± 221 ns per loop (mean ± std. dev. of 3 runs, 3 loops each)\n"
     ]
    }
   ],
   "source": [
    "%%timeit -r3 -n3\n",
    "for_matching = []\n",
    "for a in list_a:\n",
    "    for b in list_b:\n",
    "        if a==b :\n",
    "            for_matching.append(a)\n",
    "for_matching "
   ]
  },
  {
   "cell_type": "code",
   "execution_count": 23,
   "id": "8c661287",
   "metadata": {},
   "outputs": [
    {
     "name": "stdout",
     "output_type": "stream",
     "text": [
      "424 ns ± 217 ns per loop (mean ± std. dev. of 3 runs, 3 loops each)\n"
     ]
    }
   ],
   "source": [
    "%%timeit -r3 -n3\n",
    "set_matching = set_a.intersection(set_b)\n",
    "set_matching"
   ]
  },
  {
   "cell_type": "markdown",
   "id": "fcb6e517",
   "metadata": {},
   "source": [
    "# the diff\n",
    "> Find the Pokémon that Ash has and Misty does not have"
   ]
  },
  {
   "cell_type": "markdown",
   "id": "c5c43486",
   "metadata": {},
   "source": [
    "    list_a = ['a','b','c']\n",
    "    list_b = ['d','e','a']\n",
    "    a.diff(b) = ['b','c']\n",
    "    \n",
    "    set_a = {'a', 'b', 'c'}\n",
    "    set_b = {'a', 'd', 'e'}"
   ]
  },
  {
   "cell_type": "markdown",
   "id": "b9bf7e07",
   "metadata": {},
   "source": [
    "#### set method"
   ]
  },
  {
   "cell_type": "code",
   "execution_count": 24,
   "id": "75de8182",
   "metadata": {},
   "outputs": [
    {
     "data": {
      "text/plain": [
       "{'b', 'c'}"
      ]
     },
     "execution_count": 24,
     "metadata": {},
     "output_type": "execute_result"
    }
   ],
   "source": [
    "set_diff = set_a.difference(set_b)\n",
    "set_diff"
   ]
  },
  {
   "cell_type": "markdown",
   "id": "0161408d",
   "metadata": {},
   "source": [
    "#### for loop method"
   ]
  },
  {
   "cell_type": "code",
   "execution_count": 27,
   "id": "2f3cb6aa",
   "metadata": {},
   "outputs": [
    {
     "data": {
      "text/plain": [
       "['b', 'c']"
      ]
     },
     "execution_count": 27,
     "metadata": {},
     "output_type": "execute_result"
    }
   ],
   "source": [
    "for_diff = []\n",
    "for a in list_a:\n",
    "    if a not in list_b:\n",
    "        for_diff.append(a)\n",
    "for_diff            "
   ]
  },
  {
   "cell_type": "markdown",
   "id": "1094ef18",
   "metadata": {},
   "source": [
    "### speed test"
   ]
  },
  {
   "cell_type": "code",
   "execution_count": 29,
   "id": "f7b2e1c7",
   "metadata": {},
   "outputs": [
    {
     "name": "stdout",
     "output_type": "stream",
     "text": [
      "1.44 µs ± 679 ns per loop (mean ± std. dev. of 3 runs, 3 loops each)\n"
     ]
    }
   ],
   "source": [
    "%%timeit -r3 -n3\n",
    "for_diff = []\n",
    "for a in list_a:\n",
    "    if a not in list_b:\n",
    "        for_diff.append(a)\n",
    "for_diff   "
   ]
  },
  {
   "cell_type": "code",
   "execution_count": 30,
   "id": "60857ea7",
   "metadata": {},
   "outputs": [
    {
     "name": "stdout",
     "output_type": "stream",
     "text": [
      "471 ns ± 281 ns per loop (mean ± std. dev. of 3 runs, 3 loops each)\n"
     ]
    }
   ],
   "source": [
    "%%timeit -r3 -n3\n",
    "set_diff = set_a.difference(set_b)\n",
    "set_diff"
   ]
  },
  {
   "cell_type": "markdown",
   "id": "d7692b08",
   "metadata": {},
   "source": [
    "# the symmetric\n",
    ">Find the Pokémon that are in only one set (not both)"
   ]
  },
  {
   "cell_type": "markdown",
   "id": "9eb92324",
   "metadata": {},
   "source": [
    "    list_a = ['a','b','c']\n",
    "    list_b = ['d','e','a']\n",
    "    \n",
    "    a.symmetric_diff(b) = ['b','c','d','e']\n",
    "\n",
    "    set_a = {'a', 'b', 'c'}\n",
    "    set_b = {'a', 'd', 'e'}"
   ]
  },
  {
   "cell_type": "code",
   "execution_count": 52,
   "id": "b0d65ce7",
   "metadata": {},
   "outputs": [
    {
     "name": "stdout",
     "output_type": "stream",
     "text": [
      "562 ns ± 317 ns per loop (mean ± std. dev. of 3 runs, 3 loops each)\n"
     ]
    }
   ],
   "source": [
    "%%timeit -r3 -n3\n",
    "set_sym_diff = set_a.symmetric_difference(set_b)\n",
    "set_sym_diff"
   ]
  },
  {
   "cell_type": "code",
   "execution_count": 53,
   "id": "fe964574",
   "metadata": {},
   "outputs": [
    {
     "name": "stdout",
     "output_type": "stream",
     "text": [
      "2.44 µs ± 485 ns per loop (mean ± std. dev. of 3 runs, 3 loops each)\n"
     ]
    }
   ],
   "source": [
    "%%timeit -r3 -n3\n",
    "for_sym_diff = []\n",
    "for a in list_a:\n",
    "    for b in list_b:\n",
    "        if a in list_b:\n",
    "            continue\n",
    "        if (a not in for_sym_diff) & (b not in for_sym_diff):\n",
    "            for_sym_diff.append(a)\n",
    "            for_sym_diff.append(b)\n",
    "for_sym_diff        "
   ]
  },
  {
   "cell_type": "markdown",
   "id": "d42c4766",
   "metadata": {},
   "source": [
    "# the union"
   ]
  },
  {
   "cell_type": "markdown",
   "id": "49b27254",
   "metadata": {},
   "source": [
    "    list_a = ['a','b','c']\n",
    "    list_b = ['d','e','a']\n",
    "\n",
    "    a.union(b) = ['a','b','c','d','e']\n",
    "\n",
    "    set_a = {'a', 'b', 'c'}\n",
    "    set_b = {'a', 'd', 'e'}"
   ]
  },
  {
   "cell_type": "code",
   "execution_count": 79,
   "id": "836f1a55",
   "metadata": {},
   "outputs": [
    {
     "name": "stdout",
     "output_type": "stream",
     "text": [
      "504 ns ± 266 ns per loop (mean ± std. dev. of 3 runs, 3 loops each)\n"
     ]
    }
   ],
   "source": [
    "%%timeit -r3 -n3\n",
    "set_union = set_a.union(set_b)\n",
    "set_union"
   ]
  },
  {
   "cell_type": "code",
   "execution_count": 78,
   "id": "c95a6dba",
   "metadata": {},
   "outputs": [
    {
     "name": "stdout",
     "output_type": "stream",
     "text": [
      "1.91 µs ± 343 ns per loop (mean ± std. dev. of 3 runs, 3 loops each)\n"
     ]
    }
   ],
   "source": [
    "%%timeit -r3 -n3\n",
    "for_union = []\n",
    "for a in list_a:\n",
    "    for b in list_b:\n",
    "        if (a not in for_union):\n",
    "            for_union.append(a)\n",
    "        if (b not in for_union):\n",
    "            for_union.append(b)\n",
    "for_union"
   ]
  },
  {
   "cell_type": "markdown",
   "id": "d49b19e5",
   "metadata": {},
   "source": [
    "# finding use in, speed test"
   ]
  },
  {
   "cell_type": "code",
   "execution_count": 95,
   "id": "4fc4e800",
   "metadata": {},
   "outputs": [],
   "source": [
    "big_list = [*range(1000)]\n",
    "big_tuple = tuple(big_list)\n",
    "big_set = {*big_list}"
   ]
  },
  {
   "cell_type": "code",
   "execution_count": 97,
   "id": "17694722",
   "metadata": {},
   "outputs": [
    {
     "name": "stdout",
     "output_type": "stream",
     "text": [
      "12.6 µs ± 307 ns per loop (mean ± std. dev. of 3 runs, 3 loops each)\n"
     ]
    }
   ],
   "source": [
    "%%timeit -r3 -n3\n",
    "590 in big_list"
   ]
  },
  {
   "cell_type": "code",
   "execution_count": 99,
   "id": "79af34bd",
   "metadata": {},
   "outputs": [
    {
     "name": "stdout",
     "output_type": "stream",
     "text": [
      "7.66 µs ± 178 ns per loop (mean ± std. dev. of 3 runs, 3 loops each)\n"
     ]
    }
   ],
   "source": [
    "%%timeit -r3 -n3\n",
    "590 in big_tuple"
   ]
  },
  {
   "cell_type": "code",
   "execution_count": 98,
   "id": "4e19145b",
   "metadata": {},
   "outputs": [
    {
     "name": "stdout",
     "output_type": "stream",
     "text": [
      "241 ns ± 149 ns per loop (mean ± std. dev. of 3 runs, 3 loops each)\n"
     ]
    }
   ],
   "source": [
    "%%timeit -r3 -n3\n",
    "590 in big_set"
   ]
  },
  {
   "cell_type": "markdown",
   "id": "61ab478d",
   "metadata": {},
   "source": [
    "# distinct, unique"
   ]
  },
  {
   "cell_type": "code",
   "execution_count": 100,
   "id": "ddf0c21a",
   "metadata": {},
   "outputs": [],
   "source": [
    "from random import randint as rnd"
   ]
  },
  {
   "cell_type": "code",
   "execution_count": 111,
   "id": "154fe160",
   "metadata": {},
   "outputs": [],
   "source": [
    "sample_list = ['a','b','c']\n",
    "duplicate_list = []\n",
    "for sample in range(1000):\n",
    "    duplicate_list.append(sample_list[rnd(0,2)])"
   ]
  },
  {
   "cell_type": "code",
   "execution_count": 115,
   "id": "377c588f",
   "metadata": {},
   "outputs": [
    {
     "name": "stdout",
     "output_type": "stream",
     "text": [
      "53.3 µs ± 356 ns per loop (mean ± std. dev. of 3 runs, 3 loops each)\n"
     ]
    }
   ],
   "source": [
    "%%timeit -r3 -n3\n",
    "unique_num = []\n",
    "for num in duplicate_list:\n",
    "    if num not in unique_num:\n",
    "        unique_num.append(num)\n",
    "unique_num"
   ]
  },
  {
   "cell_type": "code",
   "execution_count": 116,
   "id": "5d9b30ec",
   "metadata": {},
   "outputs": [
    {
     "name": "stdout",
     "output_type": "stream",
     "text": [
      "10.2 µs ± 244 ns per loop (mean ± std. dev. of 3 runs, 3 loops each)\n"
     ]
    }
   ],
   "source": [
    "%%timeit -r3 -n3\n",
    "set(duplicate_list)"
   ]
  },
  {
   "cell_type": "code",
   "execution_count": null,
   "id": "177bae32",
   "metadata": {},
   "outputs": [],
   "source": []
  }
 ],
 "metadata": {
  "kernelspec": {
   "display_name": "Python 3 (ipykernel)",
   "language": "python",
   "name": "python3"
  },
  "language_info": {
   "codemirror_mode": {
    "name": "ipython",
    "version": 3
   },
   "file_extension": ".py",
   "mimetype": "text/x-python",
   "name": "python",
   "nbconvert_exporter": "python",
   "pygments_lexer": "ipython3",
   "version": "3.8.8"
  }
 },
 "nbformat": 4,
 "nbformat_minor": 5
}
