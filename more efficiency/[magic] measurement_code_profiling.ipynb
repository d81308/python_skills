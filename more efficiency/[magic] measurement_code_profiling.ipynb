{
 "cells": [
  {
   "cell_type": "markdown",
   "id": "64df6909",
   "metadata": {},
   "source": [
    "### def for testing"
   ]
  },
  {
   "cell_type": "code",
   "execution_count": 3,
   "id": "75fd476c",
   "metadata": {},
   "outputs": [],
   "source": [
    "import numpy as np"
   ]
  },
  {
   "cell_type": "code",
   "execution_count": 4,
   "id": "d50208dc",
   "metadata": {},
   "outputs": [],
   "source": [
    "heros = ['A','B','C']\n",
    "heights = np.array([166,177,188])\n",
    "weights = np.array([66,77,88])"
   ]
  },
  {
   "cell_type": "code",
   "execution_count": 15,
   "id": "da7e4cdc",
   "metadata": {},
   "outputs": [],
   "source": [
    "def convert_unit(heros,heights,weights):\n",
    "    new_hts = [ht*0.3 for ht in heights]\n",
    "    new_wts = [wt*0.3 for wt in weights]\n",
    "    \n",
    "    hero_data = {}\n",
    "    \n",
    "    for i,hero in enumerate(heros):\n",
    "        hero_data[hero] = (new_hts[i],new_wts[i])\n",
    "    return hero_data"
   ]
  },
  {
   "cell_type": "code",
   "execution_count": 19,
   "id": "c44ce933",
   "metadata": {},
   "outputs": [],
   "source": [
    "def test(h):\n",
    "    return h*2"
   ]
  },
  {
   "cell_type": "markdown",
   "id": "44fca06e",
   "metadata": {},
   "source": [
    "# using line profiler"
   ]
  },
  {
   "cell_type": "markdown",
   "id": "c17a7bc3",
   "metadata": {},
   "source": [
    "install the line profiler"
   ]
  },
  {
   "cell_type": "code",
   "execution_count": 6,
   "id": "048f6bb3",
   "metadata": {},
   "outputs": [
    {
     "name": "stdout",
     "output_type": "stream",
     "text": [
      "Collecting line_profiler\n",
      "  Downloading line_profiler-4.0.2-cp38-cp38-macosx_10_9_x86_64.whl (96 kB)\n",
      "\u001b[K     |████████████████████████████████| 96 kB 1.6 MB/s eta 0:00:01\n",
      "\u001b[?25hInstalling collected packages: line-profiler\n",
      "Successfully installed line-profiler-4.0.2\n",
      "Note: you may need to restart the kernel to use updated packages.\n"
     ]
    }
   ],
   "source": [
    "pip install line_profiler"
   ]
  },
  {
   "cell_type": "markdown",
   "id": "9ef686a2",
   "metadata": {},
   "source": [
    "execute the magic of line_profiler"
   ]
  },
  {
   "cell_type": "code",
   "execution_count": 9,
   "id": "7e89a74b",
   "metadata": {},
   "outputs": [],
   "source": [
    "%load_ext line_profiler"
   ]
  },
  {
   "cell_type": "markdown",
   "id": "a95eb1da",
   "metadata": {},
   "source": [
    "magic command for line-by-line\n",
    "> -f\n",
    "\n",
    "> %lprun -f function function(para)"
   ]
  },
  {
   "cell_type": "code",
   "execution_count": 29,
   "id": "f19cd026",
   "metadata": {},
   "outputs": [],
   "source": [
    "%lprun -f convert_unit convert_unit(heros,heights,weights)"
   ]
  },
  {
   "cell_type": "markdown",
   "id": "fd166fb3",
   "metadata": {},
   "source": [
    "#### timeit method"
   ]
  },
  {
   "cell_type": "code",
   "execution_count": 27,
   "id": "b3f86955",
   "metadata": {},
   "outputs": [
    {
     "name": "stdout",
     "output_type": "stream",
     "text": [
      "30.8 µs ± 16.6 µs per loop (mean ± std. dev. of 3 runs, 1 loop each)\n"
     ]
    }
   ],
   "source": [
    "%timeit -r3 -n1 convert_unit(heros,heights,weights)"
   ]
  },
  {
   "cell_type": "markdown",
   "id": "5137c30c",
   "metadata": {},
   "source": [
    "# why timeit is faster"
   ]
  },
  {
   "cell_type": "markdown",
   "id": "101f4b73",
   "metadata": {},
   "source": [
    "    timeit is average and std running time\n",
    "    not really faster, is deviation"
   ]
  },
  {
   "cell_type": "code",
   "execution_count": null,
   "id": "a96449a0",
   "metadata": {},
   "outputs": [],
   "source": []
  }
 ],
 "metadata": {
  "kernelspec": {
   "display_name": "Python 3 (ipykernel)",
   "language": "python",
   "name": "python3"
  },
  "language_info": {
   "codemirror_mode": {
    "name": "ipython",
    "version": 3
   },
   "file_extension": ".py",
   "mimetype": "text/x-python",
   "name": "python",
   "nbconvert_exporter": "python",
   "pygments_lexer": "ipython3",
   "version": "3.8.8"
  }
 },
 "nbformat": 4,
 "nbformat_minor": 5
}
