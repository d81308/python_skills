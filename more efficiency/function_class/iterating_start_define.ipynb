{
 "cells": [
  {
   "cell_type": "markdown",
   "id": "863b6f40",
   "metadata": {},
   "source": [
    "## single example"
   ]
  },
  {
   "cell_type": "code",
   "execution_count": 1,
   "id": "73fd25a6",
   "metadata": {},
   "outputs": [],
   "source": [
    "word = 'Da'\n",
    "it = iter(word)"
   ]
  },
  {
   "cell_type": "code",
   "execution_count": 2,
   "id": "1e6029dd",
   "metadata": {},
   "outputs": [
    {
     "data": {
      "text/plain": [
       "'D'"
      ]
     },
     "execution_count": 2,
     "metadata": {},
     "output_type": "execute_result"
    }
   ],
   "source": [
    "next(it)"
   ]
  },
  {
   "cell_type": "code",
   "execution_count": 3,
   "id": "6275003a",
   "metadata": {},
   "outputs": [
    {
     "data": {
      "text/plain": [
       "'a'"
      ]
     },
     "execution_count": 3,
     "metadata": {},
     "output_type": "execute_result"
    }
   ],
   "source": [
    "next(it)"
   ]
  },
  {
   "cell_type": "code",
   "execution_count": 4,
   "id": "5159acd7",
   "metadata": {},
   "outputs": [
    {
     "ename": "StopIteration",
     "evalue": "",
     "output_type": "error",
     "traceback": [
      "\u001b[0;31m---------------------------------------------------------------------------\u001b[0m",
      "\u001b[0;31mStopIteration\u001b[0m                             Traceback (most recent call last)",
      "Cell \u001b[0;32mIn[4], line 1\u001b[0m\n\u001b[0;32m----> 1\u001b[0m \u001b[38;5;28;43mnext\u001b[39;49m\u001b[43m(\u001b[49m\u001b[43mit\u001b[49m\u001b[43m)\u001b[49m\n",
      "\u001b[0;31mStopIteration\u001b[0m: "
     ]
    }
   ],
   "source": [
    "next(it)"
   ]
  },
  {
   "cell_type": "markdown",
   "id": "a664daee",
   "metadata": {},
   "source": [
    "## all values method"
   ]
  },
  {
   "cell_type": "code",
   "execution_count": 5,
   "id": "84f47fc7",
   "metadata": {},
   "outputs": [
    {
     "name": "stdout",
     "output_type": "stream",
     "text": [
      "<str_iterator object at 0x7fd9be008460>\n"
     ]
    }
   ],
   "source": [
    "word = 'Data'\n",
    "it = iter(word)\n",
    "print(it)"
   ]
  },
  {
   "cell_type": "code",
   "execution_count": 6,
   "id": "0d03a84d",
   "metadata": {},
   "outputs": [
    {
     "name": "stdout",
     "output_type": "stream",
     "text": [
      "D a t a\n"
     ]
    }
   ],
   "source": [
    "print(*it)"
   ]
  },
  {
   "cell_type": "code",
   "execution_count": 7,
   "id": "1d8c97ed",
   "metadata": {},
   "outputs": [
    {
     "name": "stdout",
     "output_type": "stream",
     "text": [
      "\n"
     ]
    }
   ],
   "source": [
    "print(*it)"
   ]
  },
  {
   "cell_type": "markdown",
   "id": "7e55fcbc",
   "metadata": {},
   "source": [
    "## unpack dict is iterable method"
   ]
  },
  {
   "cell_type": "code",
   "execution_count": 13,
   "id": "11b71b58",
   "metadata": {},
   "outputs": [
    {
     "name": "stdout",
     "output_type": "stream",
     "text": [
      "A 1\n",
      "B 2\n"
     ]
    }
   ],
   "source": [
    "py = {'A':1,'B':2}\n",
    "for key,value in py.items():\n",
    "    print(key,value)"
   ]
  },
  {
   "cell_type": "markdown",
   "id": "5ceeba00",
   "metadata": {},
   "source": [
    "## use iterating to read txt file"
   ]
  },
  {
   "cell_type": "code",
   "execution_count": 14,
   "id": "ae047513",
   "metadata": {},
   "outputs": [],
   "source": [
    "file = open('test.txt')\n",
    "it = iter(file)"
   ]
  },
  {
   "cell_type": "code",
   "execution_count": 15,
   "id": "315ffd9b",
   "metadata": {},
   "outputs": [
    {
     "name": "stdout",
     "output_type": "stream",
     "text": [
      "first line\n",
      "\n"
     ]
    }
   ],
   "source": [
    "print(next(it))"
   ]
  },
  {
   "cell_type": "code",
   "execution_count": 16,
   "id": "62ad2f86",
   "metadata": {},
   "outputs": [
    {
     "name": "stdout",
     "output_type": "stream",
     "text": [
      "second line\n"
     ]
    }
   ],
   "source": [
    "print(next(it))"
   ]
  },
  {
   "cell_type": "code",
   "execution_count": 17,
   "id": "376659a7",
   "metadata": {},
   "outputs": [
    {
     "ename": "StopIteration",
     "evalue": "",
     "output_type": "error",
     "traceback": [
      "\u001b[0;31m---------------------------------------------------------------------------\u001b[0m",
      "\u001b[0;31mStopIteration\u001b[0m                             Traceback (most recent call last)",
      "Cell \u001b[0;32mIn[17], line 1\u001b[0m\n\u001b[0;32m----> 1\u001b[0m \u001b[38;5;28mprint\u001b[39m(\u001b[38;5;28;43mnext\u001b[39;49m\u001b[43m(\u001b[49m\u001b[43mit\u001b[49m\u001b[43m)\u001b[49m)\n",
      "\u001b[0;31mStopIteration\u001b[0m: "
     ]
    }
   ],
   "source": [
    "print(next(it))"
   ]
  },
  {
   "cell_type": "markdown",
   "id": "73611135",
   "metadata": {},
   "source": [
    "## enumerate is iterable"
   ]
  },
  {
   "cell_type": "markdown",
   "id": "d9e487e0",
   "metadata": {},
   "source": [
    "    if we want to give index for list\n",
    "    dataframe is one way\n",
    "    but if we need in command line?\n",
    "        enumerate can do"
   ]
  },
  {
   "cell_type": "code",
   "execution_count": 1,
   "id": "9a0cc35e",
   "metadata": {},
   "outputs": [
    {
     "name": "stdout",
     "output_type": "stream",
     "text": [
      "<class 'enumerate'>\n"
     ]
    }
   ],
   "source": [
    "avengers=['hav','iron','thor','quick']\n",
    "e = enumerate(avengers)\n",
    "print(type(e))"
   ]
  },
  {
   "cell_type": "code",
   "execution_count": 2,
   "id": "7632fda6",
   "metadata": {},
   "outputs": [
    {
     "data": {
      "text/plain": [
       "[(0, 'hav'), (1, 'iron'), (2, 'thor'), (3, 'quick')]"
      ]
     },
     "execution_count": 2,
     "metadata": {},
     "output_type": "execute_result"
    }
   ],
   "source": [
    "e_list=list(e)\n",
    "e_list"
   ]
  },
  {
   "cell_type": "markdown",
   "id": "e2473fc5",
   "metadata": {},
   "source": [
    "    #classic enumerate example"
   ]
  },
  {
   "cell_type": "code",
   "execution_count": 4,
   "id": "9ade9fd2",
   "metadata": {},
   "outputs": [
    {
     "name": "stdout",
     "output_type": "stream",
     "text": [
      "1 hav\n",
      "2 iron\n",
      "3 thor\n",
      "4 quick\n"
     ]
    }
   ],
   "source": [
    "for index, value in enumerate(avengers, start=1):\n",
    "    print(index,value)"
   ]
  },
  {
   "cell_type": "markdown",
   "id": "d3a1acd6",
   "metadata": {},
   "source": [
    "    #after view enumerate()\n",
    "    let's see zip()\n",
    "    \n",
    "    if we want to make dict like with two lists\n",
    "    dataframe\n",
    "    for into dict\n",
    "    but in one command line\n",
    "        zip can do"
   ]
  },
  {
   "cell_type": "code",
   "execution_count": 5,
   "id": "115f6bff",
   "metadata": {},
   "outputs": [],
   "source": [
    "avengers=['hav','iron','thor','quick']\n",
    "names=['bar','sta','odi','max']"
   ]
  },
  {
   "cell_type": "code",
   "execution_count": 6,
   "id": "15534a9b",
   "metadata": {},
   "outputs": [
    {
     "name": "stdout",
     "output_type": "stream",
     "text": [
      "<zip object at 0x7fdb59455fc0>\n"
     ]
    }
   ],
   "source": [
    "z = zip(avengers,names)\n",
    "print(z)"
   ]
  },
  {
   "cell_type": "code",
   "execution_count": 7,
   "id": "0e2402c4",
   "metadata": {},
   "outputs": [
    {
     "name": "stdout",
     "output_type": "stream",
     "text": [
      "[('hav', 'bar'), ('iron', 'sta'), ('thor', 'odi'), ('quick', 'max')]\n"
     ]
    }
   ],
   "source": [
    "z_list = list(z)\n",
    "print(z_list)"
   ]
  },
  {
   "cell_type": "code",
   "execution_count": 8,
   "id": "25b42af8",
   "metadata": {},
   "outputs": [
    {
     "name": "stdout",
     "output_type": "stream",
     "text": [
      "hav bar\n",
      "iron sta\n",
      "thor odi\n",
      "quick max\n"
     ]
    }
   ],
   "source": [
    "for z1,z2 in zip(avengers,names):\n",
    "    print(z1,z2)"
   ]
  },
  {
   "cell_type": "code",
   "execution_count": null,
   "id": "4eb37dc1",
   "metadata": {},
   "outputs": [],
   "source": []
  }
 ],
 "metadata": {
  "kernelspec": {
   "display_name": "Python 3 (ipykernel)",
   "language": "python",
   "name": "python3"
  },
  "language_info": {
   "codemirror_mode": {
    "name": "ipython",
    "version": 3
   },
   "file_extension": ".py",
   "mimetype": "text/x-python",
   "name": "python",
   "nbconvert_exporter": "python",
   "pygments_lexer": "ipython3",
   "version": "3.8.8"
  }
 },
 "nbformat": 4,
 "nbformat_minor": 5
}
