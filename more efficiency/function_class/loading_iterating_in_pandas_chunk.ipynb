{
 "cells": [
  {
   "cell_type": "markdown",
   "id": "f056a0a3",
   "metadata": {},
   "source": [
    "# Story\n",
    "    think about why we need iterating\n",
    "    iterating like a procedure, execute one line then purge that line\n",
    "    means the usage memory could be release in each line\n",
    "\n",
    "    when we loading large data\n",
    "    read_csv in pandas is iterate structure\n",
    "    chunksize can be setup for keep save about memory not reach localhost limit"
   ]
  },
  {
   "cell_type": "code",
   "execution_count": 1,
   "id": "3361da93",
   "metadata": {},
   "outputs": [],
   "source": [
    "import pandas as pd"
   ]
  },
  {
   "cell_type": "markdown",
   "id": "1cacc593",
   "metadata": {},
   "source": [
    "# normal read_csv"
   ]
  },
  {
   "cell_type": "code",
   "execution_count": 16,
   "id": "685ebf44",
   "metadata": {},
   "outputs": [
    {
     "name": "stderr",
     "output_type": "stream",
     "text": [
      "/Users/jianlin/opt/anaconda3/lib/python3.8/site-packages/IPython/core/interactiveshell.py:3433: DtypeWarning: Columns (12) have mixed types.Specify dtype option on import or set low_memory=False.\n",
      "  exec(code_obj, self.user_global_ns, self.user_ns)\n"
     ]
    }
   ],
   "source": [
    "df = pd.read_csv('test_csv.csv')"
   ]
  },
  {
   "cell_type": "code",
   "execution_count": 17,
   "id": "ce6af797",
   "metadata": {
    "collapsed": true
   },
   "outputs": [
    {
     "data": {
      "text/html": [
       "<div>\n",
       "<style scoped>\n",
       "    .dataframe tbody tr th:only-of-type {\n",
       "        vertical-align: middle;\n",
       "    }\n",
       "\n",
       "    .dataframe tbody tr th {\n",
       "        vertical-align: top;\n",
       "    }\n",
       "\n",
       "    .dataframe thead th {\n",
       "        text-align: right;\n",
       "    }\n",
       "</style>\n",
       "<table border=\"1\" class=\"dataframe\">\n",
       "  <thead>\n",
       "    <tr style=\"text-align: right;\">\n",
       "      <th></th>\n",
       "      <th>Series_reference</th>\n",
       "      <th>Period</th>\n",
       "      <th>Data_value</th>\n",
       "      <th>STATUS</th>\n",
       "      <th>UNITS</th>\n",
       "      <th>MAGNTUDE</th>\n",
       "      <th>Subject</th>\n",
       "      <th>Group</th>\n",
       "      <th>Series_title_1</th>\n",
       "      <th>Series_title_2</th>\n",
       "      <th>Series_title_3</th>\n",
       "      <th>Series_title_4</th>\n",
       "      <th>Series_title_5</th>\n",
       "    </tr>\n",
       "  </thead>\n",
       "  <tbody>\n",
       "    <tr>\n",
       "      <th>0</th>\n",
       "      <td>OTVA.SEA2AA1</td>\n",
       "      <td>1971.06</td>\n",
       "      <td>369.135776</td>\n",
       "      <td>FINAL</td>\n",
       "      <td>Index</td>\n",
       "      <td>0</td>\n",
       "      <td>Overseas Trade Indexes - Volumes and Values - OTV</td>\n",
       "      <td>Export volume indexes and values - analytical</td>\n",
       "      <td>Volume</td>\n",
       "      <td>BEEF AND VEAL</td>\n",
       "      <td>June 2002 Quarter Base (=1000)</td>\n",
       "      <td>NaN</td>\n",
       "      <td>NaN</td>\n",
       "    </tr>\n",
       "    <tr>\n",
       "      <th>1</th>\n",
       "      <td>OTVA.SEA2AA1</td>\n",
       "      <td>1972.06</td>\n",
       "      <td>376.398285</td>\n",
       "      <td>FINAL</td>\n",
       "      <td>Index</td>\n",
       "      <td>0</td>\n",
       "      <td>Overseas Trade Indexes - Volumes and Values - OTV</td>\n",
       "      <td>Export volume indexes and values - analytical</td>\n",
       "      <td>Volume</td>\n",
       "      <td>BEEF AND VEAL</td>\n",
       "      <td>June 2002 Quarter Base (=1000)</td>\n",
       "      <td>NaN</td>\n",
       "      <td>NaN</td>\n",
       "    </tr>\n",
       "    <tr>\n",
       "      <th>2</th>\n",
       "      <td>OTVA.SEA2AA1</td>\n",
       "      <td>1973.06</td>\n",
       "      <td>415.590787</td>\n",
       "      <td>FINAL</td>\n",
       "      <td>Index</td>\n",
       "      <td>0</td>\n",
       "      <td>Overseas Trade Indexes - Volumes and Values - OTV</td>\n",
       "      <td>Export volume indexes and values - analytical</td>\n",
       "      <td>Volume</td>\n",
       "      <td>BEEF AND VEAL</td>\n",
       "      <td>June 2002 Quarter Base (=1000)</td>\n",
       "      <td>NaN</td>\n",
       "      <td>NaN</td>\n",
       "    </tr>\n",
       "    <tr>\n",
       "      <th>3</th>\n",
       "      <td>OTVA.SEA2AA1</td>\n",
       "      <td>1974.06</td>\n",
       "      <td>375.020913</td>\n",
       "      <td>FINAL</td>\n",
       "      <td>Index</td>\n",
       "      <td>0</td>\n",
       "      <td>Overseas Trade Indexes - Volumes and Values - OTV</td>\n",
       "      <td>Export volume indexes and values - analytical</td>\n",
       "      <td>Volume</td>\n",
       "      <td>BEEF AND VEAL</td>\n",
       "      <td>June 2002 Quarter Base (=1000)</td>\n",
       "      <td>NaN</td>\n",
       "      <td>NaN</td>\n",
       "    </tr>\n",
       "    <tr>\n",
       "      <th>4</th>\n",
       "      <td>OTVA.SEA2AA1</td>\n",
       "      <td>1975.06</td>\n",
       "      <td>400.815339</td>\n",
       "      <td>FINAL</td>\n",
       "      <td>Index</td>\n",
       "      <td>0</td>\n",
       "      <td>Overseas Trade Indexes - Volumes and Values - OTV</td>\n",
       "      <td>Export volume indexes and values - analytical</td>\n",
       "      <td>Volume</td>\n",
       "      <td>BEEF AND VEAL</td>\n",
       "      <td>June 2002 Quarter Base (=1000)</td>\n",
       "      <td>NaN</td>\n",
       "      <td>NaN</td>\n",
       "    </tr>\n",
       "  </tbody>\n",
       "</table>\n",
       "</div>"
      ],
      "text/plain": [
       "  Series_reference   Period  Data_value STATUS  UNITS  MAGNTUDE  \\\n",
       "0     OTVA.SEA2AA1  1971.06  369.135776  FINAL  Index         0   \n",
       "1     OTVA.SEA2AA1  1972.06  376.398285  FINAL  Index         0   \n",
       "2     OTVA.SEA2AA1  1973.06  415.590787  FINAL  Index         0   \n",
       "3     OTVA.SEA2AA1  1974.06  375.020913  FINAL  Index         0   \n",
       "4     OTVA.SEA2AA1  1975.06  400.815339  FINAL  Index         0   \n",
       "\n",
       "                                             Subject  \\\n",
       "0  Overseas Trade Indexes - Volumes and Values - OTV   \n",
       "1  Overseas Trade Indexes - Volumes and Values - OTV   \n",
       "2  Overseas Trade Indexes - Volumes and Values - OTV   \n",
       "3  Overseas Trade Indexes - Volumes and Values - OTV   \n",
       "4  Overseas Trade Indexes - Volumes and Values - OTV   \n",
       "\n",
       "                                           Group Series_title_1  \\\n",
       "0  Export volume indexes and values - analytical         Volume   \n",
       "1  Export volume indexes and values - analytical         Volume   \n",
       "2  Export volume indexes and values - analytical         Volume   \n",
       "3  Export volume indexes and values - analytical         Volume   \n",
       "4  Export volume indexes and values - analytical         Volume   \n",
       "\n",
       "  Series_title_2                  Series_title_3 Series_title_4 Series_title_5  \n",
       "0  BEEF AND VEAL  June 2002 Quarter Base (=1000)            NaN            NaN  \n",
       "1  BEEF AND VEAL  June 2002 Quarter Base (=1000)            NaN            NaN  \n",
       "2  BEEF AND VEAL  June 2002 Quarter Base (=1000)            NaN            NaN  \n",
       "3  BEEF AND VEAL  June 2002 Quarter Base (=1000)            NaN            NaN  \n",
       "4  BEEF AND VEAL  June 2002 Quarter Base (=1000)            NaN            NaN  "
      ]
     },
     "execution_count": 17,
     "metadata": {},
     "output_type": "execute_result"
    }
   ],
   "source": [
    "df.head()"
   ]
  },
  {
   "cell_type": "code",
   "execution_count": 30,
   "id": "32d9cfb6",
   "metadata": {},
   "outputs": [
    {
     "name": "stdout",
     "output_type": "stream",
     "text": [
      "<class 'pandas.core.frame.DataFrame'>\n",
      "RangeIndex: 99868 entries, 0 to 99867\n",
      "Data columns (total 13 columns):\n",
      " #   Column            Non-Null Count  Dtype  \n",
      "---  ------            --------------  -----  \n",
      " 0   Series_reference  99868 non-null  object \n",
      " 1   Period            99868 non-null  float64\n",
      " 2   Data_value        99173 non-null  float64\n",
      " 3   STATUS            99868 non-null  object \n",
      " 4   UNITS             99868 non-null  object \n",
      " 5   MAGNTUDE          99868 non-null  int64  \n",
      " 6   Subject           99868 non-null  object \n",
      " 7   Group             99868 non-null  object \n",
      " 8   Series_title_1    99868 non-null  object \n",
      " 9   Series_title_2    97847 non-null  object \n",
      " 10  Series_title_3    97130 non-null  object \n",
      " 11  Series_title_4    17468 non-null  object \n",
      " 12  Series_title_5    260 non-null    object \n",
      "dtypes: float64(2), int64(1), object(10)\n",
      "memory usage: 9.9+ MB\n"
     ]
    }
   ],
   "source": [
    "df.info()"
   ]
  },
  {
   "cell_type": "markdown",
   "id": "f7f66e18",
   "metadata": {},
   "source": [
    "# chunk"
   ]
  },
  {
   "cell_type": "code",
   "execution_count": 32,
   "id": "38fe991c",
   "metadata": {},
   "outputs": [
    {
     "name": "stdout",
     "output_type": "stream",
     "text": [
      "50\n",
      "[3995398.0000000964, 4008980.0000000964, 4013508.590000005, 4014032.369999996, 4000562.7800000873, 4010236.0000000964, 4013506.2299999986, 4002376.7099999962, 3997264.119999996, 3994937.149999996, 3997119.0899999957, 3996176.0899999966, 4011331.1799999955, 4011337.2099999953, 4011343.2399999956, 4009223.1199999955, 4011912.149999996, 4012349.9999999963, 4011837.939999996, 4001099.999999996, 3998231.119999996, 3998205.029999996, 4002338.9999999963, 4019189.9999999963, 4013562.0299999956, 4006140.209999996, 4011298.1199999964, 4011987.939999996, 4012612.0599999963, 4012563.9999999963, 4012350.9999999963, 4011742.4400000065, 3986218.0000000964, 4002379.670000004, 3999068.200000089, 4002176.7700000545, 3997682.5399999917, 3990099.969999996, 3997152.2099999962, 3994608.089999996, 3989049.969999996, 3997946.029999996, 3975842.7299999967, 3997003.1199999964, 4000074.999999996, 3995418.969999996, 4006845.239999996, 4005782.119999996, 3988931.7599999974, 3737655.9200000023]\n",
      "\n",
      " 199898691.23000056\n"
     ]
    }
   ],
   "source": [
    "result = []\n",
    "for chunk in pd.read_csv('test_csv.csv',chunksize=2000):\n",
    "    result.append(sum(chunk['Period']))\n",
    "total = sum(result)\n",
    "print(len(result))\n",
    "print(result)\n",
    "print('\\n',total)"
   ]
  },
  {
   "cell_type": "markdown",
   "id": "c320bedd",
   "metadata": {},
   "source": [
    "### what is chunk look like"
   ]
  },
  {
   "cell_type": "code",
   "execution_count": 25,
   "id": "d2ed9c90",
   "metadata": {},
   "outputs": [],
   "source": [
    "for chunk in pd.read_csv('test_csv.csv',chunksize=1000):\n",
    "    a = chunk"
   ]
  },
  {
   "cell_type": "code",
   "execution_count": 26,
   "id": "15a6fc05",
   "metadata": {},
   "outputs": [
    {
     "name": "stdout",
     "output_type": "stream",
     "text": [
      "<class 'pandas.core.frame.DataFrame'>\n",
      "['Series_reference', 'Period', 'Data_value', 'STATUS', 'UNITS', 'MAGNTUDE', 'Subject', 'Group', 'Series_title_1', 'Series_title_2', 'Series_title_3', 'Series_title_4', 'Series_title_5']\n"
     ]
    }
   ],
   "source": [
    "print(type(a))\n",
    "print(list(a))"
   ]
  },
  {
   "cell_type": "code",
   "execution_count": 33,
   "id": "c6f2b5a5",
   "metadata": {},
   "outputs": [],
   "source": [
    "for chunk in pd.read_csv('test_csv.csv',chunksize=1000):\n",
    "    b = chunk['Period']"
   ]
  },
  {
   "cell_type": "code",
   "execution_count": 35,
   "id": "eed86efb",
   "metadata": {},
   "outputs": [
    {
     "name": "stdout",
     "output_type": "stream",
     "text": [
      "<class 'pandas.core.series.Series'>\n",
      "868\n",
      "[1968.09, 1968.12, 1969.03, 1969.06, 1969.09, 1969.12, 1970.03, 1970.06, 1970.09, 1970.12, 1971.03, 1971.06, 1971.09, 1971.12, 1972.03, 1972.06, 1972.09, 1972.12, 1973.03, 1973.06, 1973.09, 1973.12, 1974.03, 1974.06, 1974.09, 1974.12, 1975.03, 1975.06, 1975.09, 1975.12, 1976.03, 1976.06, 1976.09, 1976.12, 1977.03, 1977.06, 1977.09, 1977.12, 1978.03, 1978.06, 1978.09, 1978.12, 1979.03, 1979.06, 1979.09, 1979.12, 1980.03, 1980.06, 1980.09, 1980.12, 1981.03, 1981.06, 1981.09, 1981.12, 1982.03, 1982.06, 1982.09, 1982.12, 1983.03, 1983.06, 1983.09, 1983.12, 1984.03, 1984.06, 1984.09, 1984.12, 1985.03, 1985.06, 1985.09, 1985.12, 1986.03, 1986.06, 1986.09, 1986.12, 1987.03, 1987.06, 1987.09, 1987.12, 1988.03, 1988.06, 1988.09, 1988.12, 1989.03, 1989.06, 1989.09, 1989.12, 1990.03, 1990.06, 1990.09, 1990.12, 1991.03, 1991.06, 1991.09, 1991.12, 1992.03, 1992.06, 1992.09, 1992.12, 1993.03, 1993.06, 1993.09, 1993.12, 1994.03, 1994.06, 1994.09, 1994.12, 1995.03, 1995.06, 1995.09, 1995.12, 1996.03, 1996.06, 1996.09, 1996.12, 1997.03, 1997.06, 1997.09, 1997.12, 1998.03, 1998.06, 1998.09, 1998.12, 1999.03, 1999.06, 1999.09, 1999.12, 2000.03, 2000.06, 2000.09, 2000.12, 2001.03, 2001.06, 2001.09, 2001.12, 2002.03, 2002.06, 2002.09, 2002.12, 2003.03, 2003.06, 2003.09, 2003.12, 2004.03, 2004.06, 2004.09, 2004.12, 2005.03, 2005.06, 2005.09, 2005.12, 2006.03, 2006.06, 2006.09, 2006.12, 2007.03, 2007.06, 2007.09, 2007.12, 2008.03, 2008.06, 2008.09, 2008.12, 2009.03, 2009.06, 2009.09, 2009.12, 2010.03, 2010.06, 2010.09, 2010.12, 2011.03, 2011.06, 2011.09, 2011.12, 2012.03, 2012.06, 2012.09, 2012.12, 2013.03, 2013.06, 2013.09, 2013.12, 2014.03, 2014.06, 2014.09, 2014.12, 2015.03, 2015.06, 2015.09, 2015.12, 2016.03, 2016.06, 2016.09, 2016.12, 2017.03, 2017.06, 2017.09, 2017.12, 2018.03, 2018.06, 2018.09, 2018.12, 2019.03, 2019.06, 2019.09, 2019.12, 2020.03, 2020.06, 2020.09, 2020.12, 2021.03, 2021.06, 2021.09, 2021.12, 2022.03, 2022.06, 2022.09, 1958.03, 1958.06, 1958.09, 1958.12, 1959.03, 1959.06, 1959.09, 1959.12, 1960.03, 1960.06, 1960.09, 1960.12, 1961.03, 1961.06, 1961.09, 1961.12, 1962.03, 1962.06, 1962.09, 1962.12, 1963.03, 1963.06, 1963.09, 1963.12, 1964.03, 1964.06, 1964.09, 1964.12, 1965.03, 1965.06, 1965.09, 1965.12, 1966.03, 1966.06, 1966.09, 1966.12, 1967.03, 1967.06, 1967.09, 1967.12, 1968.03, 1968.06, 1968.09, 1968.12, 1969.03, 1969.06, 1969.09, 1969.12, 1970.03, 1970.06, 1970.09, 1970.12, 1971.03, 1971.06, 1971.09, 1971.12, 1972.03, 1972.06, 1972.09, 1972.12, 1973.03, 1973.06, 1973.09, 1973.12, 1974.03, 1974.06, 1974.09, 1974.12, 1975.03, 1975.06, 1975.09, 1975.12, 1976.03, 1976.06, 1976.09, 1976.12, 1977.03, 1977.06, 1977.09, 1977.12, 1978.03, 1978.06, 1978.09, 1978.12, 1979.03, 1979.06, 1979.09, 1979.12, 1980.03, 1980.06, 1980.09, 1980.12, 1981.03, 1981.06, 1981.09, 1981.12, 1982.03, 1982.06, 1982.09, 1982.12, 1983.03, 1983.06, 1983.09, 1983.12, 1984.03, 1984.06, 1984.09, 1984.12, 1985.03, 1985.06, 1985.09, 1985.12, 1986.03, 1986.06, 1986.09, 1986.12, 1987.03, 1987.06, 1987.09, 1987.12, 1988.03, 1988.06, 1988.09, 1988.12, 1989.03, 1989.06, 1989.09, 1989.12, 1990.03, 1990.06, 1990.09, 1990.12, 1991.03, 1991.06, 1991.09, 1991.12, 1992.03, 1992.06, 1992.09, 1992.12, 1993.03, 1993.06, 1993.09, 1993.12, 1994.03, 1994.06, 1994.09, 1994.12, 1995.03, 1995.06, 1995.09, 1995.12, 1996.03, 1996.06, 1996.09, 1996.12, 1997.03, 1997.06, 1997.09, 1997.12, 1998.03, 1998.06, 1998.09, 1998.12, 1999.03, 1999.06, 1999.09, 1999.12, 2000.03, 2000.06, 2000.09, 2000.12, 2001.03, 2001.06, 2001.09, 2001.12, 2002.03, 2002.06, 2002.09, 2002.12, 2003.03, 2003.06, 2003.09, 2003.12, 2004.03, 2004.06, 2004.09, 2004.12, 2005.03, 2005.06, 2005.09, 2005.12, 2006.03, 2006.06, 2006.09, 2006.12, 2007.03, 2007.06, 2007.09, 2007.12, 2008.03, 2008.06, 2008.09, 2008.12, 2009.03, 2009.06, 2009.09, 2009.12, 2010.03, 2010.06, 2010.09, 2010.12, 2011.03, 2011.06, 2011.09, 2011.12, 2012.03, 2012.06, 2012.09, 2012.12, 2013.03, 2013.06, 2013.09, 2013.12, 2014.03, 2014.06, 2014.09, 2014.12, 2015.03, 2015.06, 2015.09, 2015.12, 2016.03, 2016.06, 2016.09, 2016.12, 2017.03, 2017.06, 2017.09, 2017.12, 2018.03, 2018.06, 2018.09, 2018.12, 2019.03, 2019.06, 2019.09, 2019.12, 2020.03, 2020.06, 2020.09, 2020.12, 2021.03, 2021.06, 2021.09, 2021.12, 2022.03, 2022.06, 2022.09, 1957.06, 1957.09, 1957.12, 1958.03, 1958.06, 1958.09, 1958.12, 1959.03, 1959.06, 1959.09, 1959.12, 1960.03, 1960.06, 1960.09, 1960.12, 1961.03, 1961.06, 1961.09, 1961.12, 1962.03, 1962.06, 1962.09, 1962.12, 1963.03, 1963.06, 1963.09, 1963.12, 1964.03, 1964.06, 1964.09, 1964.12, 1965.03, 1965.06, 1965.09, 1965.12, 1966.03, 1966.06, 1966.09, 1966.12, 1967.03, 1967.06, 1967.09, 1967.12, 1968.03, 1968.06, 1968.09, 1968.12, 1969.03, 1969.06, 1969.09, 1969.12, 1970.03, 1970.06, 1970.09, 1970.12, 1971.03, 1971.06, 1971.09, 1971.12, 1972.03, 1972.06, 1972.09, 1972.12, 1973.03, 1973.06, 1973.09, 1973.12, 1974.03, 1974.06, 1974.09, 1974.12, 1975.03, 1975.06, 1975.09, 1975.12, 1976.03, 1976.06, 1976.09, 1976.12, 1977.03, 1977.06, 1977.09, 1977.12, 1978.03, 1978.06, 1978.09, 1978.12, 1979.03, 1979.06, 1979.09, 1979.12, 1980.03, 1980.06, 1980.09, 1980.12, 1981.03, 1981.06, 1981.09, 1981.12, 1982.03, 1982.06, 1982.09, 1982.12, 1983.03, 1983.06, 1983.09, 1983.12, 1984.03, 1984.06, 1984.09, 1984.12, 1985.03, 1985.06, 1985.09, 1985.12, 1986.03, 1986.06, 1986.09, 1986.12, 1987.03, 1987.06, 1987.09, 1987.12, 1988.03, 1988.06, 1988.09, 1988.12, 1989.03, 1989.06, 1989.09, 1989.12, 1990.03, 1990.06, 1990.09, 1990.12, 1991.03, 1991.06, 1991.09, 1991.12, 1992.03, 1992.06, 1992.09, 1992.12, 1993.03, 1993.06, 1993.09, 1993.12, 1994.03, 1994.06, 1994.09, 1994.12, 1995.03, 1995.06, 1995.09, 1995.12, 1996.03, 1996.06, 1996.09, 1996.12, 1997.03, 1997.06, 1997.09, 1997.12, 1998.03, 1998.06, 1998.09, 1998.12, 1999.03, 1999.06, 1999.09, 1999.12, 2000.03, 2000.06, 2000.09, 2000.12, 2001.03, 2001.06, 2001.09, 2001.12, 2002.03, 2002.06, 2002.09, 2002.12, 2003.03, 2003.06, 2003.09, 2003.12, 2004.03, 2004.06, 2004.09, 2004.12, 2005.03, 2005.06, 2005.09, 2005.12, 2006.03, 2006.06, 2006.09, 2006.12, 2007.03, 2007.06, 2007.09, 2007.12, 2008.03, 2008.06, 2008.09, 2008.12, 2009.03, 2009.06, 2009.09, 2009.12, 2010.03, 2010.06, 2010.09, 2010.12, 2011.03, 2011.06, 2011.09, 2011.12, 2012.03, 2012.06, 2012.09, 2012.12, 2013.03, 2013.06, 2013.09, 2013.12, 2014.03, 2014.06, 2014.09, 2014.12, 2015.03, 2015.06, 2015.09, 2015.12, 2016.03, 2016.06, 2016.09, 2016.12, 2017.03, 2017.06, 2017.09, 2017.12, 2018.03, 2018.06, 2018.09, 2018.12, 2019.03, 2019.06, 2019.09, 2019.12, 2020.03, 2020.06, 2020.09, 2020.12, 2021.03, 2021.06, 2021.09, 2021.12, 2022.03, 2022.06, 2022.09, 1990.06, 1990.09, 1990.12, 1991.03, 1991.06, 1991.09, 1991.12, 1992.03, 1992.06, 1992.09, 1992.12, 1993.03, 1993.06, 1993.09, 1993.12, 1994.03, 1994.06, 1994.09, 1994.12, 1995.03, 1995.06, 1995.09, 1995.12, 1996.03, 1996.06, 1996.09, 1996.12, 1997.03, 1997.06, 1997.09, 1997.12, 1998.03, 1998.06, 1998.09, 1998.12, 1999.03, 1999.06, 1999.09, 1999.12, 2000.03, 2000.06, 2000.09, 2000.12, 2001.03, 2001.06, 2001.09, 2001.12, 2002.03, 2002.06, 2002.09, 2002.12, 2003.03, 2003.06, 2003.09, 2003.12, 2004.03, 2004.06, 2004.09, 2004.12, 2005.03, 2005.06, 2005.09, 2005.12, 2006.03, 2006.06, 2006.09, 2006.12, 2007.03, 2007.06, 2007.09, 2007.12, 2008.03, 2008.06, 2008.09, 2008.12, 2009.03, 2009.06, 2009.09, 2009.12, 2010.03, 2010.06, 2010.09, 2010.12, 2011.03, 2011.06, 2011.09, 2011.12, 2012.03, 2012.06, 2012.09, 2012.12, 2013.03, 2013.06, 2013.09, 2013.12, 2014.03, 2014.06, 2014.09, 2014.12, 2015.03, 2015.06, 2015.09, 2015.12, 2016.03, 2016.06, 2016.09, 2016.12, 2017.03, 2017.06, 2017.09, 2017.12, 2018.03, 2018.06, 2018.09, 2018.12, 2019.03, 2019.06, 2019.09, 2019.12, 2020.03, 2020.06, 2020.09, 2020.12, 2021.03, 2021.06, 2021.09, 2021.12, 2022.03, 2022.06, 2022.09]\n"
     ]
    }
   ],
   "source": [
    "print(type(b))\n",
    "print(len(b))\n",
    "print(list(b))"
   ]
  },
  {
   "cell_type": "code",
   "execution_count": null,
   "id": "63a33b56",
   "metadata": {},
   "outputs": [],
   "source": []
  }
 ],
 "metadata": {
  "kernelspec": {
   "display_name": "Python 3 (ipykernel)",
   "language": "python",
   "name": "python3"
  },
  "language_info": {
   "codemirror_mode": {
    "name": "ipython",
    "version": 3
   },
   "file_extension": ".py",
   "mimetype": "text/x-python",
   "name": "python",
   "nbconvert_exporter": "python",
   "pygments_lexer": "ipython3",
   "version": "3.8.8"
  }
 },
 "nbformat": 4,
 "nbformat_minor": 5
}
