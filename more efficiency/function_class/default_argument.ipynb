{
 "cells": [
  {
   "cell_type": "markdown",
   "id": "4ff8ded6",
   "metadata": {},
   "source": [
    "## single define argument"
   ]
  },
  {
   "cell_type": "code",
   "execution_count": 1,
   "id": "72e80d38",
   "metadata": {},
   "outputs": [],
   "source": [
    "def power(number, pow=1):\n",
    "    new_value = number ** pow\n",
    "    return new_value"
   ]
  },
  {
   "cell_type": "code",
   "execution_count": 2,
   "id": "6b763296",
   "metadata": {},
   "outputs": [
    {
     "name": "stdout",
     "output_type": "stream",
     "text": [
      "27\n"
     ]
    }
   ],
   "source": [
    "#test key in 2 para\n",
    "print(power(3,3))"
   ]
  },
  {
   "cell_type": "code",
   "execution_count": 3,
   "id": "99c5c81f",
   "metadata": {},
   "outputs": [
    {
     "name": "stdout",
     "output_type": "stream",
     "text": [
      "4\n"
     ]
    }
   ],
   "source": [
    "#test key in 1 para\n",
    "print(power(4))"
   ]
  },
  {
   "cell_type": "markdown",
   "id": "079dba19",
   "metadata": {},
   "source": [
    "## power all argument"
   ]
  },
  {
   "cell_type": "code",
   "execution_count": 4,
   "id": "a22eedd7",
   "metadata": {},
   "outputs": [],
   "source": [
    "def add_all(*args):\n",
    "    sum_all=0\n",
    "    for num in args:\n",
    "        sum_all += num\n",
    "    return sum_all"
   ]
  },
  {
   "cell_type": "code",
   "execution_count": 5,
   "id": "81dd6b62",
   "metadata": {},
   "outputs": [
    {
     "data": {
      "text/plain": [
       "3"
      ]
     },
     "execution_count": 5,
     "metadata": {},
     "output_type": "execute_result"
    }
   ],
   "source": [
    "add_all(3)"
   ]
  },
  {
   "cell_type": "code",
   "execution_count": 6,
   "id": "6c5a508f",
   "metadata": {},
   "outputs": [
    {
     "data": {
      "text/plain": [
       "13"
      ]
     },
     "execution_count": 6,
     "metadata": {},
     "output_type": "execute_result"
    }
   ],
   "source": [
    "add_all(3,10)"
   ]
  },
  {
   "cell_type": "code",
   "execution_count": 7,
   "id": "79a1cbcc",
   "metadata": {},
   "outputs": [
    {
     "ename": "TypeError",
     "evalue": "unsupported operand type(s) for +=: 'int' and 'str'",
     "output_type": "error",
     "traceback": [
      "\u001b[0;31m---------------------------------------------------------------------------\u001b[0m",
      "\u001b[0;31mTypeError\u001b[0m                                 Traceback (most recent call last)",
      "Cell \u001b[0;32mIn[7], line 1\u001b[0m\n\u001b[0;32m----> 1\u001b[0m \u001b[43madd_all\u001b[49m\u001b[43m(\u001b[49m\u001b[38;5;241;43m3\u001b[39;49m\u001b[43m,\u001b[49m\u001b[38;5;124;43m'\u001b[39;49m\u001b[38;5;124;43ma\u001b[39;49m\u001b[38;5;124;43m'\u001b[39;49m\u001b[43m)\u001b[49m\n",
      "Cell \u001b[0;32mIn[4], line 4\u001b[0m, in \u001b[0;36madd_all\u001b[0;34m(*args)\u001b[0m\n\u001b[1;32m      2\u001b[0m sum_all\u001b[38;5;241m=\u001b[39m\u001b[38;5;241m0\u001b[39m\n\u001b[1;32m      3\u001b[0m \u001b[38;5;28;01mfor\u001b[39;00m num \u001b[38;5;129;01min\u001b[39;00m args:\n\u001b[0;32m----> 4\u001b[0m     sum_all \u001b[38;5;241m+\u001b[39m\u001b[38;5;241m=\u001b[39m num\n\u001b[1;32m      5\u001b[0m \u001b[38;5;28;01mreturn\u001b[39;00m sum_all\n",
      "\u001b[0;31mTypeError\u001b[0m: unsupported operand type(s) for +=: 'int' and 'str'"
     ]
    }
   ],
   "source": [
    "add_all(3,'a')"
   ]
  },
  {
   "cell_type": "markdown",
   "id": "82704226",
   "metadata": {},
   "source": [
    "## power enter strings into dict argument"
   ]
  },
  {
   "cell_type": "markdown",
   "id": "5f98c781",
   "metadata": {},
   "source": [
    "#. print the dict keys and values by for loop"
   ]
  },
  {
   "cell_type": "code",
   "execution_count": 8,
   "id": "d5b52e07",
   "metadata": {},
   "outputs": [],
   "source": [
    "dict={'A':1,\"b\":2}"
   ]
  },
  {
   "cell_type": "code",
   "execution_count": 17,
   "id": "c210263e",
   "metadata": {},
   "outputs": [
    {
     "name": "stdout",
     "output_type": "stream",
     "text": [
      "A 1\n",
      "b 2\n"
     ]
    }
   ],
   "source": [
    "for i,j in dict.items():\n",
    "    print(i,j)"
   ]
  },
  {
   "cell_type": "code",
   "execution_count": 18,
   "id": "6227ae79",
   "metadata": {},
   "outputs": [],
   "source": [
    "def print_all(**kwargs):\n",
    "    for key, value in kwargs.items():\n",
    "        print(key + \": \" + value)"
   ]
  },
  {
   "cell_type": "code",
   "execution_count": 20,
   "id": "16c3e08e",
   "metadata": {},
   "outputs": [
    {
     "name": "stdout",
     "output_type": "stream",
     "text": [
      "name: dumb\n",
      "job: header\n"
     ]
    }
   ],
   "source": [
    "print_all(name='dumb',job='header')"
   ]
  },
  {
   "cell_type": "code",
   "execution_count": null,
   "id": "bfbef9a9",
   "metadata": {},
   "outputs": [],
   "source": []
  }
 ],
 "metadata": {
  "kernelspec": {
   "display_name": "Python 3 (ipykernel)",
   "language": "python",
   "name": "python3"
  },
  "language_info": {
   "codemirror_mode": {
    "name": "ipython",
    "version": 3
   },
   "file_extension": ".py",
   "mimetype": "text/x-python",
   "name": "python",
   "nbconvert_exporter": "python",
   "pygments_lexer": "ipython3",
   "version": "3.8.8"
  }
 },
 "nbformat": 4,
 "nbformat_minor": 5
}
