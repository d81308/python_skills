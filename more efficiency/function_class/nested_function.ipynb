{
 "cells": [
  {
   "cell_type": "markdown",
   "id": "f741967d",
   "metadata": {},
   "source": [
    "## more line define"
   ]
  },
  {
   "cell_type": "code",
   "execution_count": 1,
   "id": "4cfe1d8c",
   "metadata": {},
   "outputs": [],
   "source": [
    "def mod2plus5(x1,x2,x3):\n",
    "    new_x1 = x1 % 2 +5\n",
    "    new_x2 = x2 % 2 +5\n",
    "    new_x3 = x3 % 2 +5\n",
    "    #use copy-paste to define x2,x3\n",
    "    \n",
    "    return (new_x1,new_x2,new_x3)"
   ]
  },
  {
   "cell_type": "code",
   "execution_count": 3,
   "id": "845d342e",
   "metadata": {},
   "outputs": [
    {
     "data": {
      "text/plain": [
       "(6, 6, 6)"
      ]
     },
     "execution_count": 3,
     "metadata": {},
     "output_type": "execute_result"
    }
   ],
   "source": [
    "mod2plus5(1,3,9999)"
   ]
  },
  {
   "cell_type": "markdown",
   "id": "f8701478",
   "metadata": {},
   "source": [
    "## make nested function"
   ]
  },
  {
   "cell_type": "code",
   "execution_count": 13,
   "id": "36357732",
   "metadata": {},
   "outputs": [],
   "source": [
    "def mod2plus5_nested(x1,x2,x3):\n",
    "    def inner(x):   \n",
    "        return x % 2 +5\n",
    "    return (inner(x1),inner(x2),inner(x3))"
   ]
  },
  {
   "cell_type": "code",
   "execution_count": 14,
   "id": "6cb9abe3",
   "metadata": {},
   "outputs": [
    {
     "data": {
      "text/plain": [
       "(5, 6, 5)"
      ]
     },
     "execution_count": 14,
     "metadata": {},
     "output_type": "execute_result"
    }
   ],
   "source": [
    "mod2plus5_nested(4,5,6)"
   ]
  },
  {
   "cell_type": "markdown",
   "id": "65649161",
   "metadata": {},
   "source": [
    "    #think about what send into inner(x)"
   ]
  },
  {
   "cell_type": "code",
   "execution_count": 15,
   "id": "4fd35fa9",
   "metadata": {},
   "outputs": [],
   "source": [
    "def raise_val(n):\n",
    "    def inner(x):\n",
    "        raised = x ** n\n",
    "        return raised\n",
    "    return inner"
   ]
  },
  {
   "cell_type": "code",
   "execution_count": 18,
   "id": "306b51ca",
   "metadata": {},
   "outputs": [],
   "source": [
    "func_n_2 = raise_val(2)"
   ]
  },
  {
   "cell_type": "code",
   "execution_count": 19,
   "id": "ed6e6b0f",
   "metadata": {},
   "outputs": [
    {
     "data": {
      "text/plain": [
       "9"
      ]
     },
     "execution_count": 19,
     "metadata": {},
     "output_type": "execute_result"
    }
   ],
   "source": [
    "func_n_2(3)"
   ]
  },
  {
   "cell_type": "markdown",
   "id": "b01a03da",
   "metadata": {},
   "source": [
    "## nonlocal vs global"
   ]
  },
  {
   "cell_type": "markdown",
   "id": "6fc99bf5",
   "metadata": {},
   "source": [
    "#1 step"
   ]
  },
  {
   "cell_type": "code",
   "execution_count": 21,
   "id": "4ab91e46",
   "metadata": {},
   "outputs": [],
   "source": [
    "def outer():\n",
    "    n = 1\n",
    "    \n",
    "    print(n)"
   ]
  },
  {
   "cell_type": "code",
   "execution_count": 23,
   "id": "5ccc12c3",
   "metadata": {},
   "outputs": [
    {
     "name": "stdout",
     "output_type": "stream",
     "text": [
      "1\n"
     ]
    }
   ],
   "source": [
    "outer()"
   ]
  },
  {
   "cell_type": "markdown",
   "id": "7004363b",
   "metadata": {},
   "source": [
    "#2 step"
   ]
  },
  {
   "cell_type": "code",
   "execution_count": 30,
   "id": "4456a0b0",
   "metadata": {},
   "outputs": [],
   "source": [
    "def outer():\n",
    "    n=1\n",
    "    def inner():\n",
    "        n=2\n",
    "        print('the inner value:',n)\n",
    "    inner()\n",
    "    print('the outer value:',n)"
   ]
  },
  {
   "cell_type": "code",
   "execution_count": 31,
   "id": "326dd10d",
   "metadata": {},
   "outputs": [
    {
     "name": "stdout",
     "output_type": "stream",
     "text": [
      "the inner value: 2\n",
      "the outer value: 1\n"
     ]
    }
   ],
   "source": [
    "outer()"
   ]
  },
  {
   "cell_type": "markdown",
   "id": "a68702f7",
   "metadata": {},
   "source": [
    "#3 step, nonlocal"
   ]
  },
  {
   "cell_type": "code",
   "execution_count": 32,
   "id": "a05175f0",
   "metadata": {},
   "outputs": [],
   "source": [
    "def outer():\n",
    "    n=1\n",
    "    def inner():\n",
    "        nonlocal n\n",
    "        #nonlocal can send n=2 out to global n!\n",
    "        n=2\n",
    "        print('the inner value:',n)\n",
    "    inner()\n",
    "    print('the outer value:',n)"
   ]
  },
  {
   "cell_type": "code",
   "execution_count": 33,
   "id": "f2a66194",
   "metadata": {},
   "outputs": [
    {
     "name": "stdout",
     "output_type": "stream",
     "text": [
      "the inner value: 2\n",
      "the outer value: 2\n"
     ]
    }
   ],
   "source": [
    "outer()"
   ]
  },
  {
   "cell_type": "markdown",
   "id": "dad5316c",
   "metadata": {},
   "source": [
    "#. try global n"
   ]
  },
  {
   "cell_type": "code",
   "execution_count": 34,
   "id": "b3cd149a",
   "metadata": {},
   "outputs": [],
   "source": [
    "def outer():\n",
    "    n=1\n",
    "    def inner():\n",
    "        global n\n",
    "        #global send n=1 in local n!\n",
    "        #next define n=2\n",
    "        n=2\n",
    "        print('the inner value:',n)\n",
    "    inner()\n",
    "    print('the outer value:',n)"
   ]
  },
  {
   "cell_type": "code",
   "execution_count": 35,
   "id": "fef440e5",
   "metadata": {},
   "outputs": [
    {
     "name": "stdout",
     "output_type": "stream",
     "text": [
      "the inner value: 2\n",
      "the outer value: 1\n"
     ]
    }
   ],
   "source": [
    "outer()"
   ]
  },
  {
   "cell_type": "code",
   "execution_count": null,
   "id": "dbd331c4",
   "metadata": {},
   "outputs": [],
   "source": []
  }
 ],
 "metadata": {
  "kernelspec": {
   "display_name": "Python 3 (ipykernel)",
   "language": "python",
   "name": "python3"
  },
  "language_info": {
   "codemirror_mode": {
    "name": "ipython",
    "version": 3
   },
   "file_extension": ".py",
   "mimetype": "text/x-python",
   "name": "python",
   "nbconvert_exporter": "python",
   "pygments_lexer": "ipython3",
   "version": "3.8.8"
  }
 },
 "nbformat": 4,
 "nbformat_minor": 5
}
