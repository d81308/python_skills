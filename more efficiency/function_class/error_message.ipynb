{
 "cells": [
  {
   "cell_type": "markdown",
   "id": "c076b35c",
   "metadata": {},
   "source": [
    "## type error"
   ]
  },
  {
   "cell_type": "code",
   "execution_count": 3,
   "id": "cf9a3ce6",
   "metadata": {},
   "outputs": [],
   "source": [
    "def square_value(x):\n",
    "    try:\n",
    "        return x**2\n",
    "    except TypeError:\n",
    "        print('key in int or float')"
   ]
  },
  {
   "cell_type": "code",
   "execution_count": 4,
   "id": "b3e6cca4",
   "metadata": {},
   "outputs": [
    {
     "data": {
      "text/plain": [
       "9.0"
      ]
     },
     "execution_count": 4,
     "metadata": {},
     "output_type": "execute_result"
    }
   ],
   "source": [
    "square_value(3.0)"
   ]
  },
  {
   "cell_type": "code",
   "execution_count": 5,
   "id": "57a3d0d3",
   "metadata": {},
   "outputs": [
    {
     "name": "stdout",
     "output_type": "stream",
     "text": [
      "key in int or float\n"
     ]
    }
   ],
   "source": [
    "square_value([3,3])"
   ]
  },
  {
   "cell_type": "markdown",
   "id": "4cf283f6",
   "metadata": {},
   "source": [
    "## value error"
   ]
  },
  {
   "cell_type": "code",
   "execution_count": 13,
   "id": "cf9b29da",
   "metadata": {},
   "outputs": [],
   "source": [
    "def score_value(x):\n",
    "    if x < 0:\n",
    "        raise ValueError('score value can no be negative')\n",
    "    try:\n",
    "        return x*2\n",
    "    except TypeError:\n",
    "        print('key in int or float')"
   ]
  },
  {
   "cell_type": "code",
   "execution_count": 14,
   "id": "94a26c40",
   "metadata": {},
   "outputs": [
    {
     "data": {
      "text/plain": [
       "50"
      ]
     },
     "execution_count": 14,
     "metadata": {},
     "output_type": "execute_result"
    }
   ],
   "source": [
    "score_value(25)"
   ]
  },
  {
   "cell_type": "code",
   "execution_count": 15,
   "id": "90a81a2d",
   "metadata": {},
   "outputs": [
    {
     "ename": "ValueError",
     "evalue": "score value can no be negative",
     "output_type": "error",
     "traceback": [
      "\u001b[0;31m---------------------------------------------------------------------------\u001b[0m",
      "\u001b[0;31mValueError\u001b[0m                                Traceback (most recent call last)",
      "Cell \u001b[0;32mIn[15], line 1\u001b[0m\n\u001b[0;32m----> 1\u001b[0m \u001b[43mscore_value\u001b[49m\u001b[43m(\u001b[49m\u001b[38;5;241;43m-\u001b[39;49m\u001b[38;5;241;43m3\u001b[39;49m\u001b[43m)\u001b[49m\n",
      "Cell \u001b[0;32mIn[13], line 3\u001b[0m, in \u001b[0;36mscore_value\u001b[0;34m(x)\u001b[0m\n\u001b[1;32m      1\u001b[0m \u001b[38;5;28;01mdef\u001b[39;00m \u001b[38;5;21mscore_value\u001b[39m(x):\n\u001b[1;32m      2\u001b[0m     \u001b[38;5;28;01mif\u001b[39;00m x \u001b[38;5;241m<\u001b[39m \u001b[38;5;241m0\u001b[39m:\n\u001b[0;32m----> 3\u001b[0m         \u001b[38;5;28;01mraise\u001b[39;00m \u001b[38;5;167;01mValueError\u001b[39;00m(\u001b[38;5;124m'\u001b[39m\u001b[38;5;124mscore value can no be negative\u001b[39m\u001b[38;5;124m'\u001b[39m)\n\u001b[1;32m      4\u001b[0m     \u001b[38;5;28;01mtry\u001b[39;00m:\n\u001b[1;32m      5\u001b[0m         \u001b[38;5;28;01mreturn\u001b[39;00m x\u001b[38;5;241m*\u001b[39m\u001b[38;5;241m2\u001b[39m\n",
      "\u001b[0;31mValueError\u001b[0m: score value can no be negative"
     ]
    }
   ],
   "source": [
    "score_value(-3)"
   ]
  },
  {
   "cell_type": "code",
   "execution_count": null,
   "id": "d4795631",
   "metadata": {},
   "outputs": [],
   "source": []
  }
 ],
 "metadata": {
  "kernelspec": {
   "display_name": "Python 3 (ipykernel)",
   "language": "python",
   "name": "python3"
  },
  "language_info": {
   "codemirror_mode": {
    "name": "ipython",
    "version": 3
   },
   "file_extension": ".py",
   "mimetype": "text/x-python",
   "name": "python",
   "nbconvert_exporter": "python",
   "pygments_lexer": "ipython3",
   "version": "3.8.8"
  }
 },
 "nbformat": 4,
 "nbformat_minor": 5
}
