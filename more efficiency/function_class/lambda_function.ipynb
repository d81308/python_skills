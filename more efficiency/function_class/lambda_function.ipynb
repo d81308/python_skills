{
 "cells": [
  {
   "cell_type": "markdown",
   "id": "e129a037",
   "metadata": {},
   "source": [
    "## single lambda"
   ]
  },
  {
   "cell_type": "code",
   "execution_count": 1,
   "id": "3ecb4483",
   "metadata": {},
   "outputs": [],
   "source": [
    "raise_to_power = lambda x,y:x**y"
   ]
  },
  {
   "cell_type": "code",
   "execution_count": 2,
   "id": "c49cca82",
   "metadata": {},
   "outputs": [
    {
     "data": {
      "text/plain": [
       "8"
      ]
     },
     "execution_count": 2,
     "metadata": {},
     "output_type": "execute_result"
    }
   ],
   "source": [
    "raise_to_power(2,3)"
   ]
  },
  {
   "cell_type": "markdown",
   "id": "b37486a0",
   "metadata": {},
   "source": [
    "## put lambda into map()"
   ]
  },
  {
   "cell_type": "code",
   "execution_count": 3,
   "id": "836a6135",
   "metadata": {},
   "outputs": [
    {
     "name": "stdout",
     "output_type": "stream",
     "text": [
      "<map object at 0x7fc948ca7370>\n"
     ]
    }
   ],
   "source": [
    "nums = [48,6,9,21,1]\n",
    "square_all = map(lambda num: num**2,nums)\n",
    "print(square_all)"
   ]
  },
  {
   "cell_type": "code",
   "execution_count": 4,
   "id": "f2256efe",
   "metadata": {},
   "outputs": [
    {
     "name": "stdout",
     "output_type": "stream",
     "text": [
      "[2304, 36, 81, 441, 1]\n"
     ]
    }
   ],
   "source": [
    "#print the map results\n",
    "print(list(square_all))"
   ]
  },
  {
   "cell_type": "markdown",
   "id": "3e1e58af",
   "metadata": {},
   "source": [
    "    #put lambda into filter()"
   ]
  },
  {
   "cell_type": "code",
   "execution_count": 14,
   "id": "8ba29947",
   "metadata": {},
   "outputs": [
    {
     "data": {
      "text/plain": [
       "[70, 80, 90]"
      ]
     },
     "execution_count": 14,
     "metadata": {},
     "output_type": "execute_result"
    }
   ],
   "source": [
    "scores = [70,80,50,60,90]\n",
    "filtered = filter(lambda x:x>=70,scores)\n",
    "list(filtered)"
   ]
  },
  {
   "cell_type": "markdown",
   "id": "b1a273f9",
   "metadata": {},
   "source": [
    "    #put lambda into reduce()"
   ]
  },
  {
   "cell_type": "markdown",
   "id": "3965ac0c",
   "metadata": {},
   "source": [
    "    (((((5+8)+10)+20)+50)+100).\n",
    "    疊加且折疊"
   ]
  },
  {
   "cell_type": "code",
   "execution_count": 15,
   "id": "5bd0d599",
   "metadata": {},
   "outputs": [],
   "source": [
    "from functools import reduce"
   ]
  },
  {
   "cell_type": "code",
   "execution_count": 17,
   "id": "b693a124",
   "metadata": {},
   "outputs": [
    {
     "data": {
      "text/plain": [
       "193"
      ]
     },
     "execution_count": 17,
     "metadata": {},
     "output_type": "execute_result"
    }
   ],
   "source": [
    "list_a = [5, 8, 10, 20, 50, 100]\n",
    "sum_reduce = reduce((lambda x,y: x+y ),list_a)\n",
    "sum_reduce"
   ]
  },
  {
   "cell_type": "markdown",
   "id": "59b57166",
   "metadata": {},
   "source": [
    "## work lamda like a function"
   ]
  },
  {
   "cell_type": "code",
   "execution_count": 5,
   "id": "d9379e00",
   "metadata": {},
   "outputs": [],
   "source": [
    "def echo_word(word1, echo):\n",
    "    \"\"\"Concatenate echo copies of word1.\"\"\"\n",
    "    words = word1 * echo\n",
    "    return words"
   ]
  },
  {
   "cell_type": "code",
   "execution_count": 6,
   "id": "aa1cd9f1",
   "metadata": {},
   "outputs": [
    {
     "data": {
      "text/plain": [
       "'functionfunction'"
      ]
     },
     "execution_count": 6,
     "metadata": {},
     "output_type": "execute_result"
    }
   ],
   "source": [
    "echo_word('function',2)"
   ]
  },
  {
   "cell_type": "code",
   "execution_count": 7,
   "id": "5bcf1bd2",
   "metadata": {},
   "outputs": [],
   "source": [
    "echo_word_lambda = (lambda word1,echo=1: word1*echo)"
   ]
  },
  {
   "cell_type": "code",
   "execution_count": 10,
   "id": "1fb61a2a",
   "metadata": {},
   "outputs": [
    {
     "data": {
      "text/plain": [
       "'lambda'"
      ]
     },
     "execution_count": 10,
     "metadata": {},
     "output_type": "execute_result"
    }
   ],
   "source": [
    "echo_word_lambda('lambda')"
   ]
  },
  {
   "cell_type": "code",
   "execution_count": 11,
   "id": "3f911fe4",
   "metadata": {},
   "outputs": [
    {
     "data": {
      "text/plain": [
       "'lambdalambdalambda'"
      ]
     },
     "execution_count": 11,
     "metadata": {},
     "output_type": "execute_result"
    }
   ],
   "source": [
    "echo_word_lambda('lambda',3)"
   ]
  },
  {
   "cell_type": "code",
   "execution_count": null,
   "id": "7723b2f3",
   "metadata": {},
   "outputs": [],
   "source": []
  }
 ],
 "metadata": {
  "kernelspec": {
   "display_name": "Python 3 (ipykernel)",
   "language": "python",
   "name": "python3"
  },
  "language_info": {
   "codemirror_mode": {
    "name": "ipython",
    "version": 3
   },
   "file_extension": ".py",
   "mimetype": "text/x-python",
   "name": "python",
   "nbconvert_exporter": "python",
   "pygments_lexer": "ipython3",
   "version": "3.8.8"
  }
 },
 "nbformat": 4,
 "nbformat_minor": 5
}
