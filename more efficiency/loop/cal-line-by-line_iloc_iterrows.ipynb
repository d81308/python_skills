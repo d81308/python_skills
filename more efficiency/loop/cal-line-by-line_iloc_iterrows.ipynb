{
 "cells": [
  {
   "cell_type": "markdown",
   "id": "b9799764",
   "metadata": {},
   "source": [
    "# creator"
   ]
  },
  {
   "cell_type": "code",
   "execution_count": 1,
   "id": "5e675558",
   "metadata": {},
   "outputs": [],
   "source": [
    "import random, string\n",
    "import pandas as pd\n",
    "from random import randint as rnd\n",
    "\n",
    "def strings_creator(len):\n",
    "    '''this function can give you len random strings'''\n",
    "    return ''.join(random.choice(string.ascii_letters) for i in range(len))\n",
    "def random_strings_list(string_length,list_length):\n",
    "    '''this function need combine strings_creator to make long list'''\n",
    "    return [strings_creator(string_length) for i in range(list_length)]"
   ]
  },
  {
   "cell_type": "code",
   "execution_count": 2,
   "id": "dc2f8648",
   "metadata": {},
   "outputs": [],
   "source": [
    "team = []\n",
    "league = []\n",
    "year = []\n",
    "RS = []\n",
    "RA = []\n",
    "W_index = []\n",
    "G_index = []\n",
    "Playoffs = []\n",
    "for data in range(1000):\n",
    "    team.append(strings_creator(3))\n",
    "    league.append(['AL','NL'][rnd(0,1)])\n",
    "    year.append(rnd(1962,2013))\n",
    "    RS.append(rnd(600,800))\n",
    "    RA.append(rnd(600,800))\n",
    "    W_index.append(rnd(50,99))\n",
    "    G_index.append(162)\n",
    "    Playoffs.append([0,1][rnd(0,1)])"
   ]
  },
  {
   "cell_type": "code",
   "execution_count": 3,
   "id": "115cf66b",
   "metadata": {},
   "outputs": [],
   "source": [
    "df_zip = pd.DataFrame()\n",
    "zip_data = zip(team,league,year,RS,RA,W_index,G_index,Playoffs)\n",
    "list_data = list(zip_data)\n",
    "df_zip = pd.DataFrame(list_data,columns=['team','league','year','RS','RA','W','G','Playoffs'])"
   ]
  },
  {
   "cell_type": "code",
   "execution_count": 4,
   "id": "91037372",
   "metadata": {},
   "outputs": [
    {
     "data": {
      "text/html": [
       "<div>\n",
       "<style scoped>\n",
       "    .dataframe tbody tr th:only-of-type {\n",
       "        vertical-align: middle;\n",
       "    }\n",
       "\n",
       "    .dataframe tbody tr th {\n",
       "        vertical-align: top;\n",
       "    }\n",
       "\n",
       "    .dataframe thead th {\n",
       "        text-align: right;\n",
       "    }\n",
       "</style>\n",
       "<table border=\"1\" class=\"dataframe\">\n",
       "  <thead>\n",
       "    <tr style=\"text-align: right;\">\n",
       "      <th></th>\n",
       "      <th>team</th>\n",
       "      <th>league</th>\n",
       "      <th>year</th>\n",
       "      <th>RS</th>\n",
       "      <th>RA</th>\n",
       "      <th>W</th>\n",
       "      <th>G</th>\n",
       "      <th>Playoffs</th>\n",
       "    </tr>\n",
       "  </thead>\n",
       "  <tbody>\n",
       "    <tr>\n",
       "      <th>0</th>\n",
       "      <td>GxW</td>\n",
       "      <td>NL</td>\n",
       "      <td>1995</td>\n",
       "      <td>774</td>\n",
       "      <td>602</td>\n",
       "      <td>83</td>\n",
       "      <td>162</td>\n",
       "      <td>0</td>\n",
       "    </tr>\n",
       "    <tr>\n",
       "      <th>1</th>\n",
       "      <td>NDA</td>\n",
       "      <td>AL</td>\n",
       "      <td>2013</td>\n",
       "      <td>672</td>\n",
       "      <td>639</td>\n",
       "      <td>73</td>\n",
       "      <td>162</td>\n",
       "      <td>0</td>\n",
       "    </tr>\n",
       "    <tr>\n",
       "      <th>2</th>\n",
       "      <td>pNw</td>\n",
       "      <td>NL</td>\n",
       "      <td>1974</td>\n",
       "      <td>799</td>\n",
       "      <td>610</td>\n",
       "      <td>86</td>\n",
       "      <td>162</td>\n",
       "      <td>0</td>\n",
       "    </tr>\n",
       "    <tr>\n",
       "      <th>3</th>\n",
       "      <td>QSu</td>\n",
       "      <td>AL</td>\n",
       "      <td>1966</td>\n",
       "      <td>623</td>\n",
       "      <td>638</td>\n",
       "      <td>58</td>\n",
       "      <td>162</td>\n",
       "      <td>1</td>\n",
       "    </tr>\n",
       "    <tr>\n",
       "      <th>4</th>\n",
       "      <td>mQh</td>\n",
       "      <td>NL</td>\n",
       "      <td>1975</td>\n",
       "      <td>789</td>\n",
       "      <td>736</td>\n",
       "      <td>90</td>\n",
       "      <td>162</td>\n",
       "      <td>0</td>\n",
       "    </tr>\n",
       "  </tbody>\n",
       "</table>\n",
       "</div>"
      ],
      "text/plain": [
       "  team league  year   RS   RA   W    G  Playoffs\n",
       "0  GxW     NL  1995  774  602  83  162         0\n",
       "1  NDA     AL  2013  672  639  73  162         0\n",
       "2  pNw     NL  1974  799  610  86  162         0\n",
       "3  QSu     AL  1966  623  638  58  162         1\n",
       "4  mQh     NL  1975  789  736  90  162         0"
      ]
     },
     "execution_count": 4,
     "metadata": {},
     "output_type": "execute_result"
    }
   ],
   "source": [
    "df_zip.head()"
   ]
  },
  {
   "cell_type": "markdown",
   "id": "2cb5bf03",
   "metadata": {},
   "source": [
    "# numpy cal"
   ]
  },
  {
   "cell_type": "code",
   "execution_count": 5,
   "id": "f85a3fa1",
   "metadata": {},
   "outputs": [],
   "source": [
    "import numpy as np"
   ]
  },
  {
   "cell_type": "code",
   "execution_count": 6,
   "id": "18c48ccb",
   "metadata": {},
   "outputs": [],
   "source": [
    "def cal_win_perc(wins, games):\n",
    "    win_perc = wins / games\n",
    "    return np.round(win_perc,2)"
   ]
  },
  {
   "cell_type": "code",
   "execution_count": 7,
   "id": "d80bbe41",
   "metadata": {},
   "outputs": [
    {
     "data": {
      "text/plain": [
       "0.5"
      ]
     },
     "execution_count": 7,
     "metadata": {},
     "output_type": "execute_result"
    }
   ],
   "source": [
    "win_test = cal_win_perc(50,100)\n",
    "win_test"
   ]
  },
  {
   "cell_type": "markdown",
   "id": "6b6c8138",
   "metadata": {},
   "source": [
    "# add new percentage column"
   ]
  },
  {
   "cell_type": "markdown",
   "id": "7bcdcdb4",
   "metadata": {},
   "source": [
    "## with inefficiency way"
   ]
  },
  {
   "cell_type": "code",
   "execution_count": 20,
   "id": "8f1f6783",
   "metadata": {},
   "outputs": [
    {
     "name": "stdout",
     "output_type": "stream",
     "text": [
      "200 ms ± 29.3 ms per loop (mean ± std. dev. of 3 runs, 1 loop each)\n"
     ]
    }
   ],
   "source": [
    "%%timeit -r3 -n1\n",
    "perc_col = []\n",
    "\n",
    "for i in range(len(df_zip)):\n",
    "    row = df_zip.iloc[i]\n",
    "    win_data = row['W']\n",
    "    game_data = row['G']\n",
    "    perc_data = cal_win_perc(win_data, game_data)\n",
    "    perc_col.append(perc_data)\n",
    "\n",
    "df_zip['WG_perc']=perc_col\n",
    "df_zip.head()"
   ]
  },
  {
   "cell_type": "markdown",
   "id": "3bdb221c",
   "metadata": {},
   "source": [
    "## good way"
   ]
  },
  {
   "cell_type": "code",
   "execution_count": 19,
   "id": "1d703e42",
   "metadata": {},
   "outputs": [
    {
     "name": "stdout",
     "output_type": "stream",
     "text": [
      "97.6 ms ± 37.2 ms per loop (mean ± std. dev. of 3 runs, 1 loop each)\n"
     ]
    }
   ],
   "source": [
    "%%timeit -r3 -n1\n",
    "perc_col = []\n",
    "\n",
    "for i,row in df_zip.iterrows():\n",
    "    win_data = row['W']\n",
    "    game_data = row['G']\n",
    "    perc_data = cal_win_perc(win_data, game_data)\n",
    "    perc_col.append(perc_data)\n",
    "\n",
    "df_zip['WG_perc']=perc_col\n",
    "df_zip.head()"
   ]
  },
  {
   "cell_type": "code",
   "execution_count": null,
   "id": "6873871f",
   "metadata": {},
   "outputs": [],
   "source": []
  }
 ],
 "metadata": {
  "kernelspec": {
   "display_name": "Python 3 (ipykernel)",
   "language": "python",
   "name": "python3"
  },
  "language_info": {
   "codemirror_mode": {
    "name": "ipython",
    "version": 3
   },
   "file_extension": ".py",
   "mimetype": "text/x-python",
   "name": "python",
   "nbconvert_exporter": "python",
   "pygments_lexer": "ipython3",
   "version": "3.8.8"
  }
 },
 "nbformat": 4,
 "nbformat_minor": 5
}
