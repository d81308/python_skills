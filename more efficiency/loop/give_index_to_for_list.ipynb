{
 "cells": [
  {
   "cell_type": "code",
   "execution_count": null,
   "id": "898682ff",
   "metadata": {},
   "outputs": [],
   "source": [
    "for i,col in enumerate(clean_col_df.columns):\n",
    "    if i < len(clean_col_df.columns)-1:\n",
    "        print('   '+'\"'+col+'\"',dict_type_convert[str(clean_col_df[[col]].dtypes[0])]+\",\")\n",
    "    else:\n",
    "        print('   '+'\"'+col+'\"',dict_type_convert[str(clean_col_df[[col]].dtypes[0])])"
   ]
  }
 ],
 "metadata": {
  "kernelspec": {
   "display_name": "Python 3 (ipykernel)",
   "language": "python",
   "name": "python3"
  },
  "language_info": {
   "codemirror_mode": {
    "name": "ipython",
    "version": 3
   },
   "file_extension": ".py",
   "mimetype": "text/x-python",
   "name": "python",
   "nbconvert_exporter": "python",
   "pygments_lexer": "ipython3",
   "version": "3.8.8"
  }
 },
 "nbformat": 4,
 "nbformat_minor": 5
}
