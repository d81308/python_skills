{
 "cells": [
  {
   "cell_type": "markdown",
   "id": "401f725a",
   "metadata": {},
   "source": [
    "# case1\n",
    "how to compress into one line:\n",
    "> action do each elements"
   ]
  },
  {
   "cell_type": "markdown",
   "id": "6a83a294",
   "metadata": {},
   "source": [
    "### normal for loop"
   ]
  },
  {
   "cell_type": "code",
   "execution_count": 2,
   "id": "46314388",
   "metadata": {},
   "outputs": [
    {
     "name": "stdout",
     "output_type": "stream",
     "text": [
      "[2, 3, 4, 5, 6]\n"
     ]
    }
   ],
   "source": [
    "nums=[1,2,3,4,5]\n",
    "new_nums=[]\n",
    "\n",
    "for num in nums:\n",
    "    new_nums.append(num + 1)\n",
    "\n",
    "print(new_nums)"
   ]
  },
  {
   "cell_type": "markdown",
   "id": "c59247c9",
   "metadata": {},
   "source": [
    "### compression"
   ]
  },
  {
   "cell_type": "code",
   "execution_count": 5,
   "id": "bb97acb9",
   "metadata": {},
   "outputs": [
    {
     "name": "stdout",
     "output_type": "stream",
     "text": [
      "[2, 3, 4, 5, 6]\n"
     ]
    }
   ],
   "source": [
    "new_nums2 = [num+1 for num in nums]\n",
    "print(new_nums2)"
   ]
  },
  {
   "cell_type": "markdown",
   "id": "096b2098",
   "metadata": {},
   "source": [
    "# case2\n",
    "compress range for loop\n",
    "> range function is make a list of num range\n",
    "\n",
    "> to unzip range can do for loop, unzip *, or one line for loop"
   ]
  },
  {
   "cell_type": "code",
   "execution_count": 6,
   "id": "74a9891a",
   "metadata": {},
   "outputs": [
    {
     "data": {
      "text/plain": [
       "range(0, 5)"
      ]
     },
     "execution_count": 6,
     "metadata": {},
     "output_type": "execute_result"
    }
   ],
   "source": [
    "range(0,5)"
   ]
  },
  {
   "cell_type": "markdown",
   "id": "da3d5735",
   "metadata": {},
   "source": [
    "### common for loop"
   ]
  },
  {
   "cell_type": "code",
   "execution_count": 7,
   "id": "ba6cd70c",
   "metadata": {},
   "outputs": [
    {
     "name": "stdout",
     "output_type": "stream",
     "text": [
      "[0, 1, 2, 3, 4]\n"
     ]
    }
   ],
   "source": [
    "range_list = []\n",
    "for num in range(0,5):\n",
    "    range_list.append(num)\n",
    "print(range_list)"
   ]
  },
  {
   "cell_type": "markdown",
   "id": "c1cf2b47",
   "metadata": {},
   "source": [
    "### unzip method"
   ]
  },
  {
   "cell_type": "code",
   "execution_count": 9,
   "id": "73fb8c33",
   "metadata": {},
   "outputs": [
    {
     "name": "stdout",
     "output_type": "stream",
     "text": [
      "[0, 1, 2, 3, 4]\n"
     ]
    }
   ],
   "source": [
    "range_list_unzip = [*range(0,5)]\n",
    "print(range_list_unzip)"
   ]
  },
  {
   "cell_type": "markdown",
   "id": "7d018e70",
   "metadata": {},
   "source": [
    "### one line method"
   ]
  },
  {
   "cell_type": "code",
   "execution_count": 10,
   "id": "7171117b",
   "metadata": {},
   "outputs": [
    {
     "name": "stdout",
     "output_type": "stream",
     "text": [
      "[0, 1, 2, 3, 4]\n"
     ]
    }
   ],
   "source": [
    "range_list_oneline = [num for num in range(0,5)]\n",
    "print(range_list_oneline)"
   ]
  },
  {
   "cell_type": "markdown",
   "id": "e8dacdab",
   "metadata": {},
   "source": [
    "# case3\n",
    "nesting for loop, two layer\n",
    "> make 2 element cell list, like matrix, like [(0,1),(1,2)]\n",
    "\n",
    "> can use common for loop, one line"
   ]
  },
  {
   "cell_type": "markdown",
   "id": "b0f70acc",
   "metadata": {},
   "source": [
    "### common for loop"
   ]
  },
  {
   "cell_type": "code",
   "execution_count": 13,
   "id": "c9c56aba",
   "metadata": {},
   "outputs": [
    {
     "name": "stdout",
     "output_type": "stream",
     "text": [
      "[(0, 6), (0, 7), (1, 6), (1, 7)]\n"
     ]
    }
   ],
   "source": [
    "pair_common = []\n",
    "for i in range(0,2):\n",
    "    for j in range(6,8):\n",
    "        pair_common.append((i,j))\n",
    "print(pair_common)"
   ]
  },
  {
   "cell_type": "markdown",
   "id": "e6fc6736",
   "metadata": {},
   "source": [
    "### one line method"
   ]
  },
  {
   "cell_type": "code",
   "execution_count": 14,
   "id": "ef3db1a8",
   "metadata": {},
   "outputs": [
    {
     "name": "stdout",
     "output_type": "stream",
     "text": [
      "[(0, 6), (0, 7), (1, 6), (1, 7)]\n"
     ]
    }
   ],
   "source": [
    "pair_oneline = [(i,j) for i in range(0,2) for j in range(6,8)]\n",
    "print(pair_oneline)"
   ]
  },
  {
   "cell_type": "code",
   "execution_count": null,
   "id": "ccbd18f4",
   "metadata": {},
   "outputs": [],
   "source": []
  }
 ],
 "metadata": {
  "kernelspec": {
   "display_name": "Python 3 (ipykernel)",
   "language": "python",
   "name": "python3"
  },
  "language_info": {
   "codemirror_mode": {
    "name": "ipython",
    "version": 3
   },
   "file_extension": ".py",
   "mimetype": "text/x-python",
   "name": "python",
   "nbconvert_exporter": "python",
   "pygments_lexer": "ipython3",
   "version": "3.8.8"
  }
 },
 "nbformat": 4,
 "nbformat_minor": 5
}
