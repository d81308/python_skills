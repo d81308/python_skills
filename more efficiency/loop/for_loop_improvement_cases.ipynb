{
 "cells": [
  {
   "cell_type": "markdown",
   "id": "f042eb68",
   "metadata": {},
   "source": [
    "# no need loop but put in"
   ]
  },
  {
   "cell_type": "code",
   "execution_count": 1,
   "id": "4cdd91d3",
   "metadata": {},
   "outputs": [],
   "source": [
    "import numpy as np"
   ]
  },
  {
   "cell_type": "code",
   "execution_count": 4,
   "id": "e2fc2c39",
   "metadata": {},
   "outputs": [
    {
     "name": "stdout",
     "output_type": "stream",
     "text": [
      "b's attack:56 is greate than 38.333333333333336'\n",
      "c's attack:77 is greate than 38.333333333333336'\n",
      "d's attack:45 is greate than 38.333333333333336'\n",
      "b's attack:56 is greate than 38.333333333333336'\n",
      "c's attack:77 is greate than 38.333333333333336'\n",
      "d's attack:45 is greate than 38.333333333333336'\n",
      "b's attack:56 is greate than 38.333333333333336'\n",
      "c's attack:77 is greate than 38.333333333333336'\n",
      "d's attack:45 is greate than 38.333333333333336'\n",
      "b's attack:56 is greate than 38.333333333333336'\n",
      "c's attack:77 is greate than 38.333333333333336'\n",
      "d's attack:45 is greate than 38.333333333333336'\n",
      "b's attack:56 is greate than 38.333333333333336'\n",
      "c's attack:77 is greate than 38.333333333333336'\n",
      "d's attack:45 is greate than 38.333333333333336'\n",
      "b's attack:56 is greate than 38.333333333333336'\n",
      "c's attack:77 is greate than 38.333333333333336'\n",
      "d's attack:45 is greate than 38.333333333333336'\n",
      "b's attack:56 is greate than 38.333333333333336'\n",
      "c's attack:77 is greate than 38.333333333333336'\n",
      "d's attack:45 is greate than 38.333333333333336'\n",
      "b's attack:56 is greate than 38.333333333333336'\n",
      "c's attack:77 is greate than 38.333333333333336'\n",
      "d's attack:45 is greate than 38.333333333333336'\n",
      "b's attack:56 is greate than 38.333333333333336'\n",
      "c's attack:77 is greate than 38.333333333333336'\n",
      "d's attack:45 is greate than 38.333333333333336'\n",
      "128 µs ± 62.5 µs per loop (mean ± std. dev. of 3 runs, 3 loops each)\n"
     ]
    }
   ],
   "source": [
    "%%timeit -r3 -n3\n",
    "names = ['a','b','c','d','e']\n",
    "attacks = np.array([10,56,77,45,6,36])\n",
    "for pokemon,attack in zip(names,attacks):\n",
    "    total_attack_avg = attacks.mean()\n",
    "    if attack > total_attack_avg:\n",
    "        print(\n",
    "            \"{}'s attack:{} is greate than {}'\"\n",
    "            .format(pokemon,attack,total_attack_avg)\n",
    "        )"
   ]
  },
  {
   "cell_type": "code",
   "execution_count": 5,
   "id": "072166a3",
   "metadata": {},
   "outputs": [
    {
     "name": "stdout",
     "output_type": "stream",
     "text": [
      "b's attack:56 is greate than 38.333333333333336'\n",
      "c's attack:77 is greate than 38.333333333333336'\n",
      "d's attack:45 is greate than 38.333333333333336'\n",
      "b's attack:56 is greate than 38.333333333333336'\n",
      "c's attack:77 is greate than 38.333333333333336'\n",
      "d's attack:45 is greate than 38.333333333333336'\n",
      "b's attack:56 is greate than 38.333333333333336'\n",
      "c's attack:77 is greate than 38.333333333333336'\n",
      "d's attack:45 is greate than 38.333333333333336'\n",
      "b's attack:56 is greate than 38.333333333333336'\n",
      "c's attack:77 is greate than 38.333333333333336'\n",
      "d's attack:45 is greate than 38.333333333333336'\n",
      "b's attack:56 is greate than 38.333333333333336'\n",
      "c's attack:77 is greate than 38.333333333333336'\n",
      "d's attack:45 is greate than 38.333333333333336'\n",
      "b's attack:56 is greate than 38.333333333333336'\n",
      "c's attack:77 is greate than 38.333333333333336'\n",
      "d's attack:45 is greate than 38.333333333333336'\n",
      "b's attack:56 is greate than 38.333333333333336'\n",
      "c's attack:77 is greate than 38.333333333333336'\n",
      "d's attack:45 is greate than 38.333333333333336'\n",
      "b's attack:56 is greate than 38.333333333333336'\n",
      "c's attack:77 is greate than 38.333333333333336'\n",
      "d's attack:45 is greate than 38.333333333333336'\n",
      "b's attack:56 is greate than 38.333333333333336'\n",
      "c's attack:77 is greate than 38.333333333333336'\n",
      "d's attack:45 is greate than 38.333333333333336'\n",
      "The slowest run took 5.86 times longer than the fastest. This could mean that an intermediate result is being cached.\n",
      "91.5 µs ± 70.8 µs per loop (mean ± std. dev. of 3 runs, 3 loops each)\n"
     ]
    }
   ],
   "source": [
    "%%timeit -r3 -n3\n",
    "names = ['a','b','c','d','e']\n",
    "attacks = np.array([10,56,77,45,6,36])\n",
    "\n",
    "total_attack_avg = attacks.mean()\n",
    "\n",
    "for pokemon,attack in zip(names,attacks):\n",
    "    if attack > total_attack_avg:\n",
    "        print(\n",
    "            \"{}'s attack:{} is greate than {}'\"\n",
    "            .format(pokemon,attack,total_attack_avg)\n",
    "        )"
   ]
  }
 ],
 "metadata": {
  "kernelspec": {
   "display_name": "Python 3 (ipykernel)",
   "language": "python",
   "name": "python3"
  },
  "language_info": {
   "codemirror_mode": {
    "name": "ipython",
    "version": 3
   },
   "file_extension": ".py",
   "mimetype": "text/x-python",
   "name": "python",
   "nbconvert_exporter": "python",
   "pygments_lexer": "ipython3",
   "version": "3.8.8"
  }
 },
 "nbformat": 4,
 "nbformat_minor": 5
}
