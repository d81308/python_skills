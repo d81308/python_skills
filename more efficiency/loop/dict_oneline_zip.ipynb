{
 "cells": [
  {
   "cell_type": "markdown",
   "id": "7f464e28",
   "metadata": {},
   "source": [
    "# objectives\n",
    "how to use for loop to given key,value into dict\n",
    "> key in list and value in list"
   ]
  },
  {
   "cell_type": "markdown",
   "id": "68a71994",
   "metadata": {},
   "source": [
    "# zip process"
   ]
  },
  {
   "cell_type": "code",
   "execution_count": 1,
   "id": "ba05ef1e",
   "metadata": {},
   "outputs": [],
   "source": [
    "list_a = ['a','b','c']\n",
    "list_b = ['A','B','C']"
   ]
  },
  {
   "cell_type": "code",
   "execution_count": 52,
   "id": "9feefe4b",
   "metadata": {},
   "outputs": [],
   "source": [
    "zip_a_b = zip(list_a,list_b)"
   ]
  },
  {
   "cell_type": "code",
   "execution_count": 53,
   "id": "a4272f8e",
   "metadata": {},
   "outputs": [],
   "source": [
    "a,b = zip(*zip_a_b)"
   ]
  },
  {
   "cell_type": "markdown",
   "id": "6e4ed271",
   "metadata": {},
   "source": [
    "# dict process"
   ]
  },
  {
   "cell_type": "code",
   "execution_count": 49,
   "id": "4fe7bd67",
   "metadata": {},
   "outputs": [],
   "source": [
    "merge_dict = {}"
   ]
  },
  {
   "cell_type": "code",
   "execution_count": 56,
   "id": "2d2535c7",
   "metadata": {},
   "outputs": [],
   "source": [
    "for a,b in zip(list_a,list_b):\n",
    "    merge_dict[a]=b"
   ]
  },
  {
   "cell_type": "code",
   "execution_count": 57,
   "id": "d7a29288",
   "metadata": {},
   "outputs": [
    {
     "data": {
      "text/plain": [
       "{'a': 'A', 'b': 'B', 'c': 'C'}"
      ]
     },
     "execution_count": 57,
     "metadata": {},
     "output_type": "execute_result"
    }
   ],
   "source": [
    "merge_dict"
   ]
  },
  {
   "cell_type": "markdown",
   "id": "49689d6f",
   "metadata": {},
   "source": [
    "one line"
   ]
  },
  {
   "cell_type": "code",
   "execution_count": 70,
   "id": "9e8759ec",
   "metadata": {},
   "outputs": [],
   "source": [
    "merge_one_line = {word_a:word_b for word_a in list_a for word_b in list_b}"
   ]
  },
  {
   "cell_type": "code",
   "execution_count": 71,
   "id": "8c0731ef",
   "metadata": {},
   "outputs": [
    {
     "data": {
      "text/plain": [
       "{'a': 'C', 'b': 'C', 'c': 'C'}"
      ]
     },
     "execution_count": 71,
     "metadata": {},
     "output_type": "execute_result"
    }
   ],
   "source": [
    "merge_one_line"
   ]
  },
  {
   "cell_type": "markdown",
   "id": "57ff6e11",
   "metadata": {},
   "source": [
    "one line dict by zip magic"
   ]
  },
  {
   "cell_type": "code",
   "execution_count": 73,
   "id": "db4b8ecd",
   "metadata": {},
   "outputs": [],
   "source": [
    "merge_one_zip = {a:b for a,b in zip(list_a,list_b)}"
   ]
  },
  {
   "cell_type": "code",
   "execution_count": 74,
   "id": "b9f501f1",
   "metadata": {},
   "outputs": [
    {
     "data": {
      "text/plain": [
       "{'a': 'A', 'b': 'B', 'c': 'C'}"
      ]
     },
     "execution_count": 74,
     "metadata": {},
     "output_type": "execute_result"
    }
   ],
   "source": [
    "merge_one_zip"
   ]
  },
  {
   "cell_type": "code",
   "execution_count": null,
   "id": "75e3bb24",
   "metadata": {},
   "outputs": [],
   "source": []
  }
 ],
 "metadata": {
  "kernelspec": {
   "display_name": "Python 3 (ipykernel)",
   "language": "python",
   "name": "python3"
  },
  "language_info": {
   "codemirror_mode": {
    "name": "ipython",
    "version": 3
   },
   "file_extension": ".py",
   "mimetype": "text/x-python",
   "name": "python",
   "nbconvert_exporter": "python",
   "pygments_lexer": "ipython3",
   "version": "3.8.8"
  }
 },
 "nbformat": 4,
 "nbformat_minor": 5
}
