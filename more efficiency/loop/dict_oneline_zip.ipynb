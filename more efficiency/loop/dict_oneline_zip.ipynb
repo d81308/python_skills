{
 "cells": [
  {
   "cell_type": "markdown",
   "id": "e8443f11",
   "metadata": {},
   "source": [
    "# objectives\n",
    "how to use for loop to given key,value into dict\n",
    "> key in list and value in list"
   ]
  },
  {
   "cell_type": "markdown",
   "id": "6b05d362",
   "metadata": {},
   "source": [
    "# zip process"
   ]
  },
  {
   "cell_type": "code",
   "execution_count": 1,
   "id": "e7dd5328",
   "metadata": {},
   "outputs": [],
   "source": [
    "list_a = ['a','b','c']\n",
    "list_b = ['A','B','C']"
   ]
  },
  {
   "cell_type": "code",
   "execution_count": 52,
   "id": "263b6e6b",
   "metadata": {},
   "outputs": [],
   "source": [
    "zip_a_b = zip(list_a,list_b)"
   ]
  },
  {
   "cell_type": "code",
   "execution_count": 53,
   "id": "84c8d5c3",
   "metadata": {},
   "outputs": [],
   "source": [
    "a,b = zip(*zip_a_b)"
   ]
  },
  {
   "cell_type": "markdown",
   "id": "516afc42",
   "metadata": {},
   "source": [
    "# dict process"
   ]
  },
  {
   "cell_type": "code",
   "execution_count": 49,
   "id": "c9c307f0",
   "metadata": {},
   "outputs": [],
   "source": [
    "merge_dict = {}"
   ]
  },
  {
   "cell_type": "code",
   "execution_count": 56,
   "id": "0297eb33",
   "metadata": {},
   "outputs": [],
   "source": [
    "for a,b in zip(list_a,list_b):\n",
    "    merge_dict[a]=b"
   ]
  },
  {
   "cell_type": "code",
   "execution_count": 57,
   "id": "20dfb948",
   "metadata": {},
   "outputs": [
    {
     "data": {
      "text/plain": [
       "{'a': 'A', 'b': 'B', 'c': 'C'}"
      ]
     },
     "execution_count": 57,
     "metadata": {},
     "output_type": "execute_result"
    }
   ],
   "source": [
    "merge_dict"
   ]
  },
  {
   "cell_type": "markdown",
   "id": "2f4317c1",
   "metadata": {},
   "source": [
    "one line\n",
    "> only for loop cant one-by-one keyin"
   ]
  },
  {
   "cell_type": "code",
   "execution_count": 70,
   "id": "2d75fc5c",
   "metadata": {},
   "outputs": [],
   "source": [
    "merge_one_line = {word_a:word_b for word_a in list_a for word_b in list_b}"
   ]
  },
  {
   "cell_type": "code",
   "execution_count": 71,
   "id": "c670dd13",
   "metadata": {},
   "outputs": [
    {
     "data": {
      "text/plain": [
       "{'a': 'C', 'b': 'C', 'c': 'C'}"
      ]
     },
     "execution_count": 71,
     "metadata": {},
     "output_type": "execute_result"
    }
   ],
   "source": [
    "merge_one_line"
   ]
  },
  {
   "cell_type": "markdown",
   "id": "da07663d",
   "metadata": {},
   "source": [
    "one line dict by zip magic"
   ]
  },
  {
   "cell_type": "code",
   "execution_count": 73,
   "id": "585e6014",
   "metadata": {},
   "outputs": [],
   "source": [
    "merge_one_zip = {a:b for a,b in zip(list_a,list_b)}"
   ]
  },
  {
   "cell_type": "code",
   "execution_count": 74,
   "id": "69c9e9d6",
   "metadata": {},
   "outputs": [
    {
     "data": {
      "text/plain": [
       "{'a': 'A', 'b': 'B', 'c': 'C'}"
      ]
     },
     "execution_count": 74,
     "metadata": {},
     "output_type": "execute_result"
    }
   ],
   "source": [
    "merge_one_zip"
   ]
  },
  {
   "cell_type": "markdown",
   "id": "2c2f0170",
   "metadata": {},
   "source": [
    "# advanced one line\n",
    "direct by dict()"
   ]
  },
  {
   "cell_type": "code",
   "execution_count": 75,
   "id": "19acc3a9",
   "metadata": {},
   "outputs": [],
   "source": [
    "list_a = ['a','b','c']\n",
    "list_b = ['A','B','C']\n",
    "zip_a_b = zip(list_a,list_b)"
   ]
  },
  {
   "cell_type": "code",
   "execution_count": 77,
   "id": "edbee267",
   "metadata": {},
   "outputs": [
    {
     "data": {
      "text/plain": [
       "{'a': 'A', 'b': 'B', 'c': 'C'}"
      ]
     },
     "execution_count": 77,
     "metadata": {},
     "output_type": "execute_result"
    }
   ],
   "source": [
    "dict_by_zip = dict(zip_a_b)\n",
    "dict_by_zip"
   ]
  },
  {
   "cell_type": "code",
   "execution_count": null,
   "id": "9475b43d",
   "metadata": {},
   "outputs": [],
   "source": []
  }
 ],
 "metadata": {
  "kernelspec": {
   "display_name": "Python 3 (ipykernel)",
   "language": "python",
   "name": "python3"
  },
  "language_info": {
   "codemirror_mode": {
    "name": "ipython",
    "version": 3
   },
   "file_extension": ".py",
   "mimetype": "text/x-python",
   "name": "python",
   "nbconvert_exporter": "python",
   "pygments_lexer": "ipython3",
   "version": "3.8.8"
  }
 },
 "nbformat": 4,
 "nbformat_minor": 5
}
