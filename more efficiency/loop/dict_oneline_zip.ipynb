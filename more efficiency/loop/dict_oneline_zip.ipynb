{
 "cells": [
  {
   "cell_type": "markdown",
   "id": "336c3cc6",
   "metadata": {},
   "source": [
    "# zip process"
   ]
  },
  {
   "cell_type": "code",
   "execution_count": 1,
   "id": "9f57d2f2",
   "metadata": {},
   "outputs": [],
   "source": [
    "list_a = ['a','b','c']\n",
    "list_b = ['A','B','C']"
   ]
  },
  {
   "cell_type": "code",
   "execution_count": 52,
   "id": "d28adc96",
   "metadata": {},
   "outputs": [],
   "source": [
    "zip_a_b = zip(list_a,list_b)"
   ]
  },
  {
   "cell_type": "code",
   "execution_count": 53,
   "id": "e4b4cd01",
   "metadata": {},
   "outputs": [],
   "source": [
    "a,b = zip(*zip_a_b)"
   ]
  },
  {
   "cell_type": "markdown",
   "id": "5236ac42",
   "metadata": {},
   "source": [
    "# dict process"
   ]
  },
  {
   "cell_type": "code",
   "execution_count": 49,
   "id": "457bec2a",
   "metadata": {},
   "outputs": [],
   "source": [
    "merge_dict = {}"
   ]
  },
  {
   "cell_type": "code",
   "execution_count": 56,
   "id": "6c37012c",
   "metadata": {},
   "outputs": [],
   "source": [
    "for a,b in zip(list_a,list_b):\n",
    "    merge_dict[a]=b"
   ]
  },
  {
   "cell_type": "code",
   "execution_count": 57,
   "id": "eb8992bd",
   "metadata": {},
   "outputs": [
    {
     "data": {
      "text/plain": [
       "{'a': 'A', 'b': 'B', 'c': 'C'}"
      ]
     },
     "execution_count": 57,
     "metadata": {},
     "output_type": "execute_result"
    }
   ],
   "source": [
    "merge_dict"
   ]
  },
  {
   "cell_type": "markdown",
   "id": "1f1de056",
   "metadata": {},
   "source": [
    "one line"
   ]
  },
  {
   "cell_type": "code",
   "execution_count": 70,
   "id": "9cd634e3",
   "metadata": {},
   "outputs": [],
   "source": [
    "merge_one_line = {word_a:word_b for word_a in list_a for word_b in list_b}"
   ]
  },
  {
   "cell_type": "code",
   "execution_count": 71,
   "id": "864ad700",
   "metadata": {},
   "outputs": [
    {
     "data": {
      "text/plain": [
       "{'a': 'C', 'b': 'C', 'c': 'C'}"
      ]
     },
     "execution_count": 71,
     "metadata": {},
     "output_type": "execute_result"
    }
   ],
   "source": [
    "merge_one_line"
   ]
  },
  {
   "cell_type": "markdown",
   "id": "ac55af6c",
   "metadata": {},
   "source": [
    "one line dict by zip magic"
   ]
  },
  {
   "cell_type": "code",
   "execution_count": 73,
   "id": "e1762893",
   "metadata": {},
   "outputs": [],
   "source": [
    "merge_one_zip = {a:b for a,b in zip(list_a,list_b)}"
   ]
  },
  {
   "cell_type": "code",
   "execution_count": 74,
   "id": "9c27bf4a",
   "metadata": {},
   "outputs": [
    {
     "data": {
      "text/plain": [
       "{'a': 'A', 'b': 'B', 'c': 'C'}"
      ]
     },
     "execution_count": 74,
     "metadata": {},
     "output_type": "execute_result"
    }
   ],
   "source": [
    "merge_one_zip"
   ]
  },
  {
   "cell_type": "code",
   "execution_count": null,
   "id": "47fba632",
   "metadata": {},
   "outputs": [],
   "source": []
  }
 ],
 "metadata": {
  "kernelspec": {
   "display_name": "Python 3 (ipykernel)",
   "language": "python",
   "name": "python3"
  },
  "language_info": {
   "codemirror_mode": {
    "name": "ipython",
    "version": 3
   },
   "file_extension": ".py",
   "mimetype": "text/x-python",
   "name": "python",
   "nbconvert_exporter": "python",
   "pygments_lexer": "ipython3",
   "version": "3.8.8"
  }
 },
 "nbformat": 4,
 "nbformat_minor": 5
}
