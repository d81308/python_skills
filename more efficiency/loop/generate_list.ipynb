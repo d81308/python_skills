{
 "cells": [
  {
   "cell_type": "markdown",
   "id": "d3ca6d8b",
   "metadata": {},
   "source": [
    "# why generate\n",
    "> if for loop in very big times, list must down\n",
    "\n",
    "> but even that big times, generate can do"
    "\n",
    "> when loading, import very big data file, methods: chunk, generate
   ]
  },
  {
   "cell_type": "markdown",
   "id": "dabe6822",
   "metadata": {},
   "source": [
    "    [num for num in range(10**10000)]\n",
    "    must be down"
   ]
  },
  {
   "cell_type": "markdown",
   "id": "48f2af91",
   "metadata": {},
   "source": [
    "let's try generate expression"
   ]
  },
  {
   "cell_type": "code",
   "execution_count": 2,
   "id": "94857d69",
   "metadata": {},
   "outputs": [
    {
     "data": {
      "text/plain": [
       "<generator object <genexpr> at 0x7fc7f0d6f580>"
      ]
     },
     "execution_count": 2,
     "metadata": {},
     "output_type": "execute_result"
    }
   ],
   "source": [
    "(num for num in range(10**10000))"
   ]
  },
  {
   "cell_type": "markdown",
   "id": "6fe1cac6",
   "metadata": {},
   "source": [
    "# what is generate look like"
   ]
  },
  {
   "cell_type": "code",
   "execution_count": 4,
   "id": "96f42ac3",
   "metadata": {},
   "outputs": [
    {
     "name": "stdout",
     "output_type": "stream",
     "text": [
      "<generator object <genexpr> at 0x7fc7f0d6f9e0>\n",
      "[0, 1, 2, 3, 4, 5, 6, 7, 8, 9]\n"
     ]
    }
   ],
   "source": [
    "nums_gen = (num for num in range(10))\n",
    "print(nums_gen)\n",
    "print(list(nums_gen))"
   ]
  },
  {
   "cell_type": "markdown",
   "id": "db90737c",
   "metadata": {},
   "source": [
    "# value in n, using generate"
   ]
  },
  {
   "cell_type": "markdown",
   "id": "fc13312b",
   "metadata": {},
   "source": [
    "yield method, append value"
   ]
  },
  {
   "cell_type": "code",
   "execution_count": 5,
   "id": "489a8f70",
   "metadata": {},
   "outputs": [],
   "source": [
    "def num_squence(n):\n",
    "    i=0\n",
    "    while i<n:\n",
    "        yield i\n",
    "        i += 1"
   ]
  },
  {
   "cell_type": "code",
   "execution_count": 12,
   "id": "ee697a2b",
   "metadata": {},
   "outputs": [
    {
     "name": "stdout",
     "output_type": "stream",
     "text": [
      "<generator object num_squence at 0x7fc7f11575f0>\n",
      "[0, 1]\n"
     ]
    }
   ],
   "source": [
    "test1 = num_squence(2)\n",
    "print(test1)\n",
    "print(list(test1))"
   ]
  },
  {
   "cell_type": "code",
   "execution_count": null,
   "id": "4b7717fc",
   "metadata": {},
   "outputs": [],
   "source": []
  }
 ],
 "metadata": {
  "kernelspec": {
   "display_name": "Python 3 (ipykernel)",
   "language": "python",
   "name": "python3"
  },
  "language_info": {
   "codemirror_mode": {
    "name": "ipython",
    "version": 3
   },
   "file_extension": ".py",
   "mimetype": "text/x-python",
   "name": "python",
   "nbconvert_exporter": "python",
   "pygments_lexer": "ipython3",
   "version": "3.8.8"
  }
 },
 "nbformat": 4,
 "nbformat_minor": 5
}
