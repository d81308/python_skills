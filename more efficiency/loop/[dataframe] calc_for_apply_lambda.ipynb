{
 "cells": [
  {
   "cell_type": "code",
   "execution_count": 1,
   "id": "5fe953aa",
   "metadata": {},
   "outputs": [],
   "source": [
    "import random, string\n",
    "import pandas as pd\n",
    "from random import randint as rnd\n",
    "\n",
    "def strings_creator(len):\n",
    "    '''this function can give you len random strings'''\n",
    "    return ''.join(random.choice(string.ascii_letters) for i in range(len))\n",
    "def random_strings_list(string_length,list_length):\n",
    "    '''this function need combine strings_creator to make long list'''\n",
    "    return [strings_creator(string_length) for i in range(list_length)]\n",
    "\n",
    "team = []\n",
    "league = []\n",
    "year = []\n",
    "RS = []\n",
    "RA = []\n",
    "W_index = []\n",
    "G_index = []\n",
    "Playoffs = []\n",
    "for data in range(1000):\n",
    "    team.append(strings_creator(3))\n",
    "    league.append(['AL','NL'][rnd(0,1)])\n",
    "    year.append(rnd(1962,2013))\n",
    "    RS.append(rnd(600,800))\n",
    "    RA.append(rnd(600,800))\n",
    "    W_index.append(rnd(50,99))\n",
    "    G_index.append(162)\n",
    "    Playoffs.append([0,1][rnd(0,1)])\n",
    "    \n",
    "df_zip = pd.DataFrame()\n",
    "zip_data = zip(team,league,year,RS,RA,W_index,G_index,Playoffs)\n",
    "list_data = list(zip_data)\n",
    "df_zip = pd.DataFrame(list_data,columns=['team','league','year','RS','RA','W','G','Playoffs'])"
   ]
  },
  {
   "cell_type": "markdown",
   "id": "c399c30b",
   "metadata": {},
   "source": [
    "# Objectives"
   ]
  },
  {
   "cell_type": "markdown",
   "id": "a8a218e8",
   "metadata": {},
   "source": [
    "    add new column by\n",
    "    calulate using function\n",
    "    \n",
    "    for loop method:\n",
    "        read each row, than using function\n",
    "        append into new list\n",
    "        add new column in dataframe"
   ]
  },
  {
   "cell_type": "code",
   "execution_count": 2,
   "id": "4b4e0bab",
   "metadata": {},
   "outputs": [],
   "source": [
    "def calc_diff(a, b):\n",
    "    diff = a - b\n",
    "    return diff"
   ]
  },
  {
   "cell_type": "markdown",
   "id": "b3856ef3",
   "metadata": {},
   "source": [
    "## for loop method"
   ]
  },
  {
   "cell_type": "code",
   "execution_count": 4,
   "id": "864b374f",
   "metadata": {},
   "outputs": [
    {
     "data": {
      "text/html": [
       "<div>\n",
       "<style scoped>\n",
       "    .dataframe tbody tr th:only-of-type {\n",
       "        vertical-align: middle;\n",
       "    }\n",
       "\n",
       "    .dataframe tbody tr th {\n",
       "        vertical-align: top;\n",
       "    }\n",
       "\n",
       "    .dataframe thead th {\n",
       "        text-align: right;\n",
       "    }\n",
       "</style>\n",
       "<table border=\"1\" class=\"dataframe\">\n",
       "  <thead>\n",
       "    <tr style=\"text-align: right;\">\n",
       "      <th></th>\n",
       "      <th>team</th>\n",
       "      <th>league</th>\n",
       "      <th>year</th>\n",
       "      <th>RS</th>\n",
       "      <th>RA</th>\n",
       "      <th>W</th>\n",
       "      <th>G</th>\n",
       "      <th>Playoffs</th>\n",
       "      <th>diff_RS_RA</th>\n",
       "    </tr>\n",
       "  </thead>\n",
       "  <tbody>\n",
       "    <tr>\n",
       "      <th>0</th>\n",
       "      <td>MeS</td>\n",
       "      <td>NL</td>\n",
       "      <td>1962</td>\n",
       "      <td>683</td>\n",
       "      <td>683</td>\n",
       "      <td>72</td>\n",
       "      <td>162</td>\n",
       "      <td>0</td>\n",
       "      <td>0</td>\n",
       "    </tr>\n",
       "    <tr>\n",
       "      <th>1</th>\n",
       "      <td>cIg</td>\n",
       "      <td>NL</td>\n",
       "      <td>1986</td>\n",
       "      <td>600</td>\n",
       "      <td>707</td>\n",
       "      <td>95</td>\n",
       "      <td>162</td>\n",
       "      <td>1</td>\n",
       "      <td>-107</td>\n",
       "    </tr>\n",
       "    <tr>\n",
       "      <th>2</th>\n",
       "      <td>uln</td>\n",
       "      <td>AL</td>\n",
       "      <td>2009</td>\n",
       "      <td>782</td>\n",
       "      <td>786</td>\n",
       "      <td>66</td>\n",
       "      <td>162</td>\n",
       "      <td>0</td>\n",
       "      <td>-4</td>\n",
       "    </tr>\n",
       "    <tr>\n",
       "      <th>3</th>\n",
       "      <td>htc</td>\n",
       "      <td>AL</td>\n",
       "      <td>1990</td>\n",
       "      <td>620</td>\n",
       "      <td>627</td>\n",
       "      <td>90</td>\n",
       "      <td>162</td>\n",
       "      <td>1</td>\n",
       "      <td>-7</td>\n",
       "    </tr>\n",
       "    <tr>\n",
       "      <th>4</th>\n",
       "      <td>ojM</td>\n",
       "      <td>AL</td>\n",
       "      <td>1999</td>\n",
       "      <td>623</td>\n",
       "      <td>794</td>\n",
       "      <td>73</td>\n",
       "      <td>162</td>\n",
       "      <td>0</td>\n",
       "      <td>-171</td>\n",
       "    </tr>\n",
       "  </tbody>\n",
       "</table>\n",
       "</div>"
      ],
      "text/plain": [
       "  team league  year   RS   RA   W    G  Playoffs  diff_RS_RA\n",
       "0  MeS     NL  1962  683  683  72  162         0           0\n",
       "1  cIg     NL  1986  600  707  95  162         1        -107\n",
       "2  uln     AL  2009  782  786  66  162         0          -4\n",
       "3  htc     AL  1990  620  627  90  162         1          -7\n",
       "4  ojM     AL  1999  623  794  73  162         0        -171"
      ]
     },
     "execution_count": 4,
     "metadata": {},
     "output_type": "execute_result"
    }
   ],
   "source": [
    "diff_temp=[]\n",
    "\n",
    "for row in df_zip.itertuples():\n",
    "    run_score = row.RS\n",
    "    run_allowed = row.RA\n",
    "    run_diff = calc_diff(run_score, run_allowed)\n",
    "    diff_temp.append(run_diff)\n",
    "\n",
    "df_zip['diff_RS_RA']=diff_temp\n",
    "df_zip.head()"
   ]
  },
  {
   "cell_type": "markdown",
   "id": "652b6b0d",
   "metadata": {},
   "source": [
    "## apply method"
   ]
  },
  {
   "cell_type": "markdown",
   "id": "1817cce5",
   "metadata": {},
   "source": [
    "#### axis"
   ]
  },
  {
   "cell_type": "markdown",
   "id": "ff4863af",
   "metadata": {},
   "source": [
    "axis=0, horizontal"
   ]
  },
  {
   "cell_type": "code",
   "execution_count": 7,
   "id": "64a7dccd",
   "metadata": {},
   "outputs": [
    {
     "data": {
      "text/plain": [
       "team          1\n",
       "league        1\n",
       "year          1\n",
       "RS            1\n",
       "RA            1\n",
       "W             1\n",
       "G             1\n",
       "Playoffs      1\n",
       "diff_RS_RA    1\n",
       "dtype: int64"
      ]
     },
     "execution_count": 7,
     "metadata": {},
     "output_type": "execute_result"
    }
   ],
   "source": [
    "df_zip.apply(\n",
    "    lambda row:1,\n",
    "    axis=0\n",
    ")"
   ]
  },
  {
   "cell_type": "markdown",
   "id": "c2d07f23",
   "metadata": {},
   "source": [
    "axis=1, vertical"
   ]
  },
  {
   "cell_type": "code",
   "execution_count": 9,
   "id": "247d11ec",
   "metadata": {},
   "outputs": [
    {
     "data": {
      "text/plain": [
       "0      1\n",
       "1      1\n",
       "2      1\n",
       "3      1\n",
       "4      1\n",
       "      ..\n",
       "995    1\n",
       "996    1\n",
       "997    1\n",
       "998    1\n",
       "999    1\n",
       "Length: 1000, dtype: int64"
      ]
     },
     "execution_count": 9,
     "metadata": {},
     "output_type": "execute_result"
    }
   ],
   "source": [
    "df_zip.apply(\n",
    "    lambda row:1,\n",
    "    axis=1\n",
    ")"
   ]
  },
  {
   "cell_type": "markdown",
   "id": "0c0d2714",
   "metadata": {},
   "source": [
    "#### add lambda calculate"
   ]
  },
  {
   "cell_type": "code",
   "execution_count": 12,
   "id": "72c95d63",
   "metadata": {},
   "outputs": [
    {
     "data": {
      "text/plain": [
       "0        0\n",
       "1     -107\n",
       "2       -4\n",
       "3       -7\n",
       "4     -171\n",
       "      ... \n",
       "995     14\n",
       "996    -68\n",
       "997     36\n",
       "998     88\n",
       "999     72\n",
       "Length: 1000, dtype: int64"
      ]
     },
     "execution_count": 12,
     "metadata": {},
     "output_type": "execute_result"
    }
   ],
   "source": [
    "df_zip.apply(\n",
    "    lambda row: calc_diff(row.RS,row.RA),\n",
    "    axis=1\n",
    ")"
   ]
  },
  {
   "cell_type": "markdown",
   "id": "75d910c3",
   "metadata": {},
   "source": [
    "#### put into dataframe"
   ]
  },
  {
   "cell_type": "code",
   "execution_count": 14,
   "id": "1cd70b0d",
   "metadata": {},
   "outputs": [
    {
     "data": {
      "text/html": [
       "<div>\n",
       "<style scoped>\n",
       "    .dataframe tbody tr th:only-of-type {\n",
       "        vertical-align: middle;\n",
       "    }\n",
       "\n",
       "    .dataframe tbody tr th {\n",
       "        vertical-align: top;\n",
       "    }\n",
       "\n",
       "    .dataframe thead th {\n",
       "        text-align: right;\n",
       "    }\n",
       "</style>\n",
       "<table border=\"1\" class=\"dataframe\">\n",
       "  <thead>\n",
       "    <tr style=\"text-align: right;\">\n",
       "      <th></th>\n",
       "      <th>team</th>\n",
       "      <th>league</th>\n",
       "      <th>year</th>\n",
       "      <th>RS</th>\n",
       "      <th>RA</th>\n",
       "      <th>W</th>\n",
       "      <th>G</th>\n",
       "      <th>Playoffs</th>\n",
       "      <th>diff_RS_RA</th>\n",
       "      <th>apply_result</th>\n",
       "    </tr>\n",
       "  </thead>\n",
       "  <tbody>\n",
       "    <tr>\n",
       "      <th>0</th>\n",
       "      <td>MeS</td>\n",
       "      <td>NL</td>\n",
       "      <td>1962</td>\n",
       "      <td>683</td>\n",
       "      <td>683</td>\n",
       "      <td>72</td>\n",
       "      <td>162</td>\n",
       "      <td>0</td>\n",
       "      <td>0</td>\n",
       "      <td>0</td>\n",
       "    </tr>\n",
       "    <tr>\n",
       "      <th>1</th>\n",
       "      <td>cIg</td>\n",
       "      <td>NL</td>\n",
       "      <td>1986</td>\n",
       "      <td>600</td>\n",
       "      <td>707</td>\n",
       "      <td>95</td>\n",
       "      <td>162</td>\n",
       "      <td>1</td>\n",
       "      <td>-107</td>\n",
       "      <td>-107</td>\n",
       "    </tr>\n",
       "    <tr>\n",
       "      <th>2</th>\n",
       "      <td>uln</td>\n",
       "      <td>AL</td>\n",
       "      <td>2009</td>\n",
       "      <td>782</td>\n",
       "      <td>786</td>\n",
       "      <td>66</td>\n",
       "      <td>162</td>\n",
       "      <td>0</td>\n",
       "      <td>-4</td>\n",
       "      <td>-4</td>\n",
       "    </tr>\n",
       "    <tr>\n",
       "      <th>3</th>\n",
       "      <td>htc</td>\n",
       "      <td>AL</td>\n",
       "      <td>1990</td>\n",
       "      <td>620</td>\n",
       "      <td>627</td>\n",
       "      <td>90</td>\n",
       "      <td>162</td>\n",
       "      <td>1</td>\n",
       "      <td>-7</td>\n",
       "      <td>-7</td>\n",
       "    </tr>\n",
       "    <tr>\n",
       "      <th>4</th>\n",
       "      <td>ojM</td>\n",
       "      <td>AL</td>\n",
       "      <td>1999</td>\n",
       "      <td>623</td>\n",
       "      <td>794</td>\n",
       "      <td>73</td>\n",
       "      <td>162</td>\n",
       "      <td>0</td>\n",
       "      <td>-171</td>\n",
       "      <td>-171</td>\n",
       "    </tr>\n",
       "  </tbody>\n",
       "</table>\n",
       "</div>"
      ],
      "text/plain": [
       "  team league  year   RS   RA   W    G  Playoffs  diff_RS_RA  apply_result\n",
       "0  MeS     NL  1962  683  683  72  162         0           0             0\n",
       "1  cIg     NL  1986  600  707  95  162         1        -107          -107\n",
       "2  uln     AL  2009  782  786  66  162         0          -4            -4\n",
       "3  htc     AL  1990  620  627  90  162         1          -7            -7\n",
       "4  ojM     AL  1999  623  794  73  162         0        -171          -171"
      ]
     },
     "execution_count": 14,
     "metadata": {},
     "output_type": "execute_result"
    }
   ],
   "source": [
    "apply_result = df_zip.apply(\n",
    "    lambda row: calc_diff(row.RS,row.RA),\n",
    "    axis=1\n",
    ")\n",
    "df_zip['apply_result']=apply_result\n",
    "df_zip.head()"
   ]
  },
  {
   "cell_type": "code",
   "execution_count": null,
   "id": "e93cbbfc",
   "metadata": {},
   "outputs": [],
   "source": []
  }
 ],
 "metadata": {
  "kernelspec": {
   "display_name": "Python 3 (ipykernel)",
   "language": "python",
   "name": "python3"
  },
  "language_info": {
   "codemirror_mode": {
    "name": "ipython",
    "version": 3
   },
   "file_extension": ".py",
   "mimetype": "text/x-python",
   "name": "python",
   "nbconvert_exporter": "python",
   "pygments_lexer": "ipython3",
   "version": "3.8.8"
  }
 },
 "nbformat": 4,
 "nbformat_minor": 5
}
