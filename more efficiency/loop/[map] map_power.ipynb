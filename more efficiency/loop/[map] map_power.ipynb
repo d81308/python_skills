{
 "cells": [
  {
   "cell_type": "code",
   "execution_count": 13,
   "id": "cb1a217f",
   "metadata": {},
   "outputs": [],
   "source": [
    "from random import randint as rnd\n",
    "import random, string"
   ]
  },
  {
   "cell_type": "code",
   "execution_count": 14,
   "id": "31706c2a",
   "metadata": {},
   "outputs": [],
   "source": [
    "def strings_creator(num):\n",
    "    return ''.join(random.choice(string.ascii_letters) for x in range(num))"
   ]
  },
  {
   "cell_type": "code",
   "execution_count": 24,
   "id": "2e8d40e5",
   "metadata": {},
   "outputs": [],
   "source": [
    "names = []\n",
    "names_list = [strings_creator(6) for name in range(1000)]\n",
    "legend_status = []\n",
    "for status in range(1000):\n",
    "    legend_status.append(rnd(0,1))\n",
    "generations = []\n",
    "for gen in range(1000):\n",
    "    generations.append(rnd(0,3))"
   ]
  },
  {
   "cell_type": "markdown",
   "id": "9668cdd1",
   "metadata": {},
   "source": [
    "#### common for loop"
   ]
  },
  {
   "cell_type": "code",
   "execution_count": 27,
   "id": "e9e2ac6d",
   "metadata": {},
   "outputs": [
    {
     "name": "stdout",
     "output_type": "stream",
     "text": [
      "242 µs ± 12.7 µs per loop (mean ± std. dev. of 3 runs, 3 loops each)\n"
     ]
    }
   ],
   "source": [
    "%%timeit -r3 -n3\n",
    "poke_data = []\n",
    "for poke in zip(names_list,legend_status,generations):\n",
    "    poke_list = list(poke)\n",
    "    poke_data.append(poke_list)\n",
    "poke_data"
   ]
  },
  {
   "cell_type": "code",
   "execution_count": 33,
   "id": "b2a7de8b",
   "metadata": {},
   "outputs": [
    {
     "name": "stdout",
     "output_type": "stream",
     "text": [
      "235 µs ± 26.8 µs per loop (mean ± std. dev. of 3 runs, 3 loops each)\n"
     ]
    }
   ],
   "source": [
    "%%timeit -r3 -n3\n",
    "poke_data_tuple = []\n",
    "for poke_tuple in zip(names_list,legend_status,generations):\n",
    "    poke_data_tuple.append(poke_tuple)\n",
    "poke_data = [*map(list,poke_data_tuple)]\n",
    "poke_data"
   ]
  },
  {
   "cell_type": "code",
   "execution_count": null,
   "id": "4a914537",
   "metadata": {},
   "outputs": [],
   "source": []
  }
 ],
 "metadata": {
  "kernelspec": {
   "display_name": "Python 3 (ipykernel)",
   "language": "python",
   "name": "python3"
  },
  "language_info": {
   "codemirror_mode": {
    "name": "ipython",
    "version": 3
   },
   "file_extension": ".py",
   "mimetype": "text/x-python",
   "name": "python",
   "nbconvert_exporter": "python",
   "pygments_lexer": "ipython3",
   "version": "3.8.8"
  }
 },
 "nbformat": 4,
 "nbformat_minor": 5
}
