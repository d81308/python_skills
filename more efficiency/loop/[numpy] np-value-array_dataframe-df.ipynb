{
 "cells": [
  {
   "cell_type": "code",
   "execution_count": 2,
   "id": "6c541dc0",
   "metadata": {},
   "outputs": [],
   "source": [
    "import random, string\n",
    "import pandas as pd\n",
    "import numpy as np\n",
    "from random import randint as rnd\n",
    "\n",
    "def strings_creator(len):\n",
    "    '''this function can give you len random strings'''\n",
    "    return ''.join(random.choice(string.ascii_letters) for i in range(len))\n",
    "def random_strings_list(string_length,list_length):\n",
    "    '''this function need combine strings_creator to make long list'''\n",
    "    return [strings_creator(string_length) for i in range(list_length)]\n",
    "\n",
    "team = []\n",
    "league = []\n",
    "year = []\n",
    "RS = []\n",
    "RA = []\n",
    "W_index = []\n",
    "G_index = []\n",
    "Playoffs = []\n",
    "for data in range(1000):\n",
    "    team.append(strings_creator(3))\n",
    "    league.append(['AL','NL'][rnd(0,1)])\n",
    "    year.append(rnd(1962,2013))\n",
    "    RS.append(rnd(600,800))\n",
    "    RA.append(rnd(600,800))\n",
    "    W_index.append(rnd(50,99))\n",
    "    G_index.append(162)\n",
    "    Playoffs.append([0,1][rnd(0,1)])\n",
    "    \n",
    "df_zip = pd.DataFrame()\n",
    "zip_data = zip(team,league,year,RS,RA,W_index,G_index,Playoffs)\n",
    "list_data = list(zip_data)\n",
    "df_zip = pd.DataFrame(list_data,columns=['team','league','year','RS','RA','W','G','Playoffs'])"
   ]
  },
  {
   "cell_type": "markdown",
   "id": "d510ede8",
   "metadata": {},
   "source": [
    "# dataframe-itertuple method"
   ]
  },
  {
   "cell_type": "code",
   "execution_count": 12,
   "id": "363d72a4",
   "metadata": {},
   "outputs": [
    {
     "name": "stdout",
     "output_type": "stream",
     "text": [
      "3.73 ms ± 733 µs per loop (mean ± std. dev. of 3 runs, 1 loop each)\n"
     ]
    }
   ],
   "source": [
    "%%timeit -r3 -n1\n",
    "run_diff_df = []\n",
    "for row in df_zip.itertuples():\n",
    "    run_s = row.RS\n",
    "    run_a = row.RA\n",
    "    run_diff_row = run_s - run_a\n",
    "    run_diff_df.append(run_diff_row)\n",
    "    \n",
    "df_zip['diff_df'] = run_diff_df\n",
    "df_zip.head()"
   ]
  },
  {
   "cell_type": "markdown",
   "id": "c27393ff",
   "metadata": {},
   "source": [
    "# numpy array method"
   ]
  },
  {
   "cell_type": "markdown",
   "id": "60545ba5",
   "metadata": {},
   "source": [
    "#### dataframe to numpy array"
   ]
  },
  {
   "cell_type": "code",
   "execution_count": 5,
   "id": "2058e985",
   "metadata": {},
   "outputs": [
    {
     "data": {
      "text/plain": [
       "numpy.ndarray"
      ]
     },
     "execution_count": 5,
     "metadata": {},
     "output_type": "execute_result"
    }
   ],
   "source": [
    "type(df_zip['RS'].values)"
   ]
  },
  {
   "cell_type": "markdown",
   "id": "0d5a8123",
   "metadata": {},
   "source": [
    "#### numpy method"
   ]
  },
  {
   "cell_type": "code",
   "execution_count": 13,
   "id": "84a51ae5",
   "metadata": {},
   "outputs": [
    {
     "name": "stdout",
     "output_type": "stream",
     "text": [
      "725 µs ± 290 µs per loop (mean ± std. dev. of 3 runs, 1 loop each)\n"
     ]
    }
   ],
   "source": [
    "%%timeit -r3 -n1\n",
    "run_diff_np = df_zip['RS'].values - df_zip['RA'].values\n",
    "df_zip['diff_np'] = run_diff_np\n",
    "df_zip.head()"
   ]
  },
  {
   "cell_type": "code",
   "execution_count": null,
   "id": "59036f98",
   "metadata": {},
   "outputs": [],
   "source": []
  }
 ],
 "metadata": {
  "kernelspec": {
   "display_name": "Python 3 (ipykernel)",
   "language": "python",
   "name": "python3"
  },
  "language_info": {
   "codemirror_mode": {
    "name": "ipython",
    "version": 3
   },
   "file_extension": ".py",
   "mimetype": "text/x-python",
   "name": "python",
   "nbconvert_exporter": "python",
   "pygments_lexer": "ipython3",
   "version": "3.8.8"
  }
 },
 "nbformat": 4,
 "nbformat_minor": 5
}
