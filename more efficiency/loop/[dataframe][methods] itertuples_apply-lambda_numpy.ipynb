{
 "cells": [
  {
   "cell_type": "code",
   "execution_count": 1,
   "id": "de0e39f6",
   "metadata": {},
   "outputs": [],
   "source": [
    "import random, string\n",
    "import pandas as pd\n",
    "import numpy as np\n",
    "from random import randint as rnd\n",
    "\n",
    "def strings_creator(len):\n",
    "    '''this function can give you len random strings'''\n",
    "    return ''.join(random.choice(string.ascii_letters) for i in range(len))\n",
    "def random_strings_list(string_length,list_length):\n",
    "    '''this function need combine strings_creator to make long list'''\n",
    "    return [strings_creator(string_length) for i in range(list_length)]\n",
    "\n",
    "team = []\n",
    "league = []\n",
    "year = []\n",
    "RS = []\n",
    "RA = []\n",
    "W_index = []\n",
    "G_index = []\n",
    "Playoffs = []\n",
    "for data in range(1000):\n",
    "    team.append(strings_creator(3))\n",
    "    league.append(['AL','NL'][rnd(0,1)])\n",
    "    year.append(rnd(1962,2013))\n",
    "    RS.append(rnd(600,800))\n",
    "    RA.append(rnd(600,800))\n",
    "    W_index.append(rnd(50,99))\n",
    "    G_index.append(162)\n",
    "    Playoffs.append([0,1][rnd(0,1)])\n",
    "    \n",
    "df_zip = pd.DataFrame()\n",
    "zip_data = zip(team,league,year,RS,RA,W_index,G_index,Playoffs)\n",
    "list_data = list(zip_data)\n",
    "df_zip = pd.DataFrame(list_data,columns=['team','league','year','RS','RA','W','G','Playoffs'])"
   ]
  },
  {
   "cell_type": "markdown",
   "id": "090d011e",
   "metadata": {},
   "source": [
    "# Objectives\n",
    "> cal diff with RS,RA\n",
    "\n",
    "> add in new column\n"
   ]
  },
  {
   "cell_type": "markdown",
   "id": "f397eb0d",
   "metadata": {},
   "source": [
    "# itertuple method"
   ]
  },
  {
   "cell_type": "code",
   "execution_count": 16,
   "id": "9f65faf6",
   "metadata": {},
   "outputs": [
    {
     "name": "stdout",
     "output_type": "stream",
     "text": [
      "9.01 ms ± 2.94 ms per loop (mean ± std. dev. of 3 runs, 1 loop each)\n"
     ]
    }
   ],
   "source": [
    "%%timeit -r3 -n1\n",
    "run_diff_temp = []\n",
    "\n",
    "for row in df_zip.itertuples():\n",
    "    run_s = row.RS\n",
    "    run_a = row.RA\n",
    "    run_diff_iter = run_s - run_a\n",
    "    run_diff_temp.append(run_diff_iter)\n",
    "df_zip['diff_itertuples'] = run_diff_temp\n",
    "df_zip.head()"
   ]
  },
  {
   "cell_type": "markdown",
   "id": "c414ccb9",
   "metadata": {},
   "source": [
    "# apply-lambda method"
   ]
  },
  {
   "cell_type": "code",
   "execution_count": 17,
   "id": "c31c2e87",
   "metadata": {},
   "outputs": [
    {
     "name": "stdout",
     "output_type": "stream",
     "text": [
      "32.5 ms ± 13.4 ms per loop (mean ± std. dev. of 3 runs, 1 loop each)\n"
     ]
    }
   ],
   "source": [
    "%%timeit -r3 -n1\n",
    "run_diff_apply = df_zip.apply(\n",
    "    lambda row: row.RS-row.RA,\n",
    "    axis=1\n",
    ")\n",
    "df_zip['diff_apply-lambda'] = run_diff_apply\n",
    "df_zip.head()"
   ]
  },
  {
   "cell_type": "markdown",
   "id": "61977e4b",
   "metadata": {},
   "source": [
    "# numpy method"
   ]
  },
  {
   "cell_type": "code",
   "execution_count": 19,
   "id": "4dd8309d",
   "metadata": {},
   "outputs": [
    {
     "name": "stdout",
     "output_type": "stream",
     "text": [
      "620 µs ± 306 µs per loop (mean ± std. dev. of 3 runs, 1 loop each)\n"
     ]
    }
   ],
   "source": [
    "%%timeit -r3 -n1\n",
    "run_diff_numpy = df_zip['RS'].values - df_zip['RA'].values\n",
    "df_zip['diff_numpy'] = run_diff_numpy\n",
    "df_zip.head()"
   ]
  },
  {
   "cell_type": "code",
   "execution_count": null,
   "id": "ebb544c3",
   "metadata": {},
   "outputs": [],
   "source": []
  }
 ],
 "metadata": {
  "kernelspec": {
   "display_name": "Python 3 (ipykernel)",
   "language": "python",
   "name": "python3"
  },
  "language_info": {
   "codemirror_mode": {
    "name": "ipython",
    "version": 3
   },
   "file_extension": ".py",
   "mimetype": "text/x-python",
   "name": "python",
   "nbconvert_exporter": "python",
   "pygments_lexer": "ipython3",
   "version": "3.8.8"
  }
 },
 "nbformat": 4,
 "nbformat_minor": 5
}
