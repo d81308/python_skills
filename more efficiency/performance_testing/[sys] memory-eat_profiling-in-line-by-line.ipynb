{
 "cells": [
  {
   "cell_type": "markdown",
   "id": "536f7f6f",
   "metadata": {},
   "source": [
    "# quick and dirty way\n",
    "to see the size of object"
   ]
  },
  {
   "cell_type": "code",
   "execution_count": 1,
   "id": "c03d0027",
   "metadata": {},
   "outputs": [],
   "source": [
    "import sys"
   ]
  },
  {
   "cell_type": "markdown",
   "id": "a2c77da0",
   "metadata": {},
   "source": [
    "### common list"
   ]
  },
  {
   "cell_type": "code",
   "execution_count": null,
   "id": "0319a1a4",
   "metadata": {},
   "outputs": [],
   "source": [
    "num_list = [*range(1000)]"
   ]
  },
  {
   "cell_type": "markdown",
   "id": "94668523",
   "metadata": {},
   "source": [
    "quick and dirty way check this object size"
   ]
  },
  {
   "cell_type": "code",
   "execution_count": null,
   "id": "5bb12757",
   "metadata": {},
   "outputs": [],
   "source": [
    "sys.getsizeof(num_list)"
   ]
  },
  {
   "cell_type": "markdown",
   "id": "621313e0",
   "metadata": {},
   "source": [
    "### numpy array"
   ]
  },
  {
   "cell_type": "code",
   "execution_count": 2,
   "id": "e3a9c3a8",
   "metadata": {},
   "outputs": [],
   "source": [
    "import numpy as np"
   ]
  },
  {
   "cell_type": "code",
   "execution_count": null,
   "id": "37ba7baf",
   "metadata": {},
   "outputs": [],
   "source": [
    "np_list = np.array(range(1000))"
   ]
  },
  {
   "cell_type": "code",
   "execution_count": null,
   "id": "c27fc8ab",
   "metadata": {},
   "outputs": [],
   "source": [
    "sys.getsizeof(np_list)"
   ]
  },
  {
   "cell_type": "markdown",
   "id": "9b339f5f",
   "metadata": {},
   "source": [
    "# how about line by line of process\n",
    "the code profiling can be used"
   ]
  },
  {
   "cell_type": "markdown",
   "id": "2167793e",
   "metadata": {},
   "source": [
    "#### the testing def function"
   ]
  },
  {
   "cell_type": "code",
   "execution_count": 3,
   "id": "213f6f5b",
   "metadata": {},
   "outputs": [],
   "source": [
    "heros = ['A','B','C']\n",
    "heights = np.array([166,177,188])\n",
    "weights = np.array([66,77,88])"
   ]
  },
  {
   "cell_type": "code",
   "execution_count": 4,
   "id": "0a28c8f7",
   "metadata": {},
   "outputs": [],
   "source": [
    "def convert_unit(heros,heights,weights):\n",
    "    new_hts = [ht*0.3 for ht in heights]\n",
    "    new_wts = [wt*0.3 for wt in weights]\n",
    "    \n",
    "    hero_data = {}\n",
    "    \n",
    "    for i,hero in enumerate(heros):\n",
    "        hero_data[hero] = (new_hts[i],new_wts[i])\n",
    "    return hero_data"
   ]
  },
  {
   "cell_type": "markdown",
   "id": "c3683b14",
   "metadata": {},
   "source": [
    "install memory profiler"
   ]
  },
  {
   "cell_type": "code",
   "execution_count": 5,
   "id": "0e9b7650",
   "metadata": {},
   "outputs": [
    {
     "name": "stdout",
     "output_type": "stream",
     "text": [
      "Requirement already satisfied: memory_profiler in /Users/jianlin/opt/anaconda3/lib/python3.8/site-packages (0.61.0)\r\n",
      "Requirement already satisfied: psutil in /Users/jianlin/opt/anaconda3/lib/python3.8/site-packages (from memory_profiler) (5.8.0)\r\n"
     ]
    }
   ],
   "source": [
    "!pip install memory_profiler"
   ]
  },
  {
   "cell_type": "markdown",
   "id": "caed7450",
   "metadata": {},
   "source": [
    "execute the memory_profiler"
   ]
  },
  {
   "cell_type": "code",
   "execution_count": 6,
   "id": "a581e82b",
   "metadata": {},
   "outputs": [],
   "source": [
    "%load_ext memory_profiler"
   ]
  },
  {
   "cell_type": "markdown",
   "id": "db883ba5",
   "metadata": {},
   "source": [
    "### using memory profiler\n",
    "> need use function into .py file"
   ]
  },
  {
   "cell_type": "code",
   "execution_count": 7,
   "id": "d1fa4f84",
   "metadata": {},
   "outputs": [
    {
     "name": "stdout",
     "output_type": "stream",
     "text": [
      "ERROR: Could not find file /var/folders/mb/4w5mrg7x62n5zjjmglmkztr80000gn/T/ipykernel_10916/320339664.py\n",
      "\n"
     ]
    }
   ],
   "source": [
    "%mprun -f convert_unit convert_unit(heros,heights,weights)"
   ]
  },
  {
   "cell_type": "code",
   "execution_count": 9,
   "id": "2ee2faeb",
   "metadata": {},
   "outputs": [],
   "source": [
    "from convert_unit import convert_unit"
   ]
  },
  {
   "cell_type": "code",
   "execution_count": 10,
   "id": "8a08e707",
   "metadata": {},
   "outputs": [
    {
     "name": "stdout",
     "output_type": "stream",
     "text": [
      "\n"
     ]
    }
   ],
   "source": [
    "%mprun -f convert_unit convert_unit(heros,heights,weights)"
   ]
  },
  {
   "cell_type": "code",
   "execution_count": null,
   "id": "ee68eec5",
   "metadata": {},
   "outputs": [],
   "source": []
  }
 ],
 "metadata": {
  "kernelspec": {
   "display_name": "Python 3 (ipykernel)",
   "language": "python",
   "name": "python3"
  },
  "language_info": {
   "codemirror_mode": {
    "name": "ipython",
    "version": 3
   },
   "file_extension": ".py",
   "mimetype": "text/x-python",
   "name": "python",
   "nbconvert_exporter": "python",
   "pygments_lexer": "ipython3",
   "version": "3.8.8"
  }
 },
 "nbformat": 4,
 "nbformat_minor": 5
}
