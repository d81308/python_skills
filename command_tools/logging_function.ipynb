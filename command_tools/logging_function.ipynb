{
 "cells": [
  {
   "cell_type": "markdown",
   "id": "bd2902e8",
   "metadata": {},
   "source": [
    "# logging function"
   ]
  },
  {
   "cell_type": "code",
   "execution_count": 1,
   "id": "b9f75d34",
   "metadata": {},
   "outputs": [
    {
     "data": {
      "application/javascript": [
       "\n",
       "console.log('Starting front end url_querystring_target comm target');\n",
       "const comm = Jupyter.notebook.kernel.comm_manager.new_comm('url_querystring_target', {'init': 1});\n",
       "comm.send({'ipyparams_browser_url': window.location.href});\n",
       "console.log('Sent window.location.href on url_querystring_target comm target');\n",
       "\n",
       "comm.on_msg(function(msg) {\n",
       "    console.log(msg.content.data);\n",
       "});\n"
      ],
      "text/plain": [
       "<IPython.core.display.Javascript object>"
      ]
     },
     "metadata": {},
     "output_type": "display_data"
    }
   ],
   "source": [
    "from datetime import datetime\n",
    "import ipyparams\n",
    "\n",
    "def file_name():\n",
    "    currentNotebook = ipyparams.notebook_name\n",
    "    split_name = currentNotebook.split(\".\")\n",
    "    return str(split_name[0])\n",
    "\n",
    "def log(prioity,messenage):\n",
    "    #determine file name\n",
    "    log_file = file_name() + \"_log_file.txt\"\n",
    "    print(log_file)\n",
    "    #logging function\n",
    "    datetime_stamp = \"%Y-%m-%d %H:%M:%S\"\n",
    "    now_time = datetime.now()\n",
    "    datetime_log = now_time.strftime(datetime_stamp)\n",
    "    with open(log_file,'a') as f:\n",
    "        f.write(datetime_log + ',' + '[' + prioity + ']' + messenage + '\\n')"
   ]
  },
  {
   "cell_type": "code",
   "execution_count": null,
   "id": "46fcc058",
   "metadata": {},
   "outputs": [],
   "source": [
    "log(\"action\",\"start to use sqlite3 and load_ext sql\")"
   ]
  }
 ],
 "metadata": {
  "kernelspec": {
   "display_name": "Python 3",
   "language": "python",
   "name": "python3"
  },
  "language_info": {
   "codemirror_mode": {
    "name": "ipython",
    "version": 3
   },
   "file_extension": ".py",
   "mimetype": "text/x-python",
   "name": "python",
   "nbconvert_exporter": "python",
   "pygments_lexer": "ipython3",
   "version": "3.8.8"
  }
 },
 "nbformat": 4,
 "nbformat_minor": 5
}
