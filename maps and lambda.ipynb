{
 "cells": [
  {
   "cell_type": "markdown",
   "id": "70014a8e",
   "metadata": {},
   "source": [
    "# we know about enumerate can generate index\n",
    "# how about generate cals"
   ]
  },
  {
   "cell_type": "code",
   "execution_count": null,
   "id": "4fc5b344",
   "metadata": {},
   "outputs": [],
   "source": [
    "import pandas as pd"
   ]
  },
  {
   "cell_type": "code",
   "execution_count": null,
   "id": "a71fd31a",
   "metadata": {},
   "outputs": [],
   "source": [
    "list = [1,2,3,4,5]"
   ]
  },
  {
   "cell_type": "code",
   "execution_count": null,
   "id": "23be13aa",
   "metadata": {},
   "outputs": [],
   "source": [
    "sqrt_list = map(lambda x:x**2,list)\n",
    "print(sqrt_list)"
   ]
  },
  {
   "cell_type": "code",
   "execution_count": null,
   "id": "f3077e76",
   "metadata": {},
   "outputs": [],
   "source": [
    "for num in sqrt_list:\n",
    "    print(num)"
   ]
  },
  {
   "cell_type": "markdown",
   "id": "6a08c0c0",
   "metadata": {},
   "source": [
    "# numpy is best choose to calculate list"
   ]
  },
  {
   "cell_type": "code",
   "execution_count": null,
   "id": "56ea6cb2",
   "metadata": {},
   "outputs": [],
   "source": [
    "nums = range(0,5)\n",
    "print(type(nums))\n",
    "\n",
    "nums_list = list(nums)\n",
    "print(nums_list)\n",
    "\n",
    "nums_list2 = range(1,11,2)\n",
    "print(nums_list2)"
   ]
  },
  {
   "cell_type": "code",
   "execution_count": 4,
   "id": "ca2f85c8",
   "metadata": {},
   "outputs": [
    {
     "name": "stdout",
     "output_type": "stream",
     "text": [
      "range(1, 11, 2)\n"
     ]
    }
   ],
   "source": [
    "nums_list2 = range(1,11,2)\n",
    "print(nums_list2)"
   ]
  },
  {
   "cell_type": "code",
   "execution_count": 8,
   "id": "c9afeee5",
   "metadata": {},
   "outputs": [
    {
     "data": {
      "text/plain": [
       "[1, 3, 5, 7, 9]"
      ]
     },
     "execution_count": 8,
     "metadata": {},
     "output_type": "execute_result"
    }
   ],
   "source": [
    "nums_list3 = []\n",
    "for i in range(1,11,2):\n",
    "    nums_list3.append(i)\n",
    "nums_list3"
   ]
  },
  {
   "cell_type": "code",
   "execution_count": 9,
   "id": "e1ac27ea",
   "metadata": {},
   "outputs": [
    {
     "data": {
      "text/plain": [
       "[1, 3, 5, 7, 9]"
      ]
     },
     "execution_count": 9,
     "metadata": {},
     "output_type": "execute_result"
    }
   ],
   "source": [
    "num_list4 = [*range(1,11,2)]\n",
    "num_list4"
   ]
  },
  {
   "cell_type": "code",
   "execution_count": null,
   "id": "b94d0881",
   "metadata": {},
   "outputs": [],
   "source": []
  }
 ],
 "metadata": {
  "kernelspec": {
   "display_name": "Python 3",
   "language": "python",
   "name": "python3"
  },
  "language_info": {
   "codemirror_mode": {
    "name": "ipython",
    "version": 3
   },
   "file_extension": ".py",
   "mimetype": "text/x-python",
   "name": "python",
   "nbconvert_exporter": "python",
   "pygments_lexer": "ipython3",
   "version": "3.8.8"
  }
 },
 "nbformat": 4,
 "nbformat_minor": 5
}
