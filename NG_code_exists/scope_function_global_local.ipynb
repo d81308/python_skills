{
 "cells": [
  {
   "cell_type": "markdown",
   "id": "7073d7c7",
   "metadata": {},
   "source": [
    "# global vs local scope"
   ]
  },
  {
   "cell_type": "markdown",
   "id": "82a465f9",
   "metadata": {},
   "source": [
    "    #local scope"
   ]
  },
  {
   "cell_type": "code",
   "execution_count": 1,
   "id": "f85a378a",
   "metadata": {},
   "outputs": [
    {
     "data": {
      "text/plain": [
       "9"
      ]
     },
     "execution_count": 1,
     "metadata": {},
     "output_type": "execute_result"
    }
   ],
   "source": [
    "#make new_val is local scope\n",
    "def square(value):\n",
    "    new_val = value ** 2\n",
    "    return new_val\n",
    "square(3)"
   ]
  },
  {
   "cell_type": "code",
   "execution_count": 2,
   "id": "4df7940b",
   "metadata": {},
   "outputs": [
    {
     "ename": "NameError",
     "evalue": "name 'new_val' is not defined",
     "output_type": "error",
     "traceback": [
      "\u001b[0;31m---------------------------------------------------------------------------\u001b[0m",
      "\u001b[0;31mNameError\u001b[0m                                 Traceback (most recent call last)",
      "Cell \u001b[0;32mIn[2], line 1\u001b[0m\n\u001b[0;32m----> 1\u001b[0m \u001b[43mnew_val\u001b[49m\n",
      "\u001b[0;31mNameError\u001b[0m: name 'new_val' is not defined"
     ]
    }
   ],
   "source": [
    "new_val"
   ]
  },
  {
   "cell_type": "markdown",
   "id": "52c48907",
   "metadata": {},
   "source": [
    "    #global scope"
   ]
  },
  {
   "cell_type": "code",
   "execution_count": 3,
   "id": "d25f6073",
   "metadata": {},
   "outputs": [],
   "source": [
    "#global in here\n",
    "new_val2 = 10"
   ]
  },
  {
   "cell_type": "code",
   "execution_count": 6,
   "id": "6c1bfe95",
   "metadata": {},
   "outputs": [],
   "source": [
    "def square2(value):\n",
    "    new_val2 = value ** 2\n",
    "    return new_val2"
   ]
  },
  {
   "cell_type": "code",
   "execution_count": 10,
   "id": "a4dc5735",
   "metadata": {},
   "outputs": [
    {
     "data": {
      "text/plain": [
       "<function __main__.square2(value)>"
      ]
     },
     "execution_count": 10,
     "metadata": {},
     "output_type": "execute_result"
    }
   ],
   "source": [
    "square2"
   ]
  },
  {
   "cell_type": "code",
   "execution_count": 8,
   "id": "a7755d6b",
   "metadata": {},
   "outputs": [
    {
     "data": {
      "text/plain": [
       "10"
      ]
     },
     "execution_count": 8,
     "metadata": {},
     "output_type": "execute_result"
    }
   ],
   "source": [
    "new_val2"
   ]
  },
  {
   "cell_type": "markdown",
   "id": "daf14cc1",
   "metadata": {},
   "source": [
    "    #global send in local"
   ]
  },
  {
   "cell_type": "code",
   "execution_count": 16,
   "id": "a3d2f835",
   "metadata": {},
   "outputs": [],
   "source": [
    "#global in here\n",
    "new_val3 = 10\n",
    "def square3(value):\n",
    "    new_sq_v3 = new_val3 **2\n",
    "    return new_sq_v3"
   ]
  },
  {
   "cell_type": "code",
   "execution_count": 19,
   "id": "be60b14e",
   "metadata": {},
   "outputs": [
    {
     "data": {
      "text/plain": [
       "100"
      ]
     },
     "execution_count": 19,
     "metadata": {},
     "output_type": "execute_result"
    }
   ],
   "source": [
    "square3(1)"
   ]
  },
  {
   "cell_type": "markdown",
   "id": "0ea45548",
   "metadata": {},
   "source": [
    "    #global into local\n",
    "    but local scope cant use global variable"
   ]
  },
  {
   "cell_type": "code",
   "execution_count": 20,
   "id": "26a6a8ac",
   "metadata": {},
   "outputs": [],
   "source": [
    "def square4(value):\n",
    "    new_val3 = new_val3 ** 2\n",
    "    return new_val3"
   ]
  },
  {
   "cell_type": "code",
   "execution_count": 21,
   "id": "8d106dd5",
   "metadata": {},
   "outputs": [
    {
     "name": "stdout",
     "output_type": "stream",
     "text": [
      "10\n"
     ]
    },
    {
     "ename": "UnboundLocalError",
     "evalue": "local variable 'new_val3' referenced before assignment",
     "output_type": "error",
     "traceback": [
      "\u001b[0;31m---------------------------------------------------------------------------\u001b[0m",
      "\u001b[0;31mUnboundLocalError\u001b[0m                         Traceback (most recent call last)",
      "Cell \u001b[0;32mIn[21], line 2\u001b[0m\n\u001b[1;32m      1\u001b[0m \u001b[38;5;28mprint\u001b[39m(new_val3)\n\u001b[0;32m----> 2\u001b[0m \u001b[38;5;28mprint\u001b[39m(\u001b[43msquare4\u001b[49m\u001b[43m(\u001b[49m\u001b[38;5;241;43m1\u001b[39;49m\u001b[43m)\u001b[49m)\n",
      "Cell \u001b[0;32mIn[20], line 2\u001b[0m, in \u001b[0;36msquare4\u001b[0;34m(value)\u001b[0m\n\u001b[1;32m      1\u001b[0m \u001b[38;5;28;01mdef\u001b[39;00m \u001b[38;5;21msquare4\u001b[39m(value):\n\u001b[0;32m----> 2\u001b[0m     new_val3 \u001b[38;5;241m=\u001b[39m \u001b[43mnew_val3\u001b[49m \u001b[38;5;241m*\u001b[39m\u001b[38;5;241m*\u001b[39m \u001b[38;5;241m2\u001b[39m\n\u001b[1;32m      3\u001b[0m     \u001b[38;5;28;01mreturn\u001b[39;00m new_val3\n",
      "\u001b[0;31mUnboundLocalError\u001b[0m: local variable 'new_val3' referenced before assignment"
     ]
    }
   ],
   "source": [
    "print(new_val3)\n",
    "print(square4(1))"
   ]
  },
  {
   "cell_type": "code",
   "execution_count": 26,
   "id": "86edb2cf",
   "metadata": {},
   "outputs": [],
   "source": [
    "def square_4_debug(value):\n",
    "    #define global\n",
    "    global new_val_4\n",
    "    new_val_4 = new_val_4 ** 2\n",
    "    return new_val_4"
   ]
  },
  {
   "cell_type": "code",
   "execution_count": 27,
   "id": "0ac41efa",
   "metadata": {},
   "outputs": [
    {
     "name": "stdout",
     "output_type": "stream",
     "text": [
      "10\n",
      "100\n",
      "100\n"
     ]
    }
   ],
   "source": [
    "new_val_4 = 10\n",
    "print(new_val_4)\n",
    "print(square_4_debug(1))\n",
    "print(new_val_4)"
   ]
  },
  {
   "cell_type": "code",
   "execution_count": null,
   "id": "7fca0fda",
   "metadata": {},
   "outputs": [],
   "source": []
  }
 ],
 "metadata": {
  "kernelspec": {
   "display_name": "Python 3 (ipykernel)",
   "language": "python",
   "name": "python3"
  },
  "language_info": {
   "codemirror_mode": {
    "name": "ipython",
    "version": 3
   },
   "file_extension": ".py",
   "mimetype": "text/x-python",
   "name": "python",
   "nbconvert_exporter": "python",
   "pygments_lexer": "ipython3",
   "version": "3.8.8"
  }
 },
 "nbformat": 4,
 "nbformat_minor": 5
}
