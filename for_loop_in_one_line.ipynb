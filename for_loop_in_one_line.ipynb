{
 "cells": [
  {
   "cell_type": "code",
   "execution_count": 1,
   "id": "28dc118c",
   "metadata": {},
   "outputs": [],
   "source": [
    "import pandas as pd"
   ]
  },
  {
   "cell_type": "code",
   "execution_count": 2,
   "id": "ad9a0ce4",
   "metadata": {},
   "outputs": [],
   "source": [
    "names = ['AAAAA','AAA','AAAA','AA']"
   ]
  },
  {
   "cell_type": "markdown",
   "id": "9ffe239e",
   "metadata": {},
   "source": [
    "# Common for loop"
   ]
  },
  {
   "cell_type": "code",
   "execution_count": 3,
   "id": "7344facc",
   "metadata": {},
   "outputs": [],
   "source": [
    "better_list = []"
   ]
  },
  {
   "cell_type": "code",
   "execution_count": 4,
   "id": "21b62d54",
   "metadata": {},
   "outputs": [],
   "source": [
    "for name in names:\n",
    "    if len(name) >= 4:\n",
    "        better_list.append(name)"
   ]
  },
  {
   "cell_type": "code",
   "execution_count": 5,
   "id": "dbf931e7",
   "metadata": {},
   "outputs": [
    {
     "name": "stdout",
     "output_type": "stream",
     "text": [
      "['AAAAA', 'AAAA']\n"
     ]
    }
   ],
   "source": [
    "print(better_list)"
   ]
  },
  {
   "cell_type": "markdown",
   "id": "3abe22c0",
   "metadata": {},
   "source": [
    "# One line skill"
   ]
  },
  {
   "cell_type": "code",
   "execution_count": 6,
   "id": "a84eb206",
   "metadata": {},
   "outputs": [],
   "source": [
    "best_list = []"
   ]
  },
  {
   "cell_type": "code",
   "execution_count": 8,
   "id": "26543d6f",
   "metadata": {},
   "outputs": [],
   "source": [
    "best_list = [name for name in names if len(name)>=4]"
   ]
  },
  {
   "cell_type": "code",
   "execution_count": 9,
   "id": "b4a25e63",
   "metadata": {},
   "outputs": [
    {
     "data": {
      "text/plain": [
       "['AAAAA', 'AAAA']"
      ]
     },
     "execution_count": 9,
     "metadata": {},
     "output_type": "execute_result"
    }
   ],
   "source": [
    "best_list"
   ]
  },
  {
   "cell_type": "code",
   "execution_count": null,
   "id": "d3b2d0c6",
   "metadata": {},
   "outputs": [],
   "source": []
  }
 ],
 "metadata": {
  "kernelspec": {
   "display_name": "Python 3",
   "language": "python",
   "name": "python3"
  },
  "language_info": {
   "codemirror_mode": {
    "name": "ipython",
    "version": 3
   },
   "file_extension": ".py",
   "mimetype": "text/x-python",
   "name": "python",
   "nbconvert_exporter": "python",
   "pygments_lexer": "ipython3",
   "version": "3.8.8"
  }
 },
 "nbformat": 4,
 "nbformat_minor": 5
}
