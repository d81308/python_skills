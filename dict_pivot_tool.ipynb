{
 "cells": [
  {
   "cell_type": "markdown",
   "id": "53033a0d",
   "metadata": {},
   "source": [
    "    this dict work can count by each word in the list\n",
    "    like pivot table in excel\n",
    "    to sum up each specific word in messy_list"
   ]
  },
  {
   "cell_type": "code",
   "execution_count": 1,
   "id": "84b2bbe2",
   "metadata": {},
   "outputs": [],
   "source": [
    "messy_list = ['a','a','b','b','b','c','c','d','d','d','d','d']"
   ]
  },
  {
   "cell_type": "code",
   "execution_count": 2,
   "id": "3b0c2934",
   "metadata": {},
   "outputs": [],
   "source": [
    "ori_dict = {}"
   ]
  },
  {
   "cell_type": "code",
   "execution_count": 3,
   "id": "d782e8ac",
   "metadata": {},
   "outputs": [],
   "source": [
    "for word in messy_list:\n",
    "    if word in ori_dict.keys():\n",
    "        ori_dict[word] += 1\n",
    "    else:\n",
    "        ori_dict[word] = 1"
   ]
  },
  {
   "cell_type": "code",
   "execution_count": 4,
   "id": "25c1dfbc",
   "metadata": {},
   "outputs": [
    {
     "name": "stdout",
     "output_type": "stream",
     "text": [
      "{'a': 2, 'b': 3, 'c': 2, 'd': 5}\n"
     ]
    }
   ],
   "source": [
    "print(ori_dict)"
   ]
  },
  {
   "cell_type": "code",
   "execution_count": null,
   "id": "aea89b10",
   "metadata": {},
   "outputs": [],
   "source": []
  }
 ],
 "metadata": {
  "kernelspec": {
   "display_name": "Python 3 (ipykernel)",
   "language": "python",
   "name": "python3"
  },
  "language_info": {
   "codemirror_mode": {
    "name": "ipython",
    "version": 3
   },
   "file_extension": ".py",
   "mimetype": "text/x-python",
   "name": "python",
   "nbconvert_exporter": "python",
   "pygments_lexer": "ipython3",
   "version": "3.8.8"
  }
 },
 "nbformat": 4,
 "nbformat_minor": 5
}
