{
 "cells": [
  {
   "cell_type": "code",
   "execution_count": 2,
   "id": "39e7fb13",
   "metadata": {},
   "outputs": [],
   "source": [
    "#get table list in database\n",
    "#getting list of tables in the database\n"
   ]
  },
  {
   "cell_type": "markdown",
   "id": "a7e635da",
   "metadata": {},
   "source": [
    "# my method"
   ]
  },
  {
   "cell_type": "code",
   "execution_count": 1,
   "id": "088665bf",
   "metadata": {},
   "outputs": [],
   "source": [
    "#magic method\n",
    "%sql SELECT name FROM sqlite_schema WHERE type='table';"
   ]
  },
  {
   "cell_type": "code",
   "execution_count": null,
   "id": "165ff663",
   "metadata": {},
   "outputs": [],
   "source": [
    "#sqlite3 method\n",
    "result = cur.execute(\"\"\" SELECT name FROM sqlite_master WHERE type='table';\"\"\")\n",
    "print(result.fetchall())"
   ]
  },
  {
   "cell_type": "markdown",
   "id": "faf8ef58",
   "metadata": {},
   "source": [
    "# Each database server used"
   ]
  },
  {
   "cell_type": "markdown",
   "id": "37872c66",
   "metadata": {},
   "source": [
    "    # IBM-DB2\n",
    "    SYSCAT.TABLES"
   ]
  },
  {
   "cell_type": "markdown",
   "id": "75b92bf1",
   "metadata": {},
   "source": [
    "    # SQL server\n",
    "    INFORMATION_SCHEMA.TABLES"
   ]
  },
  {
   "cell_type": "markdown",
   "id": "916779fe",
   "metadata": {},
   "source": [
    "    # Oracle\n",
    "    ALL_TABLES\n",
    "    USER_TABLES"
   ]
  },
  {
   "cell_type": "markdown",
   "id": "9320030e",
   "metadata": {},
   "source": [
    "# getting a list of columns"
   ]
  },
  {
   "cell_type": "markdown",
   "id": "4fa67813",
   "metadata": {},
   "source": [
    "#### for example with DB2"
   ]
  },
  {
   "cell_type": "markdown",
   "id": "af498b11",
   "metadata": {},
   "source": [
    "    select * from syscat.columns\n",
    "        where tabname = 'DOGS'"
   ]
  },
  {
   "cell_type": "markdown",
   "id": "a92b1d32",
   "metadata": {},
   "source": [
    "    #to obtain specific column properties\n",
    "    select distinct(name), coltype, length\n",
    "    from sysibm.syscolumns\n",
    "    where tabname = 'DOGS"
   ]
  },
  {
   "cell_type": "code",
   "execution_count": null,
   "id": "2baaab3a",
   "metadata": {},
   "outputs": [],
   "source": []
  }
 ],
 "metadata": {
  "kernelspec": {
   "display_name": "Python 3",
   "language": "python",
   "name": "python3"
  },
  "language_info": {
   "codemirror_mode": {
    "name": "ipython",
    "version": 3
   },
   "file_extension": ".py",
   "mimetype": "text/x-python",
   "name": "python",
   "nbconvert_exporter": "python",
   "pygments_lexer": "ipython3",
   "version": "3.8.8"
  }
 },
 "nbformat": 4,
 "nbformat_minor": 5
}
